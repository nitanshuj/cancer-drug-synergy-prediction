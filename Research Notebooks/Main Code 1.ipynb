{
 "cells": [
  {
   "cell_type": "code",
   "execution_count": 8,
   "metadata": {
    "colab": {
     "base_uri": "https://localhost:8080/"
    },
    "id": "CMq8ReGENcIw",
    "outputId": "b81eac0d-622e-4722-f271-32149c6775c5"
   },
   "outputs": [],
   "source": [
    "# !pip install episcanpy\n",
    "# !pip install scanpy\n",
    "# !pip install anndata\n",
    "# !pip install desc\n",
    "# !pip install display\n",
    "# !pip install --pre deepchem --user\n",
    "# !pip install nfp\n",
    "\n",
    "# !pip install --force-reinstall numpy==1.19.5\n",
    "#!conda install -c conda-forge scanpy python-igraph leidenalg"
   ]
  },
  {
   "cell_type": "code",
   "execution_count": 7,
   "metadata": {
    "colab": {
     "base_uri": "https://localhost:8080/"
    },
    "id": "J5gtEHG-HLb8",
    "outputId": "ff8bc49d-751e-4c51-cd97-e7474599594f",
    "scrolled": true
   },
   "outputs": [],
   "source": [
    "# -------------\n",
    "# Basic Imports\n",
    "# -------------\n",
    "import numpy as np, pandas as pd, gzip, csv, os, matplotlib.pyplot as plt, warnings, requests\n",
    "from sklearn.metrics import classification_report, plot_confusion_matrix, confusion_matrix\n",
    "from sklearn.preprocessing import StandardScaler\n",
    "\n",
    "\n",
    "%matplotlib inline\n",
    "warnings.filterwarnings(\"ignore\")\n",
    "\n",
    "# --------------------------\n",
    "# Imports for Bioinformatics\n",
    "# --------------------------\n",
    "import scanpy as sc\n",
    "\n",
    "import deepchem as dc\n",
    "dc.__version__\n",
    "\n",
    "from rdkit import Chem\n",
    "from rdkit.Chem import RDKFingerprint\n",
    "\n",
    "# import desc as desc\n",
    "\n",
    "# verbosity: errors (0), warnings (1), info (2), hints (3)\n",
    "sc.settings.verbosity = 3             \n",
    "sc.logging.print_header()\n",
    "sc.settings.set_figure_params(dpi=80, facecolor='white')"
   ]
  },
  {
   "cell_type": "code",
   "execution_count": null,
   "metadata": {
    "id": "k5ToLzrOknKj"
   },
   "outputs": [],
   "source": []
  },
  {
   "cell_type": "code",
   "execution_count": null,
   "metadata": {},
   "outputs": [],
   "source": []
  },
  {
   "attachments": {},
   "cell_type": "markdown",
   "metadata": {
    "id": "7Rv27Z-ucIS4"
   },
   "source": [
    "#### Creating Circular Fingerprints ( Neural based fingerprint creation - GNN )"
   ]
  },
  {
   "cell_type": "code",
   "execution_count": 4,
   "metadata": {
    "id": "V3ZgKiyhcD31"
   },
   "outputs": [
    {
     "name": "stdout",
     "output_type": "stream",
     "text": [
      "(23052, 8)\n"
     ]
    },
    {
     "data": {
      "text/html": [
       "<div>\n",
       "<style scoped>\n",
       "    .dataframe tbody tr th:only-of-type {\n",
       "        vertical-align: middle;\n",
       "    }\n",
       "\n",
       "    .dataframe tbody tr th {\n",
       "        vertical-align: top;\n",
       "    }\n",
       "\n",
       "    .dataframe thead th {\n",
       "        text-align: right;\n",
       "    }\n",
       "</style>\n",
       "<table border=\"1\" class=\"dataframe\">\n",
       "  <thead>\n",
       "    <tr style=\"text-align: right;\">\n",
       "      <th></th>\n",
       "      <th>Unnamed: 0</th>\n",
       "      <th>drug_a_name</th>\n",
       "      <th>drug_b_name</th>\n",
       "      <th>cell_line</th>\n",
       "      <th>synergy</th>\n",
       "      <th>fold</th>\n",
       "      <th>drug_a_structure</th>\n",
       "      <th>drug_b_structure</th>\n",
       "    </tr>\n",
       "  </thead>\n",
       "  <tbody>\n",
       "    <tr>\n",
       "      <th>0</th>\n",
       "      <td>5-FU_ABT-888_A2058</td>\n",
       "      <td>5-FU</td>\n",
       "      <td>ABT-888</td>\n",
       "      <td>A2058</td>\n",
       "      <td>7.693530</td>\n",
       "      <td>2</td>\n",
       "      <td>O=c1[nH]cc(F)c(=O)[nH]1</td>\n",
       "      <td>CC1(c2nc3c(C(N)=O)cccc3[nH]2)CCCN1</td>\n",
       "    </tr>\n",
       "    <tr>\n",
       "      <th>1</th>\n",
       "      <td>5-FU_ABT-888_A2780</td>\n",
       "      <td>5-FU</td>\n",
       "      <td>ABT-888</td>\n",
       "      <td>A2780</td>\n",
       "      <td>7.778053</td>\n",
       "      <td>2</td>\n",
       "      <td>O=c1[nH]cc(F)c(=O)[nH]1</td>\n",
       "      <td>CC1(c2nc3c(C(N)=O)cccc3[nH]2)CCCN1</td>\n",
       "    </tr>\n",
       "    <tr>\n",
       "      <th>2</th>\n",
       "      <td>5-FU_ABT-888_A375</td>\n",
       "      <td>5-FU</td>\n",
       "      <td>ABT-888</td>\n",
       "      <td>A375</td>\n",
       "      <td>-1.198505</td>\n",
       "      <td>2</td>\n",
       "      <td>O=c1[nH]cc(F)c(=O)[nH]1</td>\n",
       "      <td>CC1(c2nc3c(C(N)=O)cccc3[nH]2)CCCN1</td>\n",
       "    </tr>\n",
       "    <tr>\n",
       "      <th>3</th>\n",
       "      <td>5-FU_ABT-888_A427</td>\n",
       "      <td>5-FU</td>\n",
       "      <td>ABT-888</td>\n",
       "      <td>A427</td>\n",
       "      <td>2.595684</td>\n",
       "      <td>2</td>\n",
       "      <td>O=c1[nH]cc(F)c(=O)[nH]1</td>\n",
       "      <td>CC1(c2nc3c(C(N)=O)cccc3[nH]2)CCCN1</td>\n",
       "    </tr>\n",
       "    <tr>\n",
       "      <th>4</th>\n",
       "      <td>5-FU_ABT-888_CAOV3</td>\n",
       "      <td>5-FU</td>\n",
       "      <td>ABT-888</td>\n",
       "      <td>CAOV3</td>\n",
       "      <td>-5.139971</td>\n",
       "      <td>2</td>\n",
       "      <td>O=c1[nH]cc(F)c(=O)[nH]1</td>\n",
       "      <td>CC1(c2nc3c(C(N)=O)cccc3[nH]2)CCCN1</td>\n",
       "    </tr>\n",
       "  </tbody>\n",
       "</table>\n",
       "</div>"
      ],
      "text/plain": [
       "           Unnamed: 0 drug_a_name drug_b_name cell_line   synergy  fold  \\\n",
       "0  5-FU_ABT-888_A2058        5-FU     ABT-888     A2058  7.693530     2   \n",
       "1  5-FU_ABT-888_A2780        5-FU     ABT-888     A2780  7.778053     2   \n",
       "2   5-FU_ABT-888_A375        5-FU     ABT-888      A375 -1.198505     2   \n",
       "3   5-FU_ABT-888_A427        5-FU     ABT-888      A427  2.595684     2   \n",
       "4  5-FU_ABT-888_CAOV3        5-FU     ABT-888     CAOV3 -5.139971     2   \n",
       "\n",
       "          drug_a_structure                    drug_b_structure  \n",
       "0  O=c1[nH]cc(F)c(=O)[nH]1  CC1(c2nc3c(C(N)=O)cccc3[nH]2)CCCN1  \n",
       "1  O=c1[nH]cc(F)c(=O)[nH]1  CC1(c2nc3c(C(N)=O)cccc3[nH]2)CCCN1  \n",
       "2  O=c1[nH]cc(F)c(=O)[nH]1  CC1(c2nc3c(C(N)=O)cccc3[nH]2)CCCN1  \n",
       "3  O=c1[nH]cc(F)c(=O)[nH]1  CC1(c2nc3c(C(N)=O)cccc3[nH]2)CCCN1  \n",
       "4  O=c1[nH]cc(F)c(=O)[nH]1  CC1(c2nc3c(C(N)=O)cccc3[nH]2)CCCN1  "
      ]
     },
     "execution_count": 4,
     "metadata": {},
     "output_type": "execute_result"
    }
   ],
   "source": [
    "train_data_path = \".\"\n",
    "main_data = pd.read_csv(train_data_path+'/final_data.csv')\n",
    "print(main_data.shape)\n",
    "main_data.head()\n"
   ]
  },
  {
   "cell_type": "code",
   "execution_count": 5,
   "metadata": {
    "id": "FNRTYmoPcD6D"
   },
   "outputs": [
    {
     "data": {
      "text/html": [
       "<div>\n",
       "<style scoped>\n",
       "    .dataframe tbody tr th:only-of-type {\n",
       "        vertical-align: middle;\n",
       "    }\n",
       "\n",
       "    .dataframe tbody tr th {\n",
       "        vertical-align: top;\n",
       "    }\n",
       "\n",
       "    .dataframe thead th {\n",
       "        text-align: right;\n",
       "    }\n",
       "</style>\n",
       "<table border=\"1\" class=\"dataframe\">\n",
       "  <thead>\n",
       "    <tr style=\"text-align: right;\">\n",
       "      <th></th>\n",
       "      <th>drug_a_structure</th>\n",
       "      <th>drug_b_structure</th>\n",
       "      <th>cell_line</th>\n",
       "      <th>synergy</th>\n",
       "    </tr>\n",
       "  </thead>\n",
       "  <tbody>\n",
       "    <tr>\n",
       "      <th>0</th>\n",
       "      <td>CCC1(O)CC2CN(CCc3c([nH]c4ccccc34)C(C(=O)OC)(c3...</td>\n",
       "      <td>CS(=O)(=O)CCNCc1ccc(-c2ccc3ncnc(Nc4ccc(OCc5ccc...</td>\n",
       "      <td>MDAMB436</td>\n",
       "      <td>-15.418132</td>\n",
       "    </tr>\n",
       "    <tr>\n",
       "      <th>1</th>\n",
       "      <td>O=P1(N(CCCl)CCCl)NCCCO1</td>\n",
       "      <td>COC1=C2CC(C)CC(OC)C(O)C(C)C=C(C)C(OC(N)=O)C(OC...</td>\n",
       "      <td>UWB1289</td>\n",
       "      <td>-8.103769</td>\n",
       "    </tr>\n",
       "    <tr>\n",
       "      <th>2</th>\n",
       "      <td>CN1C(=O)C=CC2(C)C3CCC4(C)C(NC(=O)OCC(F)(F)F)CC...</td>\n",
       "      <td>CC1CC2C3CCC4=CC(=O)C=CC4(C)C3(F)C(O)CC2(C)C1(O...</td>\n",
       "      <td>NCIH23</td>\n",
       "      <td>2.450127</td>\n",
       "    </tr>\n",
       "    <tr>\n",
       "      <th>3</th>\n",
       "      <td>O=S1(=O)NC2(CN1CC(F)(F)F)C1CCC2Cc2cc(C=CCN3CCC...</td>\n",
       "      <td>C#Cc1cccc(Nc2ncnc3cc(OCCOC)c(OCCOC)cc23)c1</td>\n",
       "      <td>OV90</td>\n",
       "      <td>-2.899168</td>\n",
       "    </tr>\n",
       "    <tr>\n",
       "      <th>4</th>\n",
       "      <td>O=P1(N(CCCl)CCCl)NCCCO1</td>\n",
       "      <td>CS(=O)(=O)CCNCc1ccc(-c2ccc3ncnc(Nc4ccc(OCc5ccc...</td>\n",
       "      <td>A375</td>\n",
       "      <td>-10.042138</td>\n",
       "    </tr>\n",
       "  </tbody>\n",
       "</table>\n",
       "</div>"
      ],
      "text/plain": [
       "                                    drug_a_structure  \\\n",
       "0  CCC1(O)CC2CN(CCc3c([nH]c4ccccc34)C(C(=O)OC)(c3...   \n",
       "1                            O=P1(N(CCCl)CCCl)NCCCO1   \n",
       "2  CN1C(=O)C=CC2(C)C3CCC4(C)C(NC(=O)OCC(F)(F)F)CC...   \n",
       "3  O=S1(=O)NC2(CN1CC(F)(F)F)C1CCC2Cc2cc(C=CCN3CCC...   \n",
       "4                            O=P1(N(CCCl)CCCl)NCCCO1   \n",
       "\n",
       "                                    drug_b_structure cell_line    synergy  \n",
       "0  CS(=O)(=O)CCNCc1ccc(-c2ccc3ncnc(Nc4ccc(OCc5ccc...  MDAMB436 -15.418132  \n",
       "1  COC1=C2CC(C)CC(OC)C(O)C(C)C=C(C)C(OC(N)=O)C(OC...   UWB1289  -8.103769  \n",
       "2  CC1CC2C3CCC4=CC(=O)C=CC4(C)C3(F)C(O)CC2(C)C1(O...    NCIH23   2.450127  \n",
       "3         C#Cc1cccc(Nc2ncnc3cc(OCCOC)c(OCCOC)cc23)c1      OV90  -2.899168  \n",
       "4  CS(=O)(=O)CCNCc1ccc(-c2ccc3ncnc(Nc4ccc(OCc5ccc...      A375 -10.042138  "
      ]
     },
     "execution_count": 5,
     "metadata": {},
     "output_type": "execute_result"
    }
   ],
   "source": [
    "from sklearn.preprocessing import StandardScaler\n",
    "data_for_gnn = main_data[['drug_a_structure', 'drug_b_structure', 'cell_line', 'synergy']].copy()\n",
    "data_for_gnn = data_for_gnn.sample(frac=1).reset_index().drop(['index'], 1)\n",
    "\n",
    "# scaler = StandardScaler().fit(data_for_gnn['synergy'].values.reshape(-1,1))\n",
    "# scaled_ops = scaler.transform(data_for_gnn['synergy'].values.reshape(-1,1))\n",
    "# data_for_gnn['synergy'] = scaled_ops\n",
    "data_for_gnn.head()"
   ]
  },
  {
   "cell_type": "code",
   "execution_count": 6,
   "metadata": {
    "id": "n8pN4m7q4wQN"
   },
   "outputs": [
    {
     "data": {
      "text/plain": [
       "(23052, 4)"
      ]
     },
     "execution_count": 6,
     "metadata": {},
     "output_type": "execute_result"
    }
   ],
   "source": [
    "data_for_gnn.shape"
   ]
  },
  {
   "cell_type": "code",
   "execution_count": 7,
   "metadata": {
    "id": "SpvHErjyXHcN"
   },
   "outputs": [],
   "source": [
    "## Need to remove all drug smiles with '.' in them - this '.' \n",
    "#          creates separate isolated and disconnected graphs and \n",
    "#          it gets hard to calculate adjacency matrix and update them"
   ]
  },
  {
   "cell_type": "code",
   "execution_count": null,
   "metadata": {
    "id": "uTm3jzwwcD8l"
   },
   "outputs": [],
   "source": []
  },
  {
   "cell_type": "code",
   "execution_count": null,
   "metadata": {
    "id": "fvatyGKGcD-8"
   },
   "outputs": [],
   "source": []
  },
  {
   "attachments": {},
   "cell_type": "markdown",
   "metadata": {
    "id": "BYi6dMxIS5EL"
   },
   "source": [
    "#### updated version:"
   ]
  },
  {
   "cell_type": "code",
   "execution_count": 8,
   "metadata": {
    "colab": {
     "base_uri": "https://localhost:8080/",
     "height": 224
    },
    "id": "RgjXrpJZS763",
    "outputId": "13a1bf95-dd79-4546-ffe3-1888b1713d13"
   },
   "outputs": [
    {
     "data": {
      "text/html": [
       "<div>\n",
       "<style scoped>\n",
       "    .dataframe tbody tr th:only-of-type {\n",
       "        vertical-align: middle;\n",
       "    }\n",
       "\n",
       "    .dataframe tbody tr th {\n",
       "        vertical-align: top;\n",
       "    }\n",
       "\n",
       "    .dataframe thead th {\n",
       "        text-align: right;\n",
       "    }\n",
       "</style>\n",
       "<table border=\"1\" class=\"dataframe\">\n",
       "  <thead>\n",
       "    <tr style=\"text-align: right;\">\n",
       "      <th></th>\n",
       "      <th>drug_a_structure</th>\n",
       "      <th>drug_b_structure</th>\n",
       "      <th>cell_line</th>\n",
       "      <th>synergy</th>\n",
       "    </tr>\n",
       "  </thead>\n",
       "  <tbody>\n",
       "    <tr>\n",
       "      <th>0</th>\n",
       "      <td>Cc1nc(Nc2ncc(C(=O)Nc3c(C)cccc3Cl)s2)cc(N2CCN(C...</td>\n",
       "      <td>Cn1c(=O)n(-c2ccc(C(C)(C)C#N)cc2)c2c3cc(-c4cnc5...</td>\n",
       "      <td>ZR751</td>\n",
       "      <td>21.548383</td>\n",
       "    </tr>\n",
       "    <tr>\n",
       "      <th>1</th>\n",
       "      <td>CS(=O)(=O)CCNCc1ccc(-c2ccc3ncnc(Nc4ccc(OCc5ccc...</td>\n",
       "      <td>COC1CC2CCC(C)C(O)(O2)C(=O)C(=O)N2CCCCC2C(=O)OC...</td>\n",
       "      <td>VCAP</td>\n",
       "      <td>14.617611</td>\n",
       "    </tr>\n",
       "    <tr>\n",
       "      <th>2</th>\n",
       "      <td>COc1cccc2c1C(=O)c1c(O)c3c(c(O)c1C2=O)CC(O)(C(=...</td>\n",
       "      <td>NC(=O)c1cccc2cn(-c3ccc(C4CCCNC4)cc3)nc12</td>\n",
       "      <td>PA1</td>\n",
       "      <td>-13.653373</td>\n",
       "    </tr>\n",
       "    <tr>\n",
       "      <th>3</th>\n",
       "      <td>COC12C(COC(N)=O)C3=C(C(=O)C(C)=C(N)C3=O)N1CC1NC12</td>\n",
       "      <td>CCN(CC)CCNC(=O)c1c(C)[nH]c(C=C2C(=O)Nc3ccc(F)c...</td>\n",
       "      <td>RPMI7951</td>\n",
       "      <td>-5.641747</td>\n",
       "    </tr>\n",
       "    <tr>\n",
       "      <th>4</th>\n",
       "      <td>CS(=O)(=O)CCNCc1ccc(-c2ccc3ncnc(Nc4ccc(OCc5ccc...</td>\n",
       "      <td>O=C(O)C1(Cc2cccc(Nc3nccs3)n2)CCC(Oc2cccc(Cl)c2...</td>\n",
       "      <td>LOVO</td>\n",
       "      <td>28.431355</td>\n",
       "    </tr>\n",
       "  </tbody>\n",
       "</table>\n",
       "</div>"
      ],
      "text/plain": [
       "                                    drug_a_structure  \\\n",
       "0  Cc1nc(Nc2ncc(C(=O)Nc3c(C)cccc3Cl)s2)cc(N2CCN(C...   \n",
       "1  CS(=O)(=O)CCNCc1ccc(-c2ccc3ncnc(Nc4ccc(OCc5ccc...   \n",
       "2  COc1cccc2c1C(=O)c1c(O)c3c(c(O)c1C2=O)CC(O)(C(=...   \n",
       "3  COC12C(COC(N)=O)C3=C(C(=O)C(C)=C(N)C3=O)N1CC1NC12   \n",
       "4  CS(=O)(=O)CCNCc1ccc(-c2ccc3ncnc(Nc4ccc(OCc5ccc...   \n",
       "\n",
       "                                    drug_b_structure cell_line    synergy  \n",
       "0  Cn1c(=O)n(-c2ccc(C(C)(C)C#N)cc2)c2c3cc(-c4cnc5...     ZR751  21.548383  \n",
       "1  COC1CC2CCC(C)C(O)(O2)C(=O)C(=O)N2CCCCC2C(=O)OC...      VCAP  14.617611  \n",
       "2           NC(=O)c1cccc2cn(-c3ccc(C4CCCNC4)cc3)nc12       PA1 -13.653373  \n",
       "3  CCN(CC)CCNC(=O)c1c(C)[nH]c(C=C2C(=O)Nc3ccc(F)c...  RPMI7951  -5.641747  \n",
       "4  O=C(O)C1(Cc2cccc(Nc3nccs3)n2)CCC(Oc2cccc(Cl)c2...      LOVO  28.431355  "
      ]
     },
     "execution_count": 8,
     "metadata": {},
     "output_type": "execute_result"
    }
   ],
   "source": [
    "# train_data_path = \"/content/drive/My Drive/Projects and research stuffs/Drug Synergy/Dataset for GNN\"\n",
    "# main_data = pd.read_csv(train_data_path+'/final_data.csv')\n",
    "# print(main_data.shape)\n",
    "# main_data.head()\n",
    "\n",
    "\n",
    "data_for_gnn = main_data[['drug_a_structure', 'drug_b_structure', 'cell_line', 'synergy']].copy()\n",
    "data_for_gnn = data_for_gnn.sample(frac=1).reset_index().drop(['index'], 1)\n",
    "\n",
    "# scaler = StandardScaler().fit(data_for_gnn['synergy'].values.reshape(-1,1))\n",
    "# scaled_ops = scaler.transform(data_for_gnn['synergy'].values.reshape(-1,1))\n",
    "# data_for_gnn['synergy'] = scaled_ops\n",
    "data_for_gnn.head()\n"
   ]
  },
  {
   "cell_type": "code",
   "execution_count": 10,
   "metadata": {
    "id": "VEzaiYgV577h"
   },
   "outputs": [],
   "source": [
    "# main_data.head()"
   ]
  },
  {
   "attachments": {},
   "cell_type": "markdown",
   "metadata": {
    "id": "ozSjdBhK58l9"
   },
   "source": [
    "#### Pre-processing gene expression attribute matrix and edge matrix"
   ]
  },
  {
   "cell_type": "code",
   "execution_count": null,
   "metadata": {
    "colab": {
     "base_uri": "https://localhost:8080/"
    },
    "id": "3kcqY91T6CwX",
    "outputId": "62b1d410-81fd-4bae-d169-0f5a2f8cf874"
   },
   "outputs": [],
   "source": [
    "# Read attribute matrix\n",
    "ccle_attr = pd.read_csv('gene_attribute_matrix.txt.gz', sep='\\t')\n",
    "print(ccle_attr.shape)\n",
    "\n",
    "\n",
    "cell2ind = pd.DataFrame(columns = ['index','Cell_lines'])\n",
    "cell2ind['Cell_lines'] = list(ccle_attr.columns[3:])\n",
    "cell2ind['index'] =  list(cell2ind.index)\n",
    "print(cell2ind.head())\n",
    "\n",
    "\n",
    "\n",
    "gene2ind = pd.DataFrame(columns = ['index','Genes', 'Gene_id'])\n",
    "gene2ind['Genes'] =  list(ccle_attr['#'].values[2:])\n",
    "gene2ind['index'] =  list(gene2ind.index)\n",
    "gene2ind['Gene_id'] =  list(ccle_attr['CellLine'].values[2:])\n",
    "print(gene2ind.head())\n",
    "\n",
    "cell2exp = pd.DataFrame(columns = ['expression'])\n",
    "l = []\n",
    "for cells_ind in range(len(cell2ind['Cell_lines'])):\n",
    "    l.append(list(ccle_attr[cell2ind['Cell_lines'].iloc[cells_ind]].values[2:]))\n",
    "    \n",
    "cell2exp['expression'] = l\n",
    "print(cell2exp.head())"
   ]
  },
  {
   "cell_type": "code",
   "execution_count": null,
   "metadata": {
    "id": "q7pGl2A51yzC"
   },
   "outputs": [],
   "source": []
  },
  {
   "cell_type": "code",
   "execution_count": null,
   "metadata": {
    "colab": {
     "base_uri": "https://localhost:8080/"
    },
    "id": "QXhJbfJUIFML",
    "outputId": "a4b6259a-28d4-4a5d-c7a7-a0bef61414ba"
   },
   "outputs": [],
   "source": [
    "print(gene2ind.shape)"
   ]
  },
  {
   "cell_type": "code",
   "execution_count": null,
   "metadata": {
    "id": "487fhQ4huwzh"
   },
   "outputs": [],
   "source": []
  },
  {
   "cell_type": "code",
   "execution_count": null,
   "metadata": {
    "colab": {
     "base_uri": "https://localhost:8080/",
     "height": 206
    },
    "id": "SM2AQ1Mr6C34",
    "outputId": "468c2494-306d-47c8-f11c-24f44d88c1e4"
   },
   "outputs": [],
   "source": [
    "pp_int = pd.read_csv('/content/drive/My Drive/Projects and research stuffs/Drug Synergy/Dataset for GNN/PP-Pathways_ppi.csv.gz', header=None)\n",
    "pp_int.columns = ['Protein1', 'Protein2']\n",
    "pp_int.head()"
   ]
  },
  {
   "cell_type": "code",
   "execution_count": null,
   "metadata": {
    "id": "sWegpWg86C6o"
   },
   "outputs": [],
   "source": [
    "# This dataset has proper gene-gene interactions\n",
    "# pp_int[pp_int['Protein1'] == 2200][:2]"
   ]
  },
  {
   "cell_type": "code",
   "execution_count": null,
   "metadata": {
    "colab": {
     "base_uri": "https://localhost:8080/"
    },
    "id": "C2zolyQ1Ny3L",
    "outputId": "86b92997-f8da-4b36-84af-dcda385adcf4"
   },
   "outputs": [],
   "source": [
    "# If any genes are cell line ids, remove them\n",
    "cell_ids = cell2ind['Cell_lines'].unique()\n",
    "to_drop = []\n",
    "for i in range(len(gene2ind)):\n",
    "  if(gene2ind.iloc[i]['Genes'] in cell_ids):\n",
    "    to_drop.append(i)\n",
    "\n",
    "print(len(to_drop))\n",
    "\n",
    "gene2ind = gene2ind.drop(to_drop, axis = 0)"
   ]
  },
  {
   "cell_type": "code",
   "execution_count": null,
   "metadata": {
    "colab": {
     "base_uri": "https://localhost:8080/"
    },
    "id": "_piAJkvF87Ws",
    "outputId": "699fe505-2b05-4299-892f-0363b6938ede"
   },
   "outputs": [],
   "source": [
    "gene2ind.shape"
   ]
  },
  {
   "cell_type": "code",
   "execution_count": null,
   "metadata": {
    "colab": {
     "base_uri": "https://localhost:8080/"
    },
    "id": "DZWvDK8h040q",
    "outputId": "a8c99aed-1b20-4741-9972-aaf6e3f6c2e1"
   },
   "outputs": [],
   "source": [
    "# Check and take only intersection of gene ids\n",
    "\n",
    "# Create set of all values from both p1 and p2 columns\n",
    "p1p2 = set()\n",
    "# for i in range(len(pp_int)):\n",
    "#   p1p2.add(pp_int['Protein1'].iloc[i])\n",
    "#   p1p2.add(pp_int['Protein2'].iloc[i])\n",
    "\n",
    "p1p2 = set(np.concatenate((pp_int['Protein1'].unique(), pp_int['Protein2'].unique())))\n",
    "print('Total gene ids in pp_int dataset: ', len(p1p2))\n",
    "\n",
    "#### Check if any gene ids from deepsynergy dataset is missing in this p1p2\n",
    "common_gene_ids = []\n",
    "uncommon_gene_ids = []\n",
    "\n",
    "for i in range(len(gene2ind)):\n",
    "  if(gene2ind.iloc[i]['Gene_id'] in p1p2):\n",
    "    common_gene_ids.append(gene2ind.iloc[i]['Gene_id'])\n",
    "  else:\n",
    "    uncommon_gene_ids.append(gene2ind.iloc[i]['Gene_id'])\n",
    "\n",
    "print('Total Common intersecting gene ids:', len(common_gene_ids), ' and Total uncommon non-intersecting gene ids: ', len(uncommon_gene_ids))\n",
    "\n"
   ]
  },
  {
   "cell_type": "code",
   "execution_count": null,
   "metadata": {
    "id": "kT27Oo096DkY"
   },
   "outputs": [],
   "source": [
    "# Take only 5k genes (avoid computational problems )\n",
    "# final_gene_ids = common_gene_ids[:10000]\n",
    "\n"
   ]
  },
  {
   "cell_type": "code",
   "execution_count": null,
   "metadata": {
    "colab": {
     "base_uri": "https://localhost:8080/",
     "height": 334
    },
    "id": "qCsrxrEwd_Td",
    "outputId": "fd8af91a-f77b-4975-8470-0800f8525f32"
   },
   "outputs": [
    {
     "data": {
      "text/html": [
       "\n",
       "  <div id=\"df-4dccff3d-20f0-42b1-805e-9bda641dcd86\">\n",
       "    <div class=\"colab-df-container\">\n",
       "      <div>\n",
       "<style scoped>\n",
       "    .dataframe tbody tr th:only-of-type {\n",
       "        vertical-align: middle;\n",
       "    }\n",
       "\n",
       "    .dataframe tbody tr th {\n",
       "        vertical-align: top;\n",
       "    }\n",
       "\n",
       "    .dataframe thead th {\n",
       "        text-align: right;\n",
       "    }\n",
       "</style>\n",
       "<table border=\"1\" class=\"dataframe\">\n",
       "  <thead>\n",
       "    <tr style=\"text-align: right;\">\n",
       "      <th></th>\n",
       "      <th>#</th>\n",
       "      <th>#.1</th>\n",
       "      <th>CellLine</th>\n",
       "      <th>CHL1</th>\n",
       "      <th>HMCB</th>\n",
       "      <th>HS852T</th>\n",
       "      <th>HS695T</th>\n",
       "      <th>A101D</th>\n",
       "      <th>HS294T</th>\n",
       "      <th>SNU466</th>\n",
       "      <th>...</th>\n",
       "      <th>HEL9217</th>\n",
       "      <th>HEL</th>\n",
       "      <th>UT7</th>\n",
       "      <th>SET2</th>\n",
       "      <th>MOLM16</th>\n",
       "      <th>KU812</th>\n",
       "      <th>TF1</th>\n",
       "      <th>MEG01</th>\n",
       "      <th>KYO1</th>\n",
       "      <th>K562</th>\n",
       "    </tr>\n",
       "  </thead>\n",
       "  <tbody>\n",
       "    <tr>\n",
       "      <th>0</th>\n",
       "      <td>#</td>\n",
       "      <td>#</td>\n",
       "      <td>Tissue</td>\n",
       "      <td>skin</td>\n",
       "      <td>skin</td>\n",
       "      <td>skin</td>\n",
       "      <td>skin</td>\n",
       "      <td>skin</td>\n",
       "      <td>skin</td>\n",
       "      <td>central nervous system</td>\n",
       "      <td>...</td>\n",
       "      <td>haematopoietic and lymphoid tissue</td>\n",
       "      <td>haematopoietic and lymphoid tissue</td>\n",
       "      <td>haematopoietic and lymphoid tissue</td>\n",
       "      <td>haematopoietic and lymphoid tissue</td>\n",
       "      <td>haematopoietic and lymphoid tissue</td>\n",
       "      <td>haematopoietic and lymphoid tissue</td>\n",
       "      <td>haematopoietic and lymphoid tissue</td>\n",
       "      <td>haematopoietic and lymphoid tissue</td>\n",
       "      <td>haematopoietic and lymphoid tissue</td>\n",
       "      <td>haematopoietic and lymphoid tissue</td>\n",
       "    </tr>\n",
       "    <tr>\n",
       "      <th>1</th>\n",
       "      <td>GeneSym</td>\n",
       "      <td>NaN</td>\n",
       "      <td>GeneID/NA</td>\n",
       "      <td>na</td>\n",
       "      <td>na</td>\n",
       "      <td>na</td>\n",
       "      <td>na</td>\n",
       "      <td>na</td>\n",
       "      <td>na</td>\n",
       "      <td>na</td>\n",
       "      <td>...</td>\n",
       "      <td>na</td>\n",
       "      <td>na</td>\n",
       "      <td>na</td>\n",
       "      <td>na</td>\n",
       "      <td>na</td>\n",
       "      <td>na</td>\n",
       "      <td>na</td>\n",
       "      <td>na</td>\n",
       "      <td>na</td>\n",
       "      <td>na</td>\n",
       "    </tr>\n",
       "    <tr>\n",
       "      <th>2</th>\n",
       "      <td>FBN1</td>\n",
       "      <td>na</td>\n",
       "      <td>2200</td>\n",
       "      <td>0.000000</td>\n",
       "      <td>0.000000</td>\n",
       "      <td>0.000000</td>\n",
       "      <td>-0.000000</td>\n",
       "      <td>0.000000</td>\n",
       "      <td>0.000000</td>\n",
       "      <td>0.000000</td>\n",
       "      <td>...</td>\n",
       "      <td>-0.000000</td>\n",
       "      <td>0.000000</td>\n",
       "      <td>0.000000</td>\n",
       "      <td>0.000000</td>\n",
       "      <td>0.000000</td>\n",
       "      <td>0.000000</td>\n",
       "      <td>-0.000000</td>\n",
       "      <td>0.000000</td>\n",
       "      <td>-0.000000</td>\n",
       "      <td>-0.000000</td>\n",
       "    </tr>\n",
       "    <tr>\n",
       "      <th>3</th>\n",
       "      <td>ITGBL1</td>\n",
       "      <td>na</td>\n",
       "      <td>9358</td>\n",
       "      <td>-0.000000</td>\n",
       "      <td>-0.000000</td>\n",
       "      <td>0.000000</td>\n",
       "      <td>-0.000000</td>\n",
       "      <td>-0.000000</td>\n",
       "      <td>-0.000000</td>\n",
       "      <td>0.000000</td>\n",
       "      <td>...</td>\n",
       "      <td>0.000000</td>\n",
       "      <td>0.000000</td>\n",
       "      <td>0.000000</td>\n",
       "      <td>0.000000</td>\n",
       "      <td>0.000000</td>\n",
       "      <td>0.000000</td>\n",
       "      <td>0.000000</td>\n",
       "      <td>0.000000</td>\n",
       "      <td>0.000000</td>\n",
       "      <td>-0.000000</td>\n",
       "    </tr>\n",
       "    <tr>\n",
       "      <th>4</th>\n",
       "      <td>LRP1</td>\n",
       "      <td>na</td>\n",
       "      <td>4035</td>\n",
       "      <td>-0.000000</td>\n",
       "      <td>-0.000000</td>\n",
       "      <td>0.000000</td>\n",
       "      <td>0.000000</td>\n",
       "      <td>0.000000</td>\n",
       "      <td>0.000000</td>\n",
       "      <td>1.000000</td>\n",
       "      <td>...</td>\n",
       "      <td>-0.000000</td>\n",
       "      <td>-0.000000</td>\n",
       "      <td>-0.000000</td>\n",
       "      <td>-0.000000</td>\n",
       "      <td>-0.000000</td>\n",
       "      <td>-0.000000</td>\n",
       "      <td>-0.000000</td>\n",
       "      <td>-0.000000</td>\n",
       "      <td>-0.000000</td>\n",
       "      <td>-0.000000</td>\n",
       "    </tr>\n",
       "  </tbody>\n",
       "</table>\n",
       "<p>5 rows × 1040 columns</p>\n",
       "</div>\n",
       "      <button class=\"colab-df-convert\" onclick=\"convertToInteractive('df-4dccff3d-20f0-42b1-805e-9bda641dcd86')\"\n",
       "              title=\"Convert this dataframe to an interactive table.\"\n",
       "              style=\"display:none;\">\n",
       "        \n",
       "  <svg xmlns=\"http://www.w3.org/2000/svg\" height=\"24px\"viewBox=\"0 0 24 24\"\n",
       "       width=\"24px\">\n",
       "    <path d=\"M0 0h24v24H0V0z\" fill=\"none\"/>\n",
       "    <path d=\"M18.56 5.44l.94 2.06.94-2.06 2.06-.94-2.06-.94-.94-2.06-.94 2.06-2.06.94zm-11 1L8.5 8.5l.94-2.06 2.06-.94-2.06-.94L8.5 2.5l-.94 2.06-2.06.94zm10 10l.94 2.06.94-2.06 2.06-.94-2.06-.94-.94-2.06-.94 2.06-2.06.94z\"/><path d=\"M17.41 7.96l-1.37-1.37c-.4-.4-.92-.59-1.43-.59-.52 0-1.04.2-1.43.59L10.3 9.45l-7.72 7.72c-.78.78-.78 2.05 0 2.83L4 21.41c.39.39.9.59 1.41.59.51 0 1.02-.2 1.41-.59l7.78-7.78 2.81-2.81c.8-.78.8-2.07 0-2.86zM5.41 20L4 18.59l7.72-7.72 1.47 1.35L5.41 20z\"/>\n",
       "  </svg>\n",
       "      </button>\n",
       "      \n",
       "  <style>\n",
       "    .colab-df-container {\n",
       "      display:flex;\n",
       "      flex-wrap:wrap;\n",
       "      gap: 12px;\n",
       "    }\n",
       "\n",
       "    .colab-df-convert {\n",
       "      background-color: #E8F0FE;\n",
       "      border: none;\n",
       "      border-radius: 50%;\n",
       "      cursor: pointer;\n",
       "      display: none;\n",
       "      fill: #1967D2;\n",
       "      height: 32px;\n",
       "      padding: 0 0 0 0;\n",
       "      width: 32px;\n",
       "    }\n",
       "\n",
       "    .colab-df-convert:hover {\n",
       "      background-color: #E2EBFA;\n",
       "      box-shadow: 0px 1px 2px rgba(60, 64, 67, 0.3), 0px 1px 3px 1px rgba(60, 64, 67, 0.15);\n",
       "      fill: #174EA6;\n",
       "    }\n",
       "\n",
       "    [theme=dark] .colab-df-convert {\n",
       "      background-color: #3B4455;\n",
       "      fill: #D2E3FC;\n",
       "    }\n",
       "\n",
       "    [theme=dark] .colab-df-convert:hover {\n",
       "      background-color: #434B5C;\n",
       "      box-shadow: 0px 1px 3px 1px rgba(0, 0, 0, 0.15);\n",
       "      filter: drop-shadow(0px 1px 2px rgba(0, 0, 0, 0.3));\n",
       "      fill: #FFFFFF;\n",
       "    }\n",
       "  </style>\n",
       "\n",
       "      <script>\n",
       "        const buttonEl =\n",
       "          document.querySelector('#df-4dccff3d-20f0-42b1-805e-9bda641dcd86 button.colab-df-convert');\n",
       "        buttonEl.style.display =\n",
       "          google.colab.kernel.accessAllowed ? 'block' : 'none';\n",
       "\n",
       "        async function convertToInteractive(key) {\n",
       "          const element = document.querySelector('#df-4dccff3d-20f0-42b1-805e-9bda641dcd86');\n",
       "          const dataTable =\n",
       "            await google.colab.kernel.invokeFunction('convertToInteractive',\n",
       "                                                     [key], {});\n",
       "          if (!dataTable) return;\n",
       "\n",
       "          const docLinkHtml = 'Like what you see? Visit the ' +\n",
       "            '<a target=\"_blank\" href=https://colab.research.google.com/notebooks/data_table.ipynb>data table notebook</a>'\n",
       "            + ' to learn more about interactive tables.';\n",
       "          element.innerHTML = '';\n",
       "          dataTable['output_type'] = 'display_data';\n",
       "          await google.colab.output.renderOutput(dataTable, element);\n",
       "          const docLink = document.createElement('div');\n",
       "          docLink.innerHTML = docLinkHtml;\n",
       "          element.appendChild(docLink);\n",
       "        }\n",
       "      </script>\n",
       "    </div>\n",
       "  </div>\n",
       "  "
      ],
      "text/plain": [
       "         #  #.1   CellLine       CHL1       HMCB    HS852T     HS695T  \\\n",
       "0        #    #     Tissue       skin       skin      skin       skin   \n",
       "1  GeneSym  NaN  GeneID/NA         na         na        na         na   \n",
       "2     FBN1   na       2200   0.000000   0.000000  0.000000  -0.000000   \n",
       "3   ITGBL1   na       9358  -0.000000  -0.000000  0.000000  -0.000000   \n",
       "4     LRP1   na       4035  -0.000000  -0.000000  0.000000   0.000000   \n",
       "\n",
       "       A101D     HS294T                  SNU466  ...  \\\n",
       "0       skin       skin  central nervous system  ...   \n",
       "1         na         na                      na  ...   \n",
       "2   0.000000   0.000000                0.000000  ...   \n",
       "3  -0.000000  -0.000000                0.000000  ...   \n",
       "4   0.000000   0.000000                1.000000  ...   \n",
       "\n",
       "                              HEL9217                                 HEL  \\\n",
       "0  haematopoietic and lymphoid tissue  haematopoietic and lymphoid tissue   \n",
       "1                                  na                                  na   \n",
       "2                           -0.000000                            0.000000   \n",
       "3                            0.000000                            0.000000   \n",
       "4                           -0.000000                           -0.000000   \n",
       "\n",
       "                                  UT7                                SET2  \\\n",
       "0  haematopoietic and lymphoid tissue  haematopoietic and lymphoid tissue   \n",
       "1                                  na                                  na   \n",
       "2                            0.000000                            0.000000   \n",
       "3                            0.000000                            0.000000   \n",
       "4                           -0.000000                           -0.000000   \n",
       "\n",
       "                               MOLM16                               KU812  \\\n",
       "0  haematopoietic and lymphoid tissue  haematopoietic and lymphoid tissue   \n",
       "1                                  na                                  na   \n",
       "2                            0.000000                            0.000000   \n",
       "3                            0.000000                            0.000000   \n",
       "4                           -0.000000                           -0.000000   \n",
       "\n",
       "                                  TF1                               MEG01  \\\n",
       "0  haematopoietic and lymphoid tissue  haematopoietic and lymphoid tissue   \n",
       "1                                  na                                  na   \n",
       "2                           -0.000000                            0.000000   \n",
       "3                            0.000000                            0.000000   \n",
       "4                           -0.000000                           -0.000000   \n",
       "\n",
       "                                 KYO1                                K562  \n",
       "0  haematopoietic and lymphoid tissue  haematopoietic and lymphoid tissue  \n",
       "1                                  na                                  na  \n",
       "2                           -0.000000                           -0.000000  \n",
       "3                            0.000000                           -0.000000  \n",
       "4                           -0.000000                           -0.000000  \n",
       "\n",
       "[5 rows x 1040 columns]"
      ]
     },
     "execution_count": 94,
     "metadata": {},
     "output_type": "execute_result"
    }
   ],
   "source": [
    "ccle_attr.head()"
   ]
  },
  {
   "attachments": {},
   "cell_type": "markdown",
   "metadata": {
    "id": "oeGs8LoyghSx"
   },
   "source": [
    "#### Re-read cell_attr, this time ignore uncommon gene ids"
   ]
  },
  {
   "cell_type": "code",
   "execution_count": null,
   "metadata": {
    "colab": {
     "base_uri": "https://localhost:8080/"
    },
    "id": "iwGO6wXKhUqq",
    "outputId": "dc369fd4-c0c2-4142-b392-eec1246461d5"
   },
   "outputs": [
    {
     "name": "stdout",
     "output_type": "stream",
     "text": [
      "dropping  3031  genes\n",
      "(14996, 1040)\n"
     ]
    }
   ],
   "source": [
    "# Remove rows where id not present in common gene ids\n",
    "to_drop = []\n",
    "for i in range(2, len(ccle_attr)):\n",
    "  if(ccle_attr.iloc[i]['CellLine'] not in common_gene_ids):\n",
    "    to_drop.append(i)\n",
    "\n",
    "print('dropping ', len(to_drop), ' genes')\n",
    "ccle_attr = ccle_attr.drop(to_drop, axis = 0)\n",
    "print(ccle_attr.shape)\n"
   ]
  },
  {
   "cell_type": "code",
   "execution_count": null,
   "metadata": {
    "colab": {
     "base_uri": "https://localhost:8080/"
    },
    "id": "Lj40K3GsiPcX",
    "outputId": "8c12f65c-8563-49ac-b6eb-9a60b622b13a"
   },
   "outputs": [
    {
     "name": "stdout",
     "output_type": "stream",
     "text": [
      "(342353, 2)\n",
      "(261342, 2)\n"
     ]
    }
   ],
   "source": [
    "# Drop from pp_int dataset\n",
    "to_drop = set()\n",
    "for i in range(len(pp_int)):\n",
    "  if(pp_int.iloc[i]['Protein1'] not in common_gene_ids):\n",
    "    to_drop.add(i)\n",
    "  if(pp_int.iloc[i]['Protein2'] not in common_gene_ids):\n",
    "    to_drop.add(i)\n",
    "\n",
    "to_drop = list(to_drop)\n",
    "print(pp_int.shape)\n",
    "pp_int = pp_int.drop(to_drop, axis = 0)\n",
    "print(pp_int.shape)\n",
    "\n"
   ]
  },
  {
   "cell_type": "code",
   "execution_count": null,
   "metadata": {
    "id": "SCfyPKFKrgmY"
   },
   "outputs": [],
   "source": []
  },
  {
   "cell_type": "code",
   "execution_count": null,
   "metadata": {
    "colab": {
     "base_uri": "https://localhost:8080/"
    },
    "id": "U0v92uvwlSAD",
    "outputId": "5a604323-a24a-4a6e-ac68-c0d37d9057f7"
   },
   "outputs": [
    {
     "name": "stdout",
     "output_type": "stream",
     "text": [
      "Index(['Protein1', 'Protein2'], dtype='object')\n"
     ]
    }
   ],
   "source": [
    "ccle_attr = ccle_attr.reset_index().drop(['index'], axis = 1)\n",
    "pp_int = pp_int.reset_index().drop(['index'], axis = 1)\n",
    "print(pp_int.columns)"
   ]
  },
  {
   "cell_type": "code",
   "execution_count": null,
   "metadata": {
    "id": "GjTNGrb7rSBd"
   },
   "outputs": [],
   "source": []
  },
  {
   "cell_type": "code",
   "execution_count": null,
   "metadata": {
    "colab": {
     "base_uri": "https://localhost:8080/"
    },
    "id": "1dxx5ifu8mw5",
    "outputId": "cb497b1b-a4bf-44ed-da0f-bf3f7eb670e6"
   },
   "outputs": [
    {
     "name": "stdout",
     "output_type": "stream",
     "text": [
      "Unique gene ids in pp_int data:  14864\n",
      "Unique gene ids in ccle_attr data:  14994\n"
     ]
    }
   ],
   "source": [
    "print('Unique gene ids in pp_int data: ', len( set(np.concatenate((pp_int['Protein1'].unique(), pp_int['Protein2'].unique()))) ))\n",
    "print('Unique gene ids in ccle_attr data: ', len(ccle_attr['CellLine'][2:].unique()))"
   ]
  },
  {
   "attachments": {},
   "cell_type": "markdown",
   "metadata": {
    "id": "weeqM98BkpaC"
   },
   "source": [
    "### Since these two do not match, remove all extra genes from ccle_attr dataset"
   ]
  },
  {
   "cell_type": "code",
   "execution_count": null,
   "metadata": {
    "id": "Nx0i6WBSklPs"
   },
   "outputs": [],
   "source": [
    "genes_in_pp = list(set(np.concatenate((pp_int['Protein1'].unique(), pp_int['Protein2'].unique()))))\n",
    "to_drop = []\n",
    "for i in range(2, len(ccle_attr)):\n",
    "  if(ccle_attr.iloc[i]['CellLine'] not in genes_in_pp):\n",
    "    to_drop.append(i)\n",
    "\n",
    "print('dropping ', len(to_drop), ' genes')\n",
    "ccle_attr = ccle_attr.drop(to_drop, axis = 0)\n",
    "print(ccle_attr.shape)\n"
   ]
  },
  {
   "cell_type": "code",
   "execution_count": null,
   "metadata": {
    "id": "whc5cptmkEah"
   },
   "outputs": [],
   "source": [
    "print('Unique gene ids in pp_int data: ', len( set(np.concatenate((pp_int['Protein1'].unique(), pp_int['Protein2'].unique()))) ))\n",
    "print('Unique gene ids in gene2ind data: ', len(ccle_attr['CellLine'].iloc[2:].unique()))"
   ]
  },
  {
   "cell_type": "code",
   "execution_count": null,
   "metadata": {
    "id": "dBWlwz9IkEfk"
   },
   "outputs": [],
   "source": [
    "ccle_attr = ccle_attr.reset_index().drop(['index'], axis = 1)\n",
    "pp_int = pp_int.reset_index().drop(['index'], axis = 1)\n",
    "print(ccle_attr.shape, pp_int.shape)"
   ]
  },
  {
   "attachments": {},
   "cell_type": "markdown",
   "metadata": {
    "id": "meFmykmQ3YD0"
   },
   "source": [
    "## Run from here"
   ]
  },
  {
   "cell_type": "code",
   "execution_count": 11,
   "metadata": {
    "id": "fKij4bg3jWen"
   },
   "outputs": [],
   "source": [
    "# Save these two datasets, no need to run again\n",
    "# ccle_attr.to_csv('/content/drive/My Drive/Projects and research stuffs/Drug Synergy/Dataset for GNN/ccle_attr_updated.csv', index=False)\n",
    "# pp_int.to_csv('/content/drive/My Drive/Projects and research stuffs/Drug Synergy/Dataset for GNN/pp_int_updated.csv', index=False)\n",
    "\n",
    "ccle_attr = pd.read_csv('ccle_attr_updated.csv')\n",
    "pp_int = pd.read_csv('pp_int_updated.csv')"
   ]
  },
  {
   "cell_type": "code",
   "execution_count": 12,
   "metadata": {
    "colab": {
     "base_uri": "https://localhost:8080/"
    },
    "id": "DD-OYETUd_V7",
    "outputId": "c82c686e-d914-44dc-991b-92aef509da7f"
   },
   "outputs": [
    {
     "name": "stdout",
     "output_type": "stream",
     "text": [
      "   index Cell_lines\n",
      "0      0       CHL1\n",
      "1      1       HMCB\n",
      "2      2     HS852T\n",
      "3      3     HS695T\n",
      "4      4      A101D\n",
      "   index  Genes Gene_id\n",
      "0      0  UHMK1  127933\n",
      "1      1   DGKH  160851\n",
      "2      2   ERC1   23085\n",
      "3      3  LIMS1    3987\n",
      "4      4   NAB1    4664\n",
      "                                          expression\n",
      "0  [0.0, -0.0, 0.0, -0.0, -0.0, 0.0, -0.0, -0.0, ...\n",
      "1  [0.0, 0.0, -0.0, 0.0, 0.0, 0.0, -0.0, -0.0, 1....\n",
      "2  [0.0, -0.0, -0.0, -0.0, -0.0, -0.0, -1.0, -0.0...\n",
      "3  [0.0, -0.0, -0.0, 0.0, 0.0, 0.0, -0.0, 0.0, -0...\n",
      "4  [0.0, -0.0, 0.0, -0.0, 0.0, -0.0, 0.0, -0.0, -...\n"
     ]
    }
   ],
   "source": [
    "\n",
    "cell2ind = pd.DataFrame(columns = ['index','Cell_lines'])\n",
    "cell2ind['Cell_lines'] = list(ccle_attr.columns[3:])\n",
    "cell2ind['index'] =  list(cell2ind.index)\n",
    "print(cell2ind.head())\n",
    "gene2ind = pd.DataFrame(columns = ['index','Genes', 'Gene_id'])\n",
    "gene2ind['Genes'] =  list(ccle_attr['#'].values[2:])\n",
    "gene2ind['index'] =  list(gene2ind.index)\n",
    "gene2ind['Gene_id'] =  list(ccle_attr['CellLine'].values[2:])\n",
    "\n",
    "print(gene2ind.head())\n",
    "cell2exp = pd.DataFrame(columns = ['expression'])\n",
    "l = []\n",
    "for cells_ind in range(len(cell2ind['Cell_lines'])):\n",
    "    l.append(list(ccle_attr[cell2ind['Cell_lines'].iloc[cells_ind]].values[2:]))\n",
    "    \n",
    "cell2exp['expression'] = l\n",
    "print(cell2exp.head())"
   ]
  },
  {
   "cell_type": "code",
   "execution_count": null,
   "metadata": {
    "id": "8JZvQlfIgoik"
   },
   "outputs": [],
   "source": []
  },
  {
   "cell_type": "code",
   "execution_count": 13,
   "metadata": {
    "colab": {
     "base_uri": "https://localhost:8080/"
    },
    "id": "HazTV5MVgokl",
    "outputId": "72c14ca5-457c-43e0-e262-c65396fa185e"
   },
   "outputs": [
    {
     "data": {
      "text/plain": [
       "(7524, 3)"
      ]
     },
     "execution_count": 13,
     "metadata": {},
     "output_type": "execute_result"
    }
   ],
   "source": [
    "gene2ind.shape"
   ]
  },
  {
   "cell_type": "code",
   "execution_count": 14,
   "metadata": {
    "colab": {
     "base_uri": "https://localhost:8080/",
     "height": 206
    },
    "id": "Q3sUgWGZgo0P",
    "outputId": "9a913ea9-d00b-4a12-9d7f-fef621d0617f"
   },
   "outputs": [
    {
     "data": {
      "text/html": [
       "<div>\n",
       "<style scoped>\n",
       "    .dataframe tbody tr th:only-of-type {\n",
       "        vertical-align: middle;\n",
       "    }\n",
       "\n",
       "    .dataframe tbody tr th {\n",
       "        vertical-align: top;\n",
       "    }\n",
       "\n",
       "    .dataframe thead th {\n",
       "        text-align: right;\n",
       "    }\n",
       "</style>\n",
       "<table border=\"1\" class=\"dataframe\">\n",
       "  <thead>\n",
       "    <tr style=\"text-align: right;\">\n",
       "      <th></th>\n",
       "      <th>drug_a_structure</th>\n",
       "      <th>drug_b_structure</th>\n",
       "      <th>cell_line</th>\n",
       "      <th>synergy</th>\n",
       "    </tr>\n",
       "  </thead>\n",
       "  <tbody>\n",
       "    <tr>\n",
       "      <th>0</th>\n",
       "      <td>Cc1nc(Nc2ncc(C(=O)Nc3c(C)cccc3Cl)s2)cc(N2CCN(C...</td>\n",
       "      <td>COC1CC2CCC(C)C(O)(O2)C(=O)C(=O)N2CCCCC2C(=O)OC...</td>\n",
       "      <td>UACC62</td>\n",
       "      <td>21.420859</td>\n",
       "    </tr>\n",
       "    <tr>\n",
       "      <th>1</th>\n",
       "      <td>N.N.O=C(O)C1(C(=O)O)CCC1.[Pt]</td>\n",
       "      <td>N#Cc1ccc(Cn2cncc2CN2CCN(c3cccc(Cl)c3)C(=O)C2)cc1</td>\n",
       "      <td>NCIH1650</td>\n",
       "      <td>-15.029890</td>\n",
       "    </tr>\n",
       "    <tr>\n",
       "      <th>2</th>\n",
       "      <td>CC(C)CC(NC(=O)C(Cc1ccccc1)NC(=O)c1cnccn1)B(O)O</td>\n",
       "      <td>Cn1c(=O)n(-c2ccc(C(C)(C)C#N)cc2)c2c3cc(-c4cnc5...</td>\n",
       "      <td>SKMES1</td>\n",
       "      <td>-0.268603</td>\n",
       "    </tr>\n",
       "    <tr>\n",
       "      <th>3</th>\n",
       "      <td>CC1CC2C3CCC4=CC(=O)C=CC4(C)C3(F)C(O)CC2(C)C1(O...</td>\n",
       "      <td>CS(=O)(=O)CCNCc1ccc(-c2ccc3ncnc(Nc4ccc(OCc5ccc...</td>\n",
       "      <td>NCIH1650</td>\n",
       "      <td>29.087988</td>\n",
       "    </tr>\n",
       "    <tr>\n",
       "      <th>4</th>\n",
       "      <td>CC1CC2C3CCC4=CC(=O)C=CC4(C)C3(F)C(O)CC2(C)C1(O...</td>\n",
       "      <td>CCc1cnn2c(NCc3ccc[n+]([O-])c3)cc(N3CCCCC3CCO)nc12</td>\n",
       "      <td>LOVO</td>\n",
       "      <td>2.582137</td>\n",
       "    </tr>\n",
       "  </tbody>\n",
       "</table>\n",
       "</div>"
      ],
      "text/plain": [
       "                                    drug_a_structure  \\\n",
       "0  Cc1nc(Nc2ncc(C(=O)Nc3c(C)cccc3Cl)s2)cc(N2CCN(C...   \n",
       "1                      N.N.O=C(O)C1(C(=O)O)CCC1.[Pt]   \n",
       "2     CC(C)CC(NC(=O)C(Cc1ccccc1)NC(=O)c1cnccn1)B(O)O   \n",
       "3  CC1CC2C3CCC4=CC(=O)C=CC4(C)C3(F)C(O)CC2(C)C1(O...   \n",
       "4  CC1CC2C3CCC4=CC(=O)C=CC4(C)C3(F)C(O)CC2(C)C1(O...   \n",
       "\n",
       "                                    drug_b_structure cell_line    synergy  \n",
       "0  COC1CC2CCC(C)C(O)(O2)C(=O)C(=O)N2CCCCC2C(=O)OC...    UACC62  21.420859  \n",
       "1   N#Cc1ccc(Cn2cncc2CN2CCN(c3cccc(Cl)c3)C(=O)C2)cc1  NCIH1650 -15.029890  \n",
       "2  Cn1c(=O)n(-c2ccc(C(C)(C)C#N)cc2)c2c3cc(-c4cnc5...    SKMES1  -0.268603  \n",
       "3  CS(=O)(=O)CCNCc1ccc(-c2ccc3ncnc(Nc4ccc(OCc5ccc...  NCIH1650  29.087988  \n",
       "4  CCc1cnn2c(NCc3ccc[n+]([O-])c3)cc(N3CCCCC3CCO)nc12      LOVO   2.582137  "
      ]
     },
     "execution_count": 14,
     "metadata": {},
     "output_type": "execute_result"
    }
   ],
   "source": [
    "cell2ind['expression'] = cell2exp['expression'].copy()\n",
    "cell2ind = cell2ind.rename(columns = {'Cell_lines':'cell_line'})\n",
    "cell2ind.head()\n",
    "\n",
    "from sklearn.preprocessing import StandardScaler\n",
    "\n",
    "data_for_gnn_gcn = main_data[['drug_a_structure', 'drug_b_structure', 'cell_line', 'synergy']][:20000].copy() # change from 10k to all rows\n",
    "# scaler = StandardScaler().fit(data_for_gnn_gcn['synergy'].values.reshape(-1,1))\n",
    "# scaled_ops = scaler.transform(data_for_gnn_gcn['synergy'].values.reshape(-1,1))\n",
    "# data_for_gnn_gcn['synergy'] = scaled_ops\n",
    "data_for_gnn_gcn = data_for_gnn_gcn.sample(frac=1).reset_index().drop(['index'], 1)\n",
    "data_for_gnn_gcn.head()"
   ]
  },
  {
   "cell_type": "code",
   "execution_count": 15,
   "metadata": {
    "id": "M8YSnCW3Yjfv"
   },
   "outputs": [],
   "source": [
    "# Storing final gene expressions\n",
    "l = []\n",
    "\n",
    "for i in range(len(data_for_gnn_gcn)):\n",
    "  cell_name = data_for_gnn_gcn.iloc[i]['cell_line']\n",
    "  # print(cell_name)\n",
    "  try:\n",
    "    expr = np.array(cell2ind[cell2ind['cell_line'] == cell_name]['expression'].values[0], dtype='float32')\n",
    "  except:\n",
    "    expr = [float(0) for j in range(len(cell2exp['expression'].iloc[0]))]\n",
    "  l.append(expr)\n",
    "  # new_data.append({ new_data.columns[0]:main_data.iloc[i][new_data.columns[0]], new_data.columns[1]:main_data.iloc[i][new_data.columns[1]], new_data.columns[2]:main_data.iloc[i][new_data.columns[2]], new_data.columns[3]:main_data.iloc[i][new_data.columns[3]] }, ignore_index = True)\n",
    "\n",
    "data_for_gnn_gcn['cell_line_expr'] = l\n",
    "\n"
   ]
  },
  {
   "cell_type": "code",
   "execution_count": 16,
   "metadata": {
    "colab": {
     "base_uri": "https://localhost:8080/"
    },
    "id": "Sy7D9q0NYjh_",
    "outputId": "501712dc-91ec-4a8e-abfd-466154748d00"
   },
   "outputs": [
    {
     "data": {
      "text/plain": [
       "10624"
      ]
     },
     "execution_count": 16,
     "metadata": {},
     "output_type": "execute_result"
    }
   ],
   "source": [
    "import gc\n",
    "gc.collect()"
   ]
  },
  {
   "cell_type": "code",
   "execution_count": null,
   "metadata": {
    "id": "EOszBusMp989"
   },
   "outputs": [],
   "source": []
  },
  {
   "cell_type": "code",
   "execution_count": 91,
   "metadata": {},
   "outputs": [
    {
     "name": "stdout",
     "output_type": "stream",
     "text": [
      "All genes before dropping:  14864\n",
      "All genes for dropping:  6632\n"
     ]
    }
   ],
   "source": [
    "# To reduce the gene interaction matrix, remove low variance genes:\n",
    "# import scipy.sparse as sp\n",
    "# csr_mat = sp.csr_matrix(data_for_gnn_gcn['cell_line_expr'].to_list(), dtype=np.float32).todense()\n",
    "# var_genes = []\n",
    "# for gi in range(len(gene2ind[:])):\n",
    "#     var_genes.append( np.var(csr_mat[:, gi]) )\n",
    "\n",
    "# print('All genes before dropping: ', len(var_genes))\n",
    "\n",
    "# var_genes = np.array(var_genes)\n",
    "# remove_genes_ind = np.where( var_genes == float(0) )[0]\n",
    "# remove_genes = gene2ind['Gene_id'].iloc[remove_genes_ind]\n",
    "# print('All genes for dropping: ', len(remove_genes_ind))\n"
   ]
  },
  {
   "cell_type": "code",
   "execution_count": 92,
   "metadata": {},
   "outputs": [
    {
     "name": "stdout",
     "output_type": "stream",
     "text": [
      "(8232, 3)\n"
     ]
    }
   ],
   "source": [
    "# # Drop these gene index from gene2ind and pp_int data adn re-do cell2exp code\n",
    "# gene2ind = gene2ind.drop(remove_genes_ind, axis=0).reset_index().drop(['index'], 1)\n",
    "# print(gene2ind.shape)\n"
   ]
  },
  {
   "cell_type": "code",
   "execution_count": 93,
   "metadata": {},
   "outputs": [
    {
     "name": "stdout",
     "output_type": "stream",
     "text": [
      "Total gene ids in pp_int dataset:  14864\n",
      "Total Common intersecting gene ids: 7992  and Total uncommon non-intersecting gene ids:  240\n"
     ]
    }
   ],
   "source": [
    "# # Create set of all values from both p1 and p2 columns\n",
    "# p1p2 = set()\n",
    "# # for i in range(len(pp_int)):\n",
    "# #   p1p2.add(pp_int['Protein1'].iloc[i])\n",
    "# #   p1p2.add(pp_int['Protein2'].iloc[i])\n",
    "\n",
    "# p1p2 = set(np.concatenate((pp_int['Protein1'].unique(), pp_int['Protein2'].unique())))\n",
    "# print('Total gene ids in pp_int dataset: ', len(p1p2))\n",
    "\n",
    "# #### Check if any gene ids from deepsynergy dataset is missing in this p1p2\n",
    "# common_gene_ids = []\n",
    "# uncommon_gene_ids = []\n",
    "\n",
    "# for i in range(len(gene2ind)):\n",
    "#   if(gene2ind.iloc[i]['Gene_id'] in p1p2):\n",
    "#     common_gene_ids.append(gene2ind.iloc[i]['Gene_id'])\n",
    "#   else:\n",
    "#     uncommon_gene_ids.append(gene2ind.iloc[i]['Gene_id'])\n",
    "\n",
    "# print('Total Common intersecting gene ids:', len(common_gene_ids), ' and Total uncommon non-intersecting gene ids: ', len(uncommon_gene_ids))\n"
   ]
  },
  {
   "cell_type": "code",
   "execution_count": 94,
   "metadata": {},
   "outputs": [
    {
     "name": "stdout",
     "output_type": "stream",
     "text": [
      "(261342, 2)\n",
      "(83570, 2)\n"
     ]
    }
   ],
   "source": [
    "# # Drop from pp_int dataset\n",
    "# to_drop = set()\n",
    "# for i in range(len(pp_int)):\n",
    "#   if(pp_int.iloc[i]['Protein1'] not in common_gene_ids):\n",
    "#     to_drop.add(i)\n",
    "#   if(pp_int.iloc[i]['Protein2'] not in common_gene_ids):\n",
    "#     to_drop.add(i)\n",
    "\n",
    "# to_drop = list(to_drop)\n",
    "# print(pp_int.shape)\n",
    "# pp_int = pp_int.drop(to_drop, axis = 0)\n",
    "# print(pp_int.shape)\n",
    "\n"
   ]
  },
  {
   "cell_type": "code",
   "execution_count": 95,
   "metadata": {},
   "outputs": [
    {
     "name": "stdout",
     "output_type": "stream",
     "text": [
      "Index(['Protein1', 'Protein2'], dtype='object')\n"
     ]
    }
   ],
   "source": [
    "# ccle_attr = ccle_attr.reset_index().drop(['index'], axis = 1)\n",
    "# pp_int = pp_int.reset_index().drop(['index'], axis = 1)\n",
    "# print(pp_int.columns)"
   ]
  },
  {
   "cell_type": "code",
   "execution_count": 96,
   "metadata": {},
   "outputs": [
    {
     "name": "stdout",
     "output_type": "stream",
     "text": [
      "dropping  7340  genes\n",
      "(7526, 1040)\n"
     ]
    }
   ],
   "source": [
    "# genes_in_pp = list(set(np.concatenate((pp_int['Protein1'].unique(), pp_int['Protein2'].unique()))))\n",
    "# to_drop = []\n",
    "# for i in range(2, len(ccle_attr)):\n",
    "#   if(ccle_attr.iloc[i]['CellLine'] not in genes_in_pp):\n",
    "#     to_drop.append(i)\n",
    "\n",
    "# print('dropping ', len(to_drop), ' genes')\n",
    "# ccle_attr = ccle_attr.drop(to_drop, axis = 0)\n",
    "# print(ccle_attr.shape)\n"
   ]
  },
  {
   "cell_type": "code",
   "execution_count": 97,
   "metadata": {},
   "outputs": [
    {
     "name": "stdout",
     "output_type": "stream",
     "text": [
      "(7526, 1040) (83570, 2)\n"
     ]
    }
   ],
   "source": [
    "# ccle_attr = ccle_attr.reset_index().drop(['index'], axis = 1)\n",
    "# pp_int = pp_int.reset_index().drop(['index'], axis = 1)\n",
    "# print(ccle_attr.shape, pp_int.shape)"
   ]
  },
  {
   "cell_type": "code",
   "execution_count": 98,
   "metadata": {},
   "outputs": [
    {
     "name": "stdout",
     "output_type": "stream",
     "text": [
      "Unique gene ids in pp_int data:  7524\n",
      "Unique gene ids in gene2ind data:  7524\n"
     ]
    }
   ],
   "source": [
    "# print('Unique gene ids in pp_int data: ', len( set(np.concatenate((pp_int['Protein1'].unique(), pp_int['Protein2'].unique()))) ))\n",
    "# print('Unique gene ids in gene2ind data: ', len(ccle_attr['CellLine'].iloc[2:].unique()))"
   ]
  },
  {
   "cell_type": "code",
   "execution_count": null,
   "metadata": {},
   "outputs": [],
   "source": []
  },
  {
   "cell_type": "code",
   "execution_count": 100,
   "metadata": {},
   "outputs": [],
   "source": [
    "# ccle_attr.to_csv('ccle_attr_updated.csv', index=False)\n",
    "# pp_int.to_csv('pp_int_updated.csv', index=False)\n"
   ]
  },
  {
   "cell_type": "code",
   "execution_count": null,
   "metadata": {},
   "outputs": [],
   "source": []
  },
  {
   "cell_type": "code",
   "execution_count": null,
   "metadata": {},
   "outputs": [],
   "source": []
  },
  {
   "cell_type": "code",
   "execution_count": null,
   "metadata": {},
   "outputs": [],
   "source": []
  },
  {
   "cell_type": "code",
   "execution_count": null,
   "metadata": {},
   "outputs": [],
   "source": []
  },
  {
   "cell_type": "code",
   "execution_count": 17,
   "metadata": {
    "colab": {
     "base_uri": "https://localhost:8080/"
    },
    "id": "wzar4iLkp-AS",
    "outputId": "592f2e15-6828-4b31-c190-6344320bbbeb"
   },
   "outputs": [
    {
     "data": {
      "text/plain": [
       "(20000, 5)"
      ]
     },
     "execution_count": 17,
     "metadata": {},
     "output_type": "execute_result"
    }
   ],
   "source": [
    "data_for_gnn_gcn.shape"
   ]
  },
  {
   "attachments": {},
   "cell_type": "markdown",
   "metadata": {
    "id": "glAvQgQUAZ5b"
   },
   "source": [
    "#### Calculate adjacency matrix Using the gene protein-protein interactions"
   ]
  },
  {
   "cell_type": "code",
   "execution_count": 18,
   "metadata": {
    "colab": {
     "base_uri": "https://localhost:8080/",
     "height": 206
    },
    "id": "NC56eqLlLdeK",
    "outputId": "24d4a52b-1717-49e8-fe2c-f3db1d40e065"
   },
   "outputs": [
    {
     "data": {
      "text/html": [
       "<div>\n",
       "<style scoped>\n",
       "    .dataframe tbody tr th:only-of-type {\n",
       "        vertical-align: middle;\n",
       "    }\n",
       "\n",
       "    .dataframe tbody tr th {\n",
       "        vertical-align: top;\n",
       "    }\n",
       "\n",
       "    .dataframe thead th {\n",
       "        text-align: right;\n",
       "    }\n",
       "</style>\n",
       "<table border=\"1\" class=\"dataframe\">\n",
       "  <thead>\n",
       "    <tr style=\"text-align: right;\">\n",
       "      <th></th>\n",
       "      <th>Protein1</th>\n",
       "      <th>Protein2</th>\n",
       "    </tr>\n",
       "  </thead>\n",
       "  <tbody>\n",
       "    <tr>\n",
       "      <th>0</th>\n",
       "      <td>2355</td>\n",
       "      <td>29922</td>\n",
       "    </tr>\n",
       "    <tr>\n",
       "      <th>1</th>\n",
       "      <td>154796</td>\n",
       "      <td>7408</td>\n",
       "    </tr>\n",
       "    <tr>\n",
       "      <th>2</th>\n",
       "      <td>5347</td>\n",
       "      <td>3297</td>\n",
       "    </tr>\n",
       "    <tr>\n",
       "      <th>3</th>\n",
       "      <td>5501</td>\n",
       "      <td>3189</td>\n",
       "    </tr>\n",
       "    <tr>\n",
       "      <th>4</th>\n",
       "      <td>6631</td>\n",
       "      <td>9775</td>\n",
       "    </tr>\n",
       "  </tbody>\n",
       "</table>\n",
       "</div>"
      ],
      "text/plain": [
       "   Protein1  Protein2\n",
       "0      2355     29922\n",
       "1    154796      7408\n",
       "2      5347      3297\n",
       "3      5501      3189\n",
       "4      6631      9775"
      ]
     },
     "execution_count": 18,
     "metadata": {},
     "output_type": "execute_result"
    }
   ],
   "source": [
    "pp_int.head()"
   ]
  },
  {
   "cell_type": "code",
   "execution_count": 19,
   "metadata": {
    "id": "DWjZBDlTM7v-"
   },
   "outputs": [],
   "source": [
    "# Brute-force method ( for some reason sparse_matrixl)\n",
    "# for i in range(len(pp_int)):\n",
    "# len( set(np.concatenate((pp_int['Protein1'].unique(), pp_int['Protein2'].unique()))) )"
   ]
  },
  {
   "cell_type": "code",
   "execution_count": 20,
   "metadata": {
    "id": "1F4HqgkdYjkS"
   },
   "outputs": [],
   "source": [
    "# ## Create dummy adjacency matrix for now\n",
    "# import scipy.sparse as sp\n",
    "# adj = sp.coo_matrix((len(data_for_gnn_gcn), len(data_for_gnn_gcn)), dtype=np.float32).toarray()\n",
    "# # type(sp.csr_matrix(adj))\n",
    "\n",
    "# # build symmetric adjacency matrix\n",
    "# # adj = adj + np.matmul(adj.T, adj.T > adj) - np.matmul(adj, adj.T > adj)\n",
    "# # adj\n",
    "# #\n",
    "# def get_adjacency_matrix(df):\n",
    "#   df = pd.crosstab(df.Protein1, df.Protein2)\n",
    "#   idx = df.columns.union(df.index)\n",
    "#   df = df.reindex(index = idx, columns=idx, fill_value=0)\n",
    "\n",
    "# csc = sp.csc_matrix((np.ones_like(df['A']), (df['A'],df['B'])))\n",
    "# csc.toarray()\n",
    "\n",
    "# # Doing this in sparse matrix multiplication\n",
    "# adj_sp = sp.csr_matrix(adj)\n",
    "# adj_sp = adj_sp + adj_sp.T.multiply(adj_sp.T > adj_sp) - adj_sp.multiply(adj_sp.T > adj_sp)"
   ]
  },
  {
   "cell_type": "code",
   "execution_count": 21,
   "metadata": {
    "colab": {
     "base_uri": "https://localhost:8080/"
    },
    "id": "qZOdY1MTZM81",
    "outputId": "7c2ad866-c9b7-4207-99c4-11609da6cdf7"
   },
   "outputs": [
    {
     "name": "stdout",
     "output_type": "stream",
     "text": [
      "Total gene ids in pp_int dataset:  7524\n"
     ]
    }
   ],
   "source": [
    "tp = set(np.concatenate((pp_int['Protein1'].unique(), pp_int['Protein2'].unique())))\n",
    "print('Total gene ids in pp_int dataset: ', len(tp))\n"
   ]
  },
  {
   "cell_type": "code",
   "execution_count": 22,
   "metadata": {
    "colab": {
     "base_uri": "https://localhost:8080/"
    },
    "id": "FBBHVsJGLdv6",
    "outputId": "337f184f-d5c4-4316-ba4d-5e2be7fa7cd4"
   },
   "outputs": [
    {
     "data": {
      "text/plain": [
       "(7524, 7524)"
      ]
     },
     "execution_count": 22,
     "metadata": {},
     "output_type": "execute_result"
    }
   ],
   "source": [
    "import networkx as nx\n",
    "G_di = nx.from_pandas_edgelist(pp_int, 'Protein1', 'Protein2', create_using=nx.DiGraph())\n",
    "A_di = nx.to_scipy_sparse_matrix(G_di)\n",
    "A_di.todense().shape\n"
   ]
  },
  {
   "cell_type": "code",
   "execution_count": 23,
   "metadata": {
    "id": "dNHaXGiUj2Da"
   },
   "outputs": [],
   "source": [
    "# Doing this in sparse matrix multiplication\n",
    "import scipy.sparse as sp\n",
    "\n",
    "adj_sp = sp.csr_matrix(A_di)\n",
    "adj_sp = adj_sp + adj_sp.T.multiply(adj_sp.T > adj_sp) - adj_sp.multiply(adj_sp.T > adj_sp)\n"
   ]
  },
  {
   "cell_type": "code",
   "execution_count": null,
   "metadata": {
    "id": "kwGrv9aAL4gB"
   },
   "outputs": [],
   "source": []
  },
  {
   "cell_type": "code",
   "execution_count": 24,
   "metadata": {
    "id": "g3rZDNfeJ1PX"
   },
   "outputs": [],
   "source": [
    "# pd.crosstab(pp_int.Protein1, pp_int.Protein2)"
   ]
  },
  {
   "cell_type": "code",
   "execution_count": 25,
   "metadata": {
    "colab": {
     "base_uri": "https://localhost:8080/"
    },
    "id": "BDuAqNwhYjmh",
    "outputId": "2c6d4bd7-a678-4b59-e51c-deaae01955ec"
   },
   "outputs": [
    {
     "data": {
      "text/plain": [
       "63"
      ]
     },
     "execution_count": 25,
     "metadata": {},
     "output_type": "execute_result"
    }
   ],
   "source": [
    "import gc\n",
    "gc.collect()"
   ]
  },
  {
   "cell_type": "code",
   "execution_count": 26,
   "metadata": {
    "id": "ouHs2SYPYjom"
   },
   "outputs": [],
   "source": [
    "\n",
    "def normalize(mx):\n",
    "    \"\"\"Row-normalize sparse matrix\"\"\"\n",
    "    rowsum = np.array(mx.sum(1))\n",
    "    r_inv = np.power(rowsum, -1).flatten()\n",
    "    r_inv[np.isinf(r_inv)] = 0.\n",
    "    r_mat_inv = sp.diags(r_inv)\n",
    "    mx = r_mat_inv.dot(mx)\n",
    "    return mx\n",
    "\n",
    "\n",
    "\n",
    "def accuracy(output, labels):\n",
    "    preds = output.max(1)[1].type_as(labels)\n",
    "    correct = preds.eq(labels).double()\n",
    "    correct = correct.sum()\n",
    "    return correct / len(labels)\n",
    "\n",
    "\n",
    "def sparse_mx_to_torch_sparse_tensor(sparse_mx):\n",
    "    \"\"\"Convert a scipy sparse matrix to a torch sparse tensor.\"\"\"\n",
    "    sparse_mx = sparse_mx.tocoo().astype(np.float32)\n",
    "    indices = torch.from_numpy(\n",
    "        np.vstack((sparse_mx.row, sparse_mx.col)).astype(np.int64))\n",
    "    values = torch.from_numpy(sparse_mx.data)\n",
    "    shape = torch.Size(sparse_mx.shape)\n",
    "    return torch.sparse.FloatTensor(indices, values, shape)"
   ]
  },
  {
   "cell_type": "code",
   "execution_count": 56,
   "metadata": {
    "id": "-1tD25k8cEXq"
   },
   "outputs": [],
   "source": [
    "#### GNN combined with GCN\n",
    "from collections import defaultdict\n",
    "\n",
    "import numpy as np\n",
    "\n",
    "from rdkit import Chem\n",
    "\n",
    "import torch\n",
    "\n",
    "\n",
    "def create_atoms(mol, atom_dict):\n",
    "    \"\"\"Transform the atom types in a molecule (e.g., H, C, and O)\n",
    "    into the indices (e.g., H=0, C=1, and O=2).\n",
    "    Note that each atom index considers the aromaticity.\n",
    "    \"\"\"\n",
    "    atoms = [a.GetSymbol() for a in mol.GetAtoms()]\n",
    "    for a in mol.GetAromaticAtoms():\n",
    "        i = a.GetIdx()\n",
    "        atoms[i] = (atoms[i], 'aromatic')\n",
    "    atoms = [atom_dict[a] for a in atoms]\n",
    "    return np.array(atoms)\n",
    "\n",
    "\n",
    "def create_ijbonddict(mol, bond_dict):\n",
    "    \"\"\"Create a dictionary, in which each key is a node ID\n",
    "    and each value is the tuples of its neighboring node\n",
    "    and chemical bond (e.g., single and double) IDs.\n",
    "    \"\"\"\n",
    "    i_jbond_dict = defaultdict(lambda: [])\n",
    "    for b in mol.GetBonds():\n",
    "        i, j = b.GetBeginAtomIdx(), b.GetEndAtomIdx()\n",
    "        bond = bond_dict[str(b.GetBondType())]\n",
    "        i_jbond_dict[i].append((j, bond))\n",
    "        i_jbond_dict[j].append((i, bond))\n",
    "    return i_jbond_dict\n",
    "\n",
    "\n",
    "def extract_fingerprints(radius, atoms, i_jbond_dict,\n",
    "                         fingerprint_dict, edge_dict):\n",
    "    \"\"\"Extract the fingerprints from a molecular graph\n",
    "    based on Weisfeiler-Lehman algorithm.\n",
    "    \"\"\"\n",
    "\n",
    "    if (len(atoms) == 1) or (radius == 0):\n",
    "        nodes = [fingerprint_dict[a] for a in atoms]\n",
    "\n",
    "    else:\n",
    "        nodes = atoms\n",
    "        i_jedge_dict = i_jbond_dict\n",
    "\n",
    "        for _ in range(radius):\n",
    "\n",
    "            \"\"\"Update each node ID considering its neighboring nodes and edges.\n",
    "            The updated node IDs are the fingerprint IDs.\n",
    "            \"\"\"\n",
    "            nodes_ = []\n",
    "            for i, j_edge in i_jedge_dict.items():\n",
    "                neighbors = [(nodes[j], edge) for j, edge in j_edge]\n",
    "                fingerprint = (nodes[i], tuple(sorted(neighbors)))\n",
    "                nodes_.append(fingerprint_dict[fingerprint])\n",
    "\n",
    "            \"\"\"Also update each edge ID considering\n",
    "            its two nodes on both sides.\n",
    "            \"\"\"\n",
    "            i_jedge_dict_ = defaultdict(lambda: [])\n",
    "            for i, j_edge in i_jedge_dict.items():\n",
    "                for j, edge in j_edge:\n",
    "                    both_side = tuple(sorted((nodes[i], nodes[j])))\n",
    "                    edge = edge_dict[(both_side, edge)]\n",
    "                    i_jedge_dict_[i].append((j, edge))\n",
    "\n",
    "            nodes = nodes_\n",
    "            i_jedge_dict = i_jedge_dict_\n",
    "\n",
    "    return np.array(nodes)\n",
    "\n",
    "\n",
    "def split_dataset(dataset, ratio):\n",
    "    \"\"\"Shuffle and split a dataset.\"\"\"\n",
    "    # np.random.seed(1234)  # fix the seed for shuffle.\n",
    "    # np.random.shuffle(dataset)\n",
    "    n = int(ratio * len(dataset))\n",
    "    return dataset[:n], dataset[n:]\n",
    "\n",
    "\n",
    "def create_datasets(task, data_input, radius, device):\n",
    "\n",
    "    dir_dataset =  ''\n",
    "    # print(type(data_input))\n",
    "    print(data_input.shape)\n",
    "    \"\"\"Initialize x_dict, in which each key is a symbol type\n",
    "    (e.g., atom and chemical bond) and each value is its index.\n",
    "    \"\"\"\n",
    "    atom_dict = defaultdict(lambda: len(atom_dict))\n",
    "    bond_dict = defaultdict(lambda: len(bond_dict))\n",
    "    fingerprint_dict = defaultdict(lambda: len(fingerprint_dict))\n",
    "    edge_dict = defaultdict(lambda: len(edge_dict))\n",
    "   \n",
    "    \n",
    "    non_working_smiles_index = []\n",
    "    def create_dataset(data):\n",
    "\n",
    "#         print(filename)\n",
    "\n",
    "#         \"\"\"Load a dataset.\"\"\"\n",
    "#         with open(dir_dataset + filename, 'r') as f:\n",
    "#             smiles_property = f.readline().strip().split()\n",
    "#             data_original = f.read().strip().split('\\n')\n",
    "\n",
    "#         \"\"\"Exclude the data contains '.' in its smiles.\"\"\"\n",
    "#         data_original = [data for data in data_original\n",
    "#                          if '.' not in data.split()[0]]\n",
    "\n",
    "        dataset = []\n",
    "        final_index = []\n",
    "\n",
    "        for data_index in range(len(data)):\n",
    "#             print(data_index)\n",
    "            try:\n",
    "        #             smiles, property = data.strip().split()\n",
    "                smiles1, smiles2, property = data.iloc[data_index]['drug_a_structure'], data.iloc[data_index]['drug_b_structure'], data.iloc[data_index]['synergy']\n",
    "\n",
    "                \"\"\"Create each data with the above defined functions.\"\"\"\n",
    "                # for drug A:\n",
    "                mol = Chem.AddHs(Chem.MolFromSmiles(smiles1))\n",
    "                atoms = create_atoms(mol, atom_dict)\n",
    "                molecular_size1 = len(atoms)\n",
    "                i_jbond_dict = create_ijbonddict(mol, bond_dict)\n",
    "                fingerprints1 = extract_fingerprints(radius, atoms, i_jbond_dict,\n",
    "                                                    fingerprint_dict, edge_dict)\n",
    "                adjacency1 = Chem.GetAdjacencyMatrix(mol)\n",
    "\n",
    "                # for drug B:\n",
    "                mol = Chem.AddHs(Chem.MolFromSmiles(smiles2))\n",
    "                atoms = create_atoms(mol, atom_dict)\n",
    "                molecular_size2 = len(atoms)\n",
    "                i_jbond_dict = create_ijbonddict(mol, bond_dict)\n",
    "                fingerprints2 = extract_fingerprints(radius, atoms, i_jbond_dict,\n",
    "                                                    fingerprint_dict, edge_dict)\n",
    "                adjacency2 = Chem.GetAdjacencyMatrix(mol)\n",
    "\n",
    "                \"\"\"Transform the above each data of numpy\n",
    "                to pytorch tensor on a device (i.e., CPU or GPU).\n",
    "                \"\"\"\n",
    "                fingerprints1 = torch.LongTensor(fingerprints1).to(device)\n",
    "                adjacency1 = torch.FloatTensor(adjacency1).to(device)\n",
    "                fingerprints2 = torch.LongTensor(fingerprints2).to(device)\n",
    "                adjacency2 = torch.FloatTensor(adjacency2).to(device)\n",
    "\n",
    "                if task == 'regression':\n",
    "                    property = torch.FloatTensor([[float(property)]]).to(device)\n",
    "\n",
    "                dataset.append((fingerprints1, adjacency1, molecular_size1, fingerprints2, adjacency2, molecular_size2, property))\n",
    "                final_index.append(data_index)\n",
    "            \n",
    "            except:\n",
    "                non_working_smiles_index.append(data_index)\n",
    "            \n",
    "        return dataset, final_index\n",
    "    \n",
    "#     print(data_input.head())\n",
    "    dataset_train, final_index = create_dataset(data_input[:15000])\n",
    "    print('Skipped '+ str(len(non_working_smiles_index)) + ' smiles in training data')\n",
    "#     dataset_train, dataset_dev = split_dataset(dataset_train, 0.9)\n",
    "    # print(dataset_train.shape, dataset_dev.shape, data_input.shape, data_input.iloc[15000:].shape)\n",
    "    dataset_test, final_index_test = create_dataset(data_input[15000:])\n",
    "    # dataset_test = dataset_dev\n",
    "\n",
    "    N_fingerprints = len(fingerprint_dict)\n",
    "\n",
    "#     return dataset_train, dataset_dev, dataset_test, N_fingerprints, final_index\n",
    "    return dataset_train, dataset_test, N_fingerprints, final_index\n",
    "\n",
    "\n",
    "\n",
    "import sys\n",
    "import timeit\n",
    "\n",
    "import numpy as np\n",
    "\n",
    "import torch\n",
    "import torch.nn as nn\n",
    "import torch.nn.functional as F\n",
    "import torch.optim as optim\n",
    "\n",
    "from sklearn.metrics import roc_auc_score\n",
    "\n",
    "# import preprocess as pp\n",
    "\n",
    "\n",
    "class MolecularGraphNeuralNetwork(nn.Module):\n",
    "    def __init__(self, N_fingerprints, dim, layer_hidden, layer_output, nfeat, nhid, nclass, dropout):\n",
    "        super(MolecularGraphNeuralNetwork, self).__init__()\n",
    "        self.embed_fingerprint = nn.Embedding(N_fingerprints, dim)\n",
    "        self.W_fingerprint = nn.ModuleList([nn.Linear(dim, dim)\n",
    "                                            for _ in range(layer_hidden)])\n",
    "        self.W_output = nn.ModuleList([nn.Linear(dim+dim+dim+dim, dim+dim+dim+dim)\n",
    "                                       for _ in range(layer_output)])\n",
    "        if task == 'classification':\n",
    "            self.W_property = nn.Linear(dim, 2)\n",
    "        if task == 'regression':\n",
    "            self.W_property = nn.Linear(dim+dim+dim+dim, 1)\n",
    "        \n",
    "        # gcn\n",
    "        self.gc1 = GraphConvolution(nfeat, nhid)\n",
    "        # self.gc2 = GraphConvolution(nhid, 128) # second conv makes it harder\n",
    "        self.dropout = dropout\n",
    "        self.output = nn.Linear(nhid, 100).float()\n",
    "\n",
    "    def pad(self, matrices, pad_value):\n",
    "        \"\"\"Pad the list of matrices\n",
    "        with a pad_value (e.g., 0) for batch processing.\n",
    "        For example, given a list of matrices [A, B, C],\n",
    "        we obtain a new matrix [A00, 0B0, 00C],\n",
    "        where 0 is the zero (i.e., pad value) matrix.\n",
    "        \"\"\"\n",
    "        shapes = [m.shape for m in matrices]\n",
    "        M, N = sum([s[0] for s in shapes]), sum([s[1] for s in shapes])\n",
    "        zeros = torch.FloatTensor(np.zeros((M, N))).to(device)\n",
    "        pad_matrices = pad_value + zeros\n",
    "        i, j = 0, 0\n",
    "        for k, matrix in enumerate(matrices):\n",
    "            m, n = shapes[k]\n",
    "            pad_matrices[i:i+m, j:j+n] = matrix\n",
    "            i += m\n",
    "            j += n\n",
    "        return pad_matrices\n",
    "\n",
    "    def update(self, matrix, vectors, layer):\n",
    "        hidden_vectors = torch.relu(self.W_fingerprint[layer](vectors))\n",
    "        return hidden_vectors + torch.matmul(matrix, hidden_vectors)\n",
    "\n",
    "    def sum(self, vectors, axis):\n",
    "        sum_vectors = [torch.sum(v, 0) for v in torch.split(vectors, axis)]\n",
    "        return torch.stack(sum_vectors)\n",
    "\n",
    "    def mean(self, vectors, axis):\n",
    "        mean_vectors = [torch.mean(v, 0) for v in torch.split(vectors, axis)]\n",
    "        return torch.stack(mean_vectors)\n",
    "\n",
    "    def gnn(self, inputs):\n",
    "\n",
    "        \"\"\"Cat or pad each input data for batch processing.\"\"\"\n",
    "        fingerprints, adjacencies, molecular_sizes = inputs\n",
    "        fingerprints = torch.cat(fingerprints)\n",
    "        adjacencies = self.pad(adjacencies, 0)\n",
    "\n",
    "        \"\"\"GNN layer (update the fingerprint vectors).\"\"\"\n",
    "        fingerprint_vectors = self.embed_fingerprint(fingerprints)\n",
    "        for l in range(layer_hidden):\n",
    "            hs = self.update(adjacencies, fingerprint_vectors, l)\n",
    "            fingerprint_vectors = F.normalize(hs, 2, 1)  # normalize.\n",
    "\n",
    "        \"\"\"Molecular vector by sum or mean of the fingerprint vectors.\"\"\"\n",
    "        molecular_vectors = self.sum(fingerprint_vectors, molecular_sizes)\n",
    "        # molecular_vectors = self.mean(fingerprint_vectors, molecular_sizes)\n",
    "\n",
    "        return molecular_vectors\n",
    "\n",
    "    def mlp(self, vectors):\n",
    "        \"\"\"Classifier or regressor based on multilayer perceptron.\"\"\"\n",
    "        for l in range(layer_output):\n",
    "#             print(self.W_output[l](vectors))\n",
    "#             print(self.W_output[l](vectors).shape)\n",
    "            vectors = torch.relu(self.W_output[l](vectors))\n",
    "        outputs = self.W_property(vectors)\n",
    "        return outputs\n",
    "\n",
    "    def forward_classifier(self, data_batch, train):\n",
    "\n",
    "        inputs = data_batch[:-1]\n",
    "        correct_labels = torch.cat(data_batch[-1])\n",
    "\n",
    "        if train:\n",
    "            molecular_vectors = self.gnn(inputs)\n",
    "            predicted_scores = self.mlp(molecular_vectors)\n",
    "            loss = F.cross_entropy(predicted_scores, correct_labels)\n",
    "            return loss\n",
    "        else:\n",
    "            with torch.no_grad():\n",
    "                molecular_vectors = self.gnn(inputs)\n",
    "                predicted_scores = self.mlp(molecular_vectors)\n",
    "            predicted_scores = predicted_scores.to('cpu').data.numpy()\n",
    "            predicted_scores = [s[1] for s in predicted_scores]\n",
    "            correct_labels = correct_labels.to('cpu').data.numpy()\n",
    "            return predicted_scores, correct_labels\n",
    "\n",
    "    def forward_regressor(self, data_batch, x, adj, train):\n",
    "\n",
    "        inputs_d1 = data_batch[:3]\n",
    "        inputs_d2 = data_batch[3:-1]\n",
    "        correct_values = torch.cat(data_batch[-1])\n",
    "        # print('correct values', correct_values.shape)\n",
    "        \n",
    "        if train:\n",
    "            molecular_vectors_d1 = self.gnn(inputs_d1)\n",
    "            molecular_vectors_d2 = self.gnn(inputs_d2)\n",
    "#             molecular_vectors = np.concatenate([molecular_vectors_d1,molecular_vectors_d2])\n",
    "            # print(molecular_vectors_d1.shape, molecular_vectors_d1.shape)\n",
    "            x = F.relu(self.gc1(x, adj))\n",
    "            x = F.dropout(x, self.dropout, training=self.training)\n",
    "            # x = self.gc2(x, adj)\n",
    "            x = torch.relu( self.output(x.float()) )\n",
    "            \n",
    "            molecular_vectors = torch.cat((molecular_vectors_d1, molecular_vectors_d2, x), 1)\n",
    "            # print(molecular_vectors.shape)\n",
    "            predicted_values = self.mlp(molecular_vectors)\n",
    "#             print(predicted_values.shape, correct_values.shape, molecular_vectors.shape, molecular_vectors_d1.shape)\n",
    "            # print(predicted_values.shape)\n",
    "            loss = F.mse_loss(predicted_values, correct_values)\n",
    "            return loss\n",
    "        else:\n",
    "            with torch.no_grad():\n",
    "                molecular_vectors_d1 = self.gnn(inputs_d1)\n",
    "                molecular_vectors_d2 = self.gnn(inputs_d2)\n",
    "                x = F.relu(self.gc1(x, adj))\n",
    "                x = F.dropout(x, self.dropout, training=self.training)\n",
    "                x = torch.relu( self.output(x.float()) )\n",
    "                molecular_vectors = torch.cat((molecular_vectors_d1, molecular_vectors_d2, x), 1)\n",
    "                # print('then', molecular_vectors.shape)\n",
    "                predicted_values = self.mlp(molecular_vectors)\n",
    "                # print('then preds', predicted_values.shape)\n",
    "            \n",
    "            predicted_values = predicted_values.to('cpu').data.numpy()\n",
    "            correct_values = correct_values.to('cpu').data.numpy()\n",
    "            predicted_values = np.concatenate(predicted_values)\n",
    "            correct_values = np.concatenate(correct_values)\n",
    "            return predicted_values, correct_values\n",
    "\n",
    "\n",
    "class Trainer(object):\n",
    "    def __init__(self, model):\n",
    "        self.model = model\n",
    "        self.optimizer = optim.Adam(self.model.parameters(), lr=lr)\n",
    "\n",
    "    def train(self, dataset, x, adj, train = True):\n",
    "        np.random.shuffle(dataset)\n",
    "        N = len(dataset)\n",
    "        loss_total = 0\n",
    "        data_batch = list(zip(*dataset[:]))\n",
    "        if task == 'regression':\n",
    "          loss = self.model.forward_regressor(data_batch, x, adj, train=True)\n",
    "          self.optimizer.zero_grad()\n",
    "          loss.backward()\n",
    "          self.optimizer.step()\n",
    "          loss_total += loss.item()\n",
    "        # for i in range(0, N, batch_train):\n",
    "        #     data_batch = list(zip(*dataset[i:i+batch_train]))\n",
    "        #     if task == 'classification':\n",
    "        #         loss = self.model.forward_classifier(data_batch, train=True)\n",
    "        #     if task == 'regression':\n",
    "        #         loss = self.model.forward_regressor(data_batch, train=True)\n",
    "        #     self.optimizer.zero_grad()\n",
    "        #     loss.backward()\n",
    "        #     self.optimizer.step()\n",
    "        #     loss_total += loss.item()\n",
    "        return loss_total\n",
    "\n",
    "\n",
    "class Tester(object):\n",
    "    def __init__(self, model):\n",
    "        self.model = model\n",
    "\n",
    "    def test_regressor(self, dataset, x, adj):\n",
    "        N = len(dataset)\n",
    "        # print('tester', len(dataset))\n",
    "        data_batch = list(zip(*dataset[:]))\n",
    "        MSE = 0  # sum absolute error.\n",
    "        SE = 0\n",
    "        # data_batch = list(zip(*dataset[i:i+50]))\n",
    "        predicted_values, correct_values = self.model.forward_regressor(\n",
    "                                            data_batch, x, adj, train=False)\n",
    "        SE += np.square(np.subtract(correct_values,predicted_values)).mean()\n",
    "        MSE = SE / N  # mean absolute error.\n",
    "        return MSE\n",
    "    \n",
    "    def model_predictions(self, dataset, x, adj):\n",
    "        N = len(dataset)\n",
    "        # print('tester', len(dataset))\n",
    "        data_batch = list(zip(*dataset[:]))\n",
    "        predicted_values, _ = self.model.forward_regressor(\n",
    "                                            data_batch, x, adj, train=False)\n",
    "        return predicted_values\n",
    "\n",
    "    def save_result(self, result, filename):\n",
    "        with open(filename, 'a') as f:\n",
    "            f.write(result + '\\n')\n",
    "\n",
    "\n",
    "\n"
   ]
  },
  {
   "cell_type": "code",
   "execution_count": null,
   "metadata": {
    "id": "faWFJp7GMxFH"
   },
   "outputs": [],
   "source": []
  },
  {
   "cell_type": "code",
   "execution_count": null,
   "metadata": {
    "id": "rZfBrByMhzxH"
   },
   "outputs": [],
   "source": []
  },
  {
   "cell_type": "code",
   "execution_count": 57,
   "metadata": {
    "id": "oQtu5NsRh3-X"
   },
   "outputs": [],
   "source": [
    "import math\n",
    "\n",
    "import torch\n",
    "\n",
    "from torch.nn.parameter import Parameter\n",
    "from torch.nn.modules.module import Module\n",
    "\n",
    "\n",
    "class GraphConvolution(Module):\n",
    "    \"\"\"\n",
    "    Simple GCN layer, similar to https://arxiv.org/abs/1609.02907\n",
    "    \"\"\"\n",
    "\n",
    "    def __init__(self, in_features, out_features, bias=True):\n",
    "        super(GraphConvolution, self).__init__()\n",
    "        self.in_features = in_features\n",
    "        self.out_features = out_features\n",
    "        self.weight = Parameter(torch.FloatTensor(in_features, out_features))\n",
    "        if bias:\n",
    "            self.bias = Parameter(torch.FloatTensor(out_features))\n",
    "        else:\n",
    "            self.register_parameter('bias', None)\n",
    "        self.reset_parameters()\n",
    "\n",
    "    def reset_parameters(self):\n",
    "        stdv = 1. / math.sqrt(self.weight.size(1))\n",
    "        self.weight.data.uniform_(-stdv, stdv)\n",
    "        if self.bias is not None:\n",
    "            self.bias.data.uniform_(-stdv, stdv)\n",
    "\n",
    "    def forward(self, input, adj):\n",
    "        # print('ssss',input.shape, adj.shape, self.weight.double().shape)\n",
    "        adj = torch.from_numpy(adj).double()\n",
    "        support = torch.spmm(adj, input.double().T)\n",
    "        output = torch.spmm(support.T, self.weight.double())\n",
    "        # support = torch.mm(input.double(), self.weight.double())\n",
    "        \n",
    "#         print(type(adj), type(support))\n",
    "        # print('pppp',adj.shape, support.shape, output.shape)\n",
    "        # output = torch.spmm(adj, support)\n",
    "        if self.bias is not None:\n",
    "            return output + self.bias\n",
    "        else:\n",
    "            return output\n",
    "\n",
    "    def __repr__(self):\n",
    "        return self.__class__.__name__ + ' (' \\\n",
    "               + str(self.in_features) + ' -> ' \\\n",
    "               + str(self.out_features) + ')'"
   ]
  },
  {
   "cell_type": "code",
   "execution_count": 58,
   "metadata": {
    "id": "0ypgO5h1h4Cf"
   },
   "outputs": [],
   "source": [
    "import torch.nn as nn\n",
    "import torch.nn.functional as F\n",
    "\n",
    "class GCN(nn.Module):\n",
    "    def __init__(self, nfeat, nhid, nclass, dropout):\n",
    "        super(GCN, self).__init__()\n",
    "\n",
    "        self.gc1 = GraphConvolution(nfeat, nhid)\n",
    "        # self.gc2 = GraphConvolution(nhid, 128) # second conv makes it harder\n",
    "        self.dropout = dropout\n",
    "        # self.output = nn.Linear(128, nclass).float()\n",
    "        self.output = nn.Linear(nhid, 100).float()\n",
    "\n",
    "    def forward(self, x, adj):\n",
    "#         x = x.astype('double')\n",
    "#         adj = adj.astype('double')\n",
    "        \n",
    "        x = F.relu(self.gc1(x, adj))\n",
    "        x = F.dropout(x, self.dropout, training=self.training)\n",
    "#         x = F.tanh( self.gc2(x, adj) )\n",
    "        x = self.output(x.float())\n",
    "#         print(x)\n",
    "        \n",
    "        return x"
   ]
  },
  {
   "cell_type": "code",
   "execution_count": null,
   "metadata": {
    "id": "W7QKFDfAZ8g_"
   },
   "outputs": [],
   "source": []
  },
  {
   "cell_type": "code",
   "execution_count": null,
   "metadata": {
    "id": "FGWFoiyrZ8jG"
   },
   "outputs": [],
   "source": []
  },
  {
   "cell_type": "code",
   "execution_count": 30,
   "metadata": {
    "id": "PfkavpKwSLkW"
   },
   "outputs": [],
   "source": [
    "def get_gcn_dataset(adj):\n",
    "  data_for_gcn = data_for_gnn_gcn.copy()\n",
    "  print(data_for_gcn.shape)\n",
    "#   gcn_train_data, gcn_dev_data = split_dataset(data_for_gcn[:15000], 0.9)\n",
    "  gcn_train_data = data_for_gcn[:15000]\n",
    "  # gcn_train_data = gcn_train_data\n",
    "  gcn_test_data = data_for_gcn[15000:]\n",
    "  # gcn_test_data = gcn_dev_data\n",
    "  # print(gcn_train_data.shape, gcn_dev_data.shape)\n",
    "\n",
    "  import scipy.sparse as sp\n",
    "  # features_all = pd.DataFrame(gcn_train_data.to_list()).values\n",
    "  features_train = sp.csr_matrix(gcn_train_data['cell_line_expr'].to_list(), dtype=np.float32)\n",
    "#   features_train = sp.csr_matrix(np.delete(features_train, remove_genes_ind, 1))\n",
    "  features_train = normalize(features_train)\n",
    "  features_train = torch.FloatTensor(np.array(features_train.todense()))\n",
    "\n",
    "  # features_all = pd.DataFrame(gcn_dev_data.to_list()).values\n",
    "#   features_dev = sp.csr_matrix (gcn_dev_data['cell_line_expr'].to_list(), dtype=np.float32)\n",
    "#   features_dev = normalize(features_dev)\n",
    "#   features_dev = torch.FloatTensor(np.array(features_dev.todense()))\n",
    "\n",
    "  # features_all = pd.DataFrame(gcn_test_data.to_list()).values\n",
    "  features_test = sp.csr_matrix (gcn_test_data['cell_line_expr'].to_list(), dtype=np.float32)\n",
    "#   features_test = sp.csr_matrix(np.delete(features_test, remove_genes_ind, 1))\n",
    "  features_test = normalize(features_test)\n",
    "  features_test = torch.FloatTensor(np.array(features_test.todense()))\n",
    "\n",
    "  print('gcn input train, dev, test size: ', features_train.shape, features_test.shape )\n",
    "  \n",
    "  adj = normalize(adj + sp.eye(adj.shape[0]))\n",
    "\n",
    "  \n",
    "  labels = torch.LongTensor(data_for_gnn_gcn['synergy'])\n",
    "  adj1 = sparse_mx_to_torch_sparse_tensor(sp.csr_matrix(adj))\n",
    "\n",
    "  idx_train = gcn_train_data.index\n",
    "#   idx_val = gcn_dev_data.index\n",
    "  idx_test = gcn_test_data.index\n",
    "\n",
    "  idx_train = torch.LongTensor(idx_train)\n",
    "#   idx_val = torch.LongTensor(idx_val)\n",
    "  idx_test = torch.LongTensor(idx_test)\n",
    "\n",
    "#   return features_train, features_dev, features_test, idx_train, idx_val, idx_test, adj\n",
    "  return features_train, features_test, idx_train, idx_test, adj\n"
   ]
  },
  {
   "cell_type": "code",
   "execution_count": 31,
   "metadata": {
    "id": "EUk83b-G4mTk"
   },
   "outputs": [],
   "source": [
    "def check_for_non_working_smiles(data):\n",
    "  atom_dict = defaultdict(lambda: len(atom_dict))\n",
    "  bond_dict = defaultdict(lambda: len(bond_dict))\n",
    "  fingerprint_dict = defaultdict(lambda: len(fingerprint_dict))\n",
    "  edge_dict = defaultdict(lambda: len(edge_dict))\n",
    "  non_working_smiles_index = []\n",
    "  dataset = []\n",
    "\n",
    "  for data_index in range(len(data)):\n",
    "    try:\n",
    "      smiles1, smiles2, property = data.iloc[data_index]['drug_a_structure'], data.iloc[data_index]['drug_b_structure'], data.iloc[data_index]['synergy']\n",
    "\n",
    "      \"\"\"Create each data with the above defined functions.\"\"\"\n",
    "      # for drug A:\n",
    "      mol = Chem.AddHs(Chem.MolFromSmiles(smiles1))\n",
    "      atoms = create_atoms(mol, atom_dict)\n",
    "      molecular_size1 = len(atoms)\n",
    "      i_jbond_dict = create_ijbonddict(mol, bond_dict)\n",
    "      fingerprints1 = extract_fingerprints(radius, atoms, i_jbond_dict,\n",
    "                                          fingerprint_dict, edge_dict)\n",
    "      adjacency1 = Chem.GetAdjacencyMatrix(mol)\n",
    "\n",
    "      # for drug B:\n",
    "      mol = Chem.AddHs(Chem.MolFromSmiles(smiles2))\n",
    "      atoms = create_atoms(mol, atom_dict)\n",
    "      molecular_size2 = len(atoms)\n",
    "      i_jbond_dict = create_ijbonddict(mol, bond_dict)\n",
    "      fingerprints2 = extract_fingerprints(radius, atoms, i_jbond_dict,\n",
    "                                          fingerprint_dict, edge_dict)\n",
    "      adjacency2 = Chem.GetAdjacencyMatrix(mol)\n",
    "\n",
    "      \"\"\"Transform the above each data of numpy\n",
    "      to pytorch tensor on a device (i.e., CPU or GPU).\n",
    "      \"\"\"\n",
    "      fingerprints1 = torch.LongTensor(fingerprints1).to(device)\n",
    "      adjacency1 = torch.FloatTensor(adjacency1).to(device)\n",
    "      fingerprints2 = torch.LongTensor(fingerprints2).to(device)\n",
    "      adjacency2 = torch.FloatTensor(adjacency2).to(device)\n",
    "\n",
    "      if task == 'regression':\n",
    "          property = torch.FloatTensor([[float(property)]]).to(device)\n",
    "\n",
    "      dataset.append((fingerprints1, adjacency1, molecular_size1, fingerprints2, adjacency2, molecular_size2, property))\n",
    "        # final_index.append(data_index)\n",
    "\n",
    "    except:\n",
    "        non_working_smiles_index.append(data_index)\n",
    "\n",
    "  return non_working_smiles_index\n"
   ]
  },
  {
   "cell_type": "code",
   "execution_count": 32,
   "metadata": {
    "colab": {
     "base_uri": "https://localhost:8080/"
    },
    "id": "zstufQ43SLnW",
    "outputId": "099f45d4-5d37-4cf9-d8d5-ca31496cf93c"
   },
   "outputs": [
    {
     "data": {
      "text/plain": [
       "(20000, 5)"
      ]
     },
     "execution_count": 32,
     "metadata": {},
     "output_type": "execute_result"
    }
   ],
   "source": [
    "# data_for_gnn_gcn = data_for_gnn_gcn.reset_index().drop(['index'], axis=1)\n",
    "data_for_gnn_gcn.shape"
   ]
  },
  {
   "cell_type": "code",
   "execution_count": 33,
   "metadata": {},
   "outputs": [
    {
     "data": {
      "text/html": [
       "<div>\n",
       "<style scoped>\n",
       "    .dataframe tbody tr th:only-of-type {\n",
       "        vertical-align: middle;\n",
       "    }\n",
       "\n",
       "    .dataframe tbody tr th {\n",
       "        vertical-align: top;\n",
       "    }\n",
       "\n",
       "    .dataframe thead th {\n",
       "        text-align: right;\n",
       "    }\n",
       "</style>\n",
       "<table border=\"1\" class=\"dataframe\">\n",
       "  <thead>\n",
       "    <tr style=\"text-align: right;\">\n",
       "      <th></th>\n",
       "      <th>drug_a_structure</th>\n",
       "      <th>drug_b_structure</th>\n",
       "      <th>cell_line</th>\n",
       "      <th>synergy</th>\n",
       "      <th>cell_line_expr</th>\n",
       "    </tr>\n",
       "  </thead>\n",
       "  <tbody>\n",
       "    <tr>\n",
       "      <th>0</th>\n",
       "      <td>Cc1nc(Nc2ncc(C(=O)Nc3c(C)cccc3Cl)s2)cc(N2CCN(C...</td>\n",
       "      <td>COC1CC2CCC(C)C(O)(O2)C(=O)C(=O)N2CCCCC2C(=O)OC...</td>\n",
       "      <td>UACC62</td>\n",
       "      <td>21.420859</td>\n",
       "      <td>[-0.0, -0.0, 0.0, 1.0, -0.0, 0.0, -0.0, -0.0, ...</td>\n",
       "    </tr>\n",
       "    <tr>\n",
       "      <th>1</th>\n",
       "      <td>N.N.O=C(O)C1(C(=O)O)CCC1.[Pt]</td>\n",
       "      <td>N#Cc1ccc(Cn2cncc2CN2CCN(c3cccc(Cl)c3)C(=O)C2)cc1</td>\n",
       "      <td>NCIH1650</td>\n",
       "      <td>-15.029890</td>\n",
       "      <td>[0.0, 0.0, 0.0, 0.0, 0.0, 0.0, 0.0, -0.0, -0.0...</td>\n",
       "    </tr>\n",
       "    <tr>\n",
       "      <th>2</th>\n",
       "      <td>CC(C)CC(NC(=O)C(Cc1ccccc1)NC(=O)c1cnccn1)B(O)O</td>\n",
       "      <td>Cn1c(=O)n(-c2ccc(C(C)(C)C#N)cc2)c2c3cc(-c4cnc5...</td>\n",
       "      <td>SKMES1</td>\n",
       "      <td>-0.268603</td>\n",
       "      <td>[0.0, 0.0, -0.0, -0.0, 0.0, 0.0, 0.0, 0.0, -0....</td>\n",
       "    </tr>\n",
       "    <tr>\n",
       "      <th>3</th>\n",
       "      <td>CC1CC2C3CCC4=CC(=O)C=CC4(C)C3(F)C(O)CC2(C)C1(O...</td>\n",
       "      <td>CS(=O)(=O)CCNCc1ccc(-c2ccc3ncnc(Nc4ccc(OCc5ccc...</td>\n",
       "      <td>NCIH1650</td>\n",
       "      <td>29.087988</td>\n",
       "      <td>[0.0, 0.0, 0.0, 0.0, 0.0, 0.0, 0.0, -0.0, -0.0...</td>\n",
       "    </tr>\n",
       "    <tr>\n",
       "      <th>4</th>\n",
       "      <td>CC1CC2C3CCC4=CC(=O)C=CC4(C)C3(F)C(O)CC2(C)C1(O...</td>\n",
       "      <td>CCc1cnn2c(NCc3ccc[n+]([O-])c3)cc(N3CCCCC3CCO)nc12</td>\n",
       "      <td>LOVO</td>\n",
       "      <td>2.582137</td>\n",
       "      <td>[-0.0, 0.0, 0.0, 0.0, 0.0, 0.0, 0.0, 0.0, 0.0,...</td>\n",
       "    </tr>\n",
       "  </tbody>\n",
       "</table>\n",
       "</div>"
      ],
      "text/plain": [
       "                                    drug_a_structure  \\\n",
       "0  Cc1nc(Nc2ncc(C(=O)Nc3c(C)cccc3Cl)s2)cc(N2CCN(C...   \n",
       "1                      N.N.O=C(O)C1(C(=O)O)CCC1.[Pt]   \n",
       "2     CC(C)CC(NC(=O)C(Cc1ccccc1)NC(=O)c1cnccn1)B(O)O   \n",
       "3  CC1CC2C3CCC4=CC(=O)C=CC4(C)C3(F)C(O)CC2(C)C1(O...   \n",
       "4  CC1CC2C3CCC4=CC(=O)C=CC4(C)C3(F)C(O)CC2(C)C1(O...   \n",
       "\n",
       "                                    drug_b_structure cell_line    synergy  \\\n",
       "0  COC1CC2CCC(C)C(O)(O2)C(=O)C(=O)N2CCCCC2C(=O)OC...    UACC62  21.420859   \n",
       "1   N#Cc1ccc(Cn2cncc2CN2CCN(c3cccc(Cl)c3)C(=O)C2)cc1  NCIH1650 -15.029890   \n",
       "2  Cn1c(=O)n(-c2ccc(C(C)(C)C#N)cc2)c2c3cc(-c4cnc5...    SKMES1  -0.268603   \n",
       "3  CS(=O)(=O)CCNCc1ccc(-c2ccc3ncnc(Nc4ccc(OCc5ccc...  NCIH1650  29.087988   \n",
       "4  CCc1cnn2c(NCc3ccc[n+]([O-])c3)cc(N3CCCCC3CCO)nc12      LOVO   2.582137   \n",
       "\n",
       "                                      cell_line_expr  \n",
       "0  [-0.0, -0.0, 0.0, 1.0, -0.0, 0.0, -0.0, -0.0, ...  \n",
       "1  [0.0, 0.0, 0.0, 0.0, 0.0, 0.0, 0.0, -0.0, -0.0...  \n",
       "2  [0.0, 0.0, -0.0, -0.0, 0.0, 0.0, 0.0, 0.0, -0....  \n",
       "3  [0.0, 0.0, 0.0, 0.0, 0.0, 0.0, 0.0, -0.0, -0.0...  \n",
       "4  [-0.0, 0.0, 0.0, 0.0, 0.0, 0.0, 0.0, 0.0, 0.0,...  "
      ]
     },
     "execution_count": 33,
     "metadata": {},
     "output_type": "execute_result"
    }
   ],
   "source": [
    "data_for_gnn_gcn.head()"
   ]
  },
  {
   "cell_type": "code",
   "execution_count": null,
   "metadata": {},
   "outputs": [],
   "source": []
  },
  {
   "cell_type": "code",
   "execution_count": null,
   "metadata": {},
   "outputs": [],
   "source": []
  },
  {
   "cell_type": "code",
   "execution_count": null,
   "metadata": {},
   "outputs": [],
   "source": []
  },
  {
   "cell_type": "code",
   "execution_count": 34,
   "metadata": {
    "colab": {
     "base_uri": "https://localhost:8080/"
    },
    "id": "i1Vlrby6SLqv",
    "outputId": "c32ba69c-2435-4489-9e6b-1ade65a80341"
   },
   "outputs": [
    {
     "name": "stdout",
     "output_type": "stream",
     "text": [
      "The code uses a CPU...\n",
      "Preprocessing the GNN  dataset.\n",
      "Just a moment......\n"
     ]
    }
   ],
   "source": [
    "\n",
    "# Run the main code function: \n",
    "task = 'regression'\n",
    "dataset = ''\n",
    "radius = 3\n",
    "dim = 50\n",
    "layer_hidden=6\n",
    "layer_output=6\n",
    "\n",
    "batch_train=32\n",
    "batch_test=32\n",
    "lr=1e-4\n",
    "lr_decay=0.99\n",
    "decay_interval=10\n",
    "iteration=5\n",
    "\n",
    "#     (task, dataset, radius, dim, layer_hidden, layer_output,\n",
    "#      batch_train, batch_test, lr, lr_decay, decay_interval, iteration,\n",
    "#      setting) = sys.argv[1:]\n",
    "(radius, dim, layer_hidden, layer_output,\n",
    "  batch_train, batch_test, decay_interval,\n",
    "  iteration) = map(int, [radius, dim, layer_hidden, layer_output,\n",
    "                        batch_train, batch_test,\n",
    "                        decay_interval, iteration])\n",
    "lr, lr_decay = map(float, [lr, lr_decay])\n",
    "#     device = torch.device('cuda')\n",
    "# device = torch.device('cuda')\n",
    "\n",
    "if torch.cuda.is_available():\n",
    "    device = torch.device('cuda')\n",
    "    print('The code uses a GPU!')\n",
    "else:\n",
    "    device = torch.device('cpu')\n",
    "    print('The code uses a CPU...')\n",
    "#     print('-'*100)\n",
    "\n",
    "print('Preprocessing the GNN', dataset, 'dataset.')\n",
    "print('Just a moment......')\n",
    "non_working_index = check_for_non_working_smiles(data_for_gnn_gcn)\n",
    "# Remove the index which were skipped\n",
    "data_for_gnn_gcn = data_for_gnn_gcn.drop(non_working_index, axis = 0).reset_index().drop(['index'], axis=1)\n",
    "# data_for_gnn_gcn_new.shape\n",
    "\n"
   ]
  },
  {
   "cell_type": "code",
   "execution_count": 35,
   "metadata": {
    "colab": {
     "base_uri": "https://localhost:8080/"
    },
    "id": "Q4SurnQ_-9GH",
    "outputId": "32769a96-a193-4fc6-be6b-79a36900b57b"
   },
   "outputs": [
    {
     "name": "stdout",
     "output_type": "stream",
     "text": [
      "(18362, 5)\n",
      "Skipped 0 smiles in training data\n",
      "----------------------------------------------------------------------------------------------------\n",
      "The preprocess has finished!\n",
      "# of training data samples: 15000\n",
      "# of test data samples: 3362\n",
      "----------------------------------------------------------------------------------------------------\n"
     ]
    }
   ],
   "source": [
    "\n",
    "# (dataset_train, dataset_dev, dataset_test,\n",
    "#   N_fingerprints, final_index) = create_datasets(task, data_for_gnn_gcn, radius, device)\n",
    "# print('-'*100)\n",
    "(dataset_train, dataset_test,\n",
    "  N_fingerprints, final_index) = create_datasets(task, data_for_gnn_gcn, radius, device)\n",
    "print('-'*100)\n",
    "\n",
    "\n",
    "# dataset_train = dataset_train[:100]\n",
    "# dataset_dev = dataset_dev[-500:]\n",
    "\n",
    "print('The preprocess has finished!')\n",
    "print('# of training data samples:', len(dataset_train))\n",
    "# print('# of development data samples:', len(dataset_dev))\n",
    "print('# of test data samples:', len(dataset_test))\n",
    "print('-'*100)\n"
   ]
  },
  {
   "cell_type": "code",
   "execution_count": null,
   "metadata": {
    "id": "yAMck8MJaPGM"
   },
   "outputs": [],
   "source": []
  },
  {
   "cell_type": "code",
   "execution_count": null,
   "metadata": {
    "id": "zXLPcPZRSScT"
   },
   "outputs": [],
   "source": []
  },
  {
   "cell_type": "code",
   "execution_count": null,
   "metadata": {
    "id": "DlWhGyLASSgK"
   },
   "outputs": [],
   "source": []
  },
  {
   "cell_type": "code",
   "execution_count": 40,
   "metadata": {
    "colab": {
     "base_uri": "https://localhost:8080/"
    },
    "id": "bvsOScdwSXjC",
    "outputId": "2bb15f0b-de1e-4662-e206-16f2c68f2157"
   },
   "outputs": [
    {
     "name": "stdout",
     "output_type": "stream",
     "text": [
      "Preprocessing the GCN dataset.\n",
      "Just a moment......\n",
      "(18362, 5)\n",
      "gcn input train, dev, test size:  torch.Size([15000, 7524]) torch.Size([3362, 7524])\n",
      "----------------------------------------------------------------------------------------------------\n"
     ]
    }
   ],
   "source": [
    "print('Preprocessing the GCN dataset.')\n",
    "print('Just a moment......')\n",
    "# features_train, features_dev, features_test, idx_train, idx_val, idx_test, adj = get_gcn_dataset(adj_sp)\n",
    "features_train, features_test, idx_train, idx_test, adj = get_gcn_dataset(adj_sp)\n",
    "print('-'*100)"
   ]
  },
  {
   "cell_type": "code",
   "execution_count": null,
   "metadata": {},
   "outputs": [],
   "source": []
  },
  {
   "cell_type": "code",
   "execution_count": 41,
   "metadata": {},
   "outputs": [
    {
     "name": "stdout",
     "output_type": "stream",
     "text": [
      "Creating a model.\n",
      "# of model parameters: 2312301\n",
      "----------------------------------------------------------------------------------------------------\n",
      "Start training.\n",
      "The result is saved in the output directory every epoch!\n",
      "100 30\n",
      "Epoch:  0  Batch size:  500\n",
      "train done\n",
      "The training will finish in about 3 hours 3 minutes.\n",
      "----------------------------------------------------------------------------------------------------\n",
      "Epoch\tTime(sec)\tLoss_train\tMAE_dev\tMAE_test\n",
      "0\t380.1136499249842\t473.360595703125\t--------\t7.279928654960507\n",
      "Epoch:  1  Batch size:  500\n",
      "train done\n",
      "1\t770.5397785771638\t446.9676513671875\t--------\t7.03099560951528\n",
      "Epoch:  2  Batch size:  500\n",
      "train done\n",
      "2\t1159.9285329270642\t443.88916015625\t--------\t7.010827122135057\n",
      "Epoch:  3  Batch size:  500\n",
      "train done\n",
      "3\t1547.4613115179818\t427.2635192871094\t--------\t6.723122296580953\n",
      "Epoch:  4  Batch size:  500\n",
      "train done\n",
      "4\t1932.8618676580954\t397.00653076171875\t--------\t6.433677322303393\n",
      "Epoch:  5  Batch size:  500\n",
      "train done\n",
      "5\t2325.345559349982\t391.0431213378906\t--------\t6.2742771488421525\n",
      "Epoch:  6  Batch size:  500\n",
      "train done\n",
      "6\t2721.665311440127\t394.0779724121094\t--------\t6.174471544128755\n",
      "Epoch:  7  Batch size:  500\n",
      "train done\n",
      "7\t3115.5982943009585\t391.5621032714844\t--------\t6.097625532455866\n",
      "Epoch:  8  Batch size:  500\n",
      "train done\n",
      "8\t3512.5456440460403\t390.5831298828125\t--------\t6.047502190521409\n",
      "Epoch:  9  Batch size:  500\n",
      "train done\n",
      "9\t3909.336726416135\t388.3169860839844\t--------\t5.998941152330262\n",
      "Epoch:  10  Batch size:  500\n",
      "train done\n",
      "10\t4298.509144620039\t391.29693603515625\t--------\t5.965454215876965\n",
      "Epoch:  11  Batch size:  500\n",
      "train done\n",
      "11\t4688.784139315132\t388.30438232421875\t--------\t5.945220660973649\n",
      "Epoch:  12  Batch size:  500\n",
      "train done\n",
      "12\t5086.410367489094\t382.9071960449219\t--------\t5.8925933004979925\n",
      "Epoch:  13  Batch size:  500\n",
      "train done\n",
      "13\t5479.826065327972\t380.6727294921875\t--------\t5.858699380273977\n",
      "Epoch:  14  Batch size:  500\n",
      "train done\n",
      "14\t5879.733568591066\t377.457763671875\t--------\t5.822689097367598\n",
      "Epoch:  15  Batch size:  500\n",
      "train done\n",
      "15\t6266.510335575091\t375.06121826171875\t--------\t5.78905182896398\n",
      "Epoch:  16  Batch size:  500\n",
      "train done\n",
      "16\t6650.763531818986\t373.316162109375\t--------\t5.7594084904286085\n",
      "Epoch:  17  Batch size:  500\n",
      "train done\n",
      "17\t7039.467649947153\t370.31524658203125\t--------\t5.731428189272379\n",
      "Epoch:  18  Batch size:  500\n",
      "train done\n",
      "18\t7428.2651025571395\t368.3207092285156\t--------\t5.703256534133827\n",
      "Epoch:  19  Batch size:  500\n",
      "train done\n",
      "19\t7814.177573542111\t366.1900939941406\t--------\t5.677322260566838\n",
      "Epoch:  20  Batch size:  500\n",
      "train done\n",
      "20\t8201.173956946004\t363.7899475097656\t--------\t5.6527816111527756\n",
      "Epoch:  21  Batch size:  500\n",
      "train done\n",
      "21\t8578.89200865198\t362.0933837890625\t--------\t5.630353261368051\n",
      "Epoch:  22  Batch size:  500\n",
      "train done\n",
      "22\t8963.299585425062\t360.06805419921875\t--------\t5.602700465418357\n",
      "Epoch:  23  Batch size:  500\n",
      "train done\n",
      "23\t9350.601954497164\t357.79522705078125\t--------\t5.576063725761287\n",
      "Epoch:  24  Batch size:  500\n",
      "train done\n",
      "24\t9736.018162674038\t355.8201904296875\t--------\t5.548548778555011\n",
      "Epoch:  25  Batch size:  500\n",
      "train done\n",
      "25\t10127.563554350985\t354.85345458984375\t--------\t5.520684149473412\n",
      "Epoch:  26  Batch size:  500\n",
      "train done\n",
      "26\t10518.821536788018\t353.5086975097656\t--------\t5.497315498141294\n",
      "Epoch:  27  Batch size:  500\n",
      "train done\n",
      "27\t10913.918761827983\t351.5063781738281\t--------\t5.468770142950406\n",
      "Epoch:  28  Batch size:  500\n",
      "train done\n",
      "28\t11304.895260422025\t349.7764892578125\t--------\t5.438387421497323\n",
      "Epoch:  29  Batch size:  500\n",
      "train done\n",
      "29\t11698.008323695045\t348.4270935058594\t--------\t5.415531133999482\n",
      "Epoch:  30  Batch size:  500\n",
      "train done\n",
      "30\t12097.379041703185\t346.91253662109375\t--------\t5.3922445284174305\n",
      "Epoch:  31  Batch size:  500\n",
      "train done\n",
      "31\t12485.743023391115\t345.02069091796875\t--------\t5.3689699879008765\n",
      "Epoch:  32  Batch size:  500\n",
      "train done\n",
      "32\t12883.897631022148\t344.76580810546875\t--------\t5.352476823163954\n",
      "Epoch:  33  Batch size:  500\n",
      "train done\n",
      "33\t13279.646064516157\t344.0192565917969\t--------\t5.334195835513963\n",
      "Epoch:  34  Batch size:  500\n",
      "train done\n",
      "34\t13673.30983456201\t343.1816711425781\t--------\t5.3168548115261345\n",
      "Epoch:  35  Batch size:  500\n",
      "train done\n",
      "35\t14070.28927848814\t343.4139404296875\t--------\t5.3076890285765925\n",
      "Epoch:  36  Batch size:  500\n",
      "train done\n",
      "36\t14465.242350445129\t342.73651123046875\t--------\t5.297306401205326\n",
      "Epoch:  37  Batch size:  500\n",
      "train done\n",
      "37\t14855.872991780052\t342.1329040527344\t--------\t5.288486013844526\n",
      "Epoch:  38  Batch size:  500\n",
      "train done\n",
      "38\t15239.08469296014\t340.45855712890625\t--------\t5.276982924993526\n",
      "Epoch:  39  Batch size:  500\n",
      "train done\n",
      "39\t15637.322874338133\t339.836669921875\t--------\t5.271648960513963\n",
      "Epoch:  40  Batch size:  500\n",
      "train done\n",
      "40\t16036.950814041076\t339.1101379394531\t--------\t5.264020285253366\n",
      "Epoch:  41  Batch size:  500\n",
      "train done\n",
      "41\t16430.32290122914\t338.1319885253906\t--------\t5.252915086272013\n",
      "Epoch:  42  Batch size:  500\n",
      "train done\n",
      "42\t16820.897820142098\t336.9379577636719\t--------\t5.239934734196953\n",
      "Epoch:  43  Batch size:  500\n",
      "train done\n",
      "43\t17218.329817370977\t336.1505126953125\t--------\t5.231441227191061\n",
      "Epoch:  44  Batch size:  500\n",
      "train done\n",
      "44\t17618.577810799005\t334.9401550292969\t--------\t5.224251515762583\n",
      "Epoch:  45  Batch size:  500\n",
      "train done\n",
      "45\t18016.528176082997\t333.5912780761719\t--------\t5.210223345508892\n",
      "Epoch:  46  Batch size:  500\n",
      "train done\n",
      "46\t18408.471548025962\t332.7596435546875\t--------\t5.202150535625647\n",
      "Epoch:  47  Batch size:  500\n",
      "train done\n",
      "47\t18806.14807061199\t331.8409729003906\t--------\t5.191800499341764\n",
      "Epoch:  48  Batch size:  500\n",
      "train done\n",
      "48\t19200.227557211183\t331.5841979980469\t--------\t5.185112364373813\n",
      "Epoch:  49  Batch size:  500\n",
      "train done\n",
      "49\t19593.558955436107\t330.64837646484375\t--------\t5.175675168537961\n",
      "Epoch:  50  Batch size:  500\n",
      "train done\n",
      "50\t19985.358631029027\t330.12579345703125\t--------\t5.169119410393646\n",
      "Epoch:  51  Batch size:  500\n",
      "train done\n",
      "51\t20376.052526980173\t329.7669372558594\t--------\t5.162380488780322\n",
      "Epoch:  52  Batch size:  500\n",
      "train done\n",
      "52\t20773.182639237028\t329.3297119140625\t--------\t5.15679845719311\n",
      "Epoch:  53  Batch size:  500\n",
      "train done\n",
      "53\t21169.099847052014\t328.995849609375\t--------\t5.149323598956535\n",
      "Epoch:  54  Batch size:  500\n",
      "train done\n",
      "54\t21569.559026980074\t328.8694763183594\t--------\t5.143081663015797\n",
      "Epoch:  55  Batch size:  500\n",
      "train done\n",
      "55\t21958.32913762401\t328.6705017089844\t--------\t5.138665746867986\n",
      "Epoch:  56  Batch size:  500\n",
      "train done\n",
      "56\t22350.05633952096\t328.3077697753906\t--------\t5.133599529118827\n",
      "Epoch:  57  Batch size:  500\n",
      "train done\n",
      "57\t22740.428267118055\t328.8943786621094\t--------\t5.130778033683312\n",
      "Epoch:  58  Batch size:  500\n",
      "train done\n",
      "58\t23146.052555520087\t328.010498046875\t--------\t5.123482143001662\n",
      "Epoch:  59  Batch size:  500\n",
      "train done\n",
      "59\t23541.948672862025\t327.75811767578125\t--------\t5.119734065103268\n",
      "Epoch:  60  Batch size:  500\n",
      "train done\n",
      "60\t23931.491125529166\t327.44659423828125\t--------\t5.115860188352469\n",
      "Epoch:  61  Batch size:  500\n",
      "train done\n",
      "61\t24326.793200962013\t327.3758239746094\t--------\t5.110084757599383\n",
      "Epoch:  62  Batch size:  500\n",
      "train done\n",
      "62\t24719.200589291053\t327.1352844238281\t--------\t5.104826760982283\n",
      "Epoch:  63  Batch size:  500\n",
      "train done\n",
      "63\t25117.341578775086\t327.3497314453125\t--------\t5.099201123316643\n",
      "Epoch:  64  Batch size:  500\n",
      "train done\n",
      "64\t25513.107952648075\t326.9555358886719\t--------\t5.093208564884755\n",
      "Epoch:  65  Batch size:  500\n",
      "train done\n",
      "65\t25908.61646213103\t326.6491394042969\t--------\t5.088505686048645\n",
      "Epoch:  66  Batch size:  500\n",
      "train done\n",
      "66\t26305.643950789003\t326.14990234375\t--------\t5.0821106422382165\n",
      "Epoch:  67  Batch size:  500\n",
      "train done\n",
      "67\t26705.55526154698\t326.27264404296875\t--------\t5.0774830831453945\n",
      "Epoch:  68  Batch size:  500\n",
      "train done\n",
      "68\t27099.193688825006\t325.6169738769531\t--------\t5.0727215876289495\n",
      "Epoch:  69  Batch size:  500\n",
      "train done\n",
      "69\t27496.21948259999\t325.7041015625\t--------\t5.0663995890749085\n",
      "Epoch:  70  Batch size:  500\n",
      "train done\n",
      "70\t27894.939495489\t325.3773498535156\t--------\t5.064227273677594\n",
      "Epoch:  71  Batch size:  500\n",
      "train done\n",
      "71\t28293.928300292\t325.1102600097656\t--------\t5.056188461388014\n",
      "Epoch:  72  Batch size:  500\n",
      "train done\n",
      "72\t28694.004179342184\t324.6145935058594\t--------\t5.053730883182084\n",
      "Epoch:  73  Batch size:  500\n",
      "train done\n",
      "73\t29094.035480129067\t324.9012451171875\t--------\t5.048361422544026\n",
      "Epoch:  74  Batch size:  500\n",
      "train done\n",
      "74\t29487.325217681006\t324.2547607421875\t--------\t5.043040179342196\n",
      "Epoch:  75  Batch size:  500\n",
      "train done\n",
      "75\t29882.030703240074\t324.4476013183594\t--------\t5.03947148376802\n",
      "Epoch:  76  Batch size:  500\n",
      "train done\n",
      "76\t30277.524683319964\t324.2369689941406\t--------\t5.034309100915055\n",
      "Epoch:  77  Batch size:  500\n",
      "train done\n",
      "77\t30665.691923522158\t323.9424743652344\t--------\t5.0304357475154315\n",
      "Epoch:  78  Batch size:  500\n",
      "train done\n",
      "78\t31068.98747238703\t323.9598083496094\t--------\t5.022032124050415\n",
      "Epoch:  79  Batch size:  500\n",
      "train done\n",
      "79\t31462.493593235966\t323.5898742675781\t--------\t5.017569842428133\n",
      "Epoch:  80  Batch size:  500\n",
      "train done\n",
      "80\t31849.874299030984\t323.00799560546875\t--------\t5.014255387279869\n",
      "Epoch:  81  Batch size:  500\n",
      "train done\n",
      "81\t32242.800532980124\t322.8821105957031\t--------\t5.0128218525417605\n",
      "Epoch:  82  Batch size:  500\n",
      "train done\n",
      "82\t32643.44811436301\t322.7847595214844\t--------\t5.005496791776372\n",
      "Epoch:  83  Batch size:  500\n",
      "train done\n",
      "83\t33037.552773528965\t322.57049560546875\t--------\t5.001419918502892\n",
      "Epoch:  84  Batch size:  500\n",
      "train done\n",
      "84\t33425.537016463\t322.3110656738281\t--------\t4.996970411437651\n",
      "Epoch:  85  Batch size:  500\n",
      "train done\n",
      "85\t33817.39800156909\t322.0237121582031\t--------\t4.991920408132985\n",
      "Epoch:  86  Batch size:  500\n",
      "train done\n",
      "86\t34211.17087384709\t321.66888427734375\t--------\t4.989180132955477\n",
      "Epoch:  87  Batch size:  500\n",
      "train done\n",
      "87\t34602.214524914976\t321.4088439941406\t--------\t4.985898072975116\n",
      "Epoch:  88  Batch size:  500\n",
      "train done\n",
      "88\t34993.030313566094\t321.1358642578125\t--------\t4.982523710977965\n",
      "Epoch:  89  Batch size:  500\n",
      "train done\n",
      "89\t35375.20239760401\t321.2344055175781\t--------\t4.980918335635359\n",
      "Epoch:  90  Batch size:  500\n",
      "train done\n",
      "90\t35760.46269530011\t320.7333679199219\t--------\t4.981154390619604\n",
      "Epoch:  91  Batch size:  500\n",
      "train done\n",
      "91\t36141.73263156717\t320.55712890625\t--------\t4.977517724474491\n",
      "Epoch:  92  Batch size:  500\n",
      "train done\n",
      "92\t36529.728593716165\t320.2737121582031\t--------\t4.975945677362094\n",
      "Epoch:  93  Batch size:  500\n",
      "train done\n",
      "93\t36916.50480935606\t320.1440734863281\t--------\t4.9727630490466375\n",
      "Epoch:  94  Batch size:  500\n",
      "train done\n",
      "94\t37319.267061362974\t319.6070556640625\t--------\t4.9704166713314155\n",
      "Epoch:  95  Batch size:  500\n",
      "train done\n",
      "95\t37706.614298827015\t319.3728942871094\t--------\t4.968038807400024\n",
      "Epoch:  96  Batch size:  500\n",
      "train done\n",
      "96\t38101.95571613498\t319.18695068359375\t--------\t4.97025747208569\n",
      "Epoch:  97  Batch size:  500\n",
      "train done\n",
      "97\t38491.33342014998\t319.2239990234375\t--------\t4.966882902535286\n",
      "Epoch:  98  Batch size:  500\n",
      "train done\n",
      "98\t38891.319702154025\t318.985107421875\t--------\t4.964704230377029\n",
      "Epoch:  99  Batch size:  500\n",
      "train done\n",
      "99\t39286.943119484\t318.7866516113281\t--------\t4.962232432665746\n"
     ]
    }
   ],
   "source": [
    "### REST-NON-TRAIN VALUES AS VALIDATION VALUES, BASED ALGORITHM:\n",
    "### Use tanh as activation functions to predict negative values\n",
    "#### NON-SCALED PREDICTIONS (Prof said not to scale) and run for at least 100 epochs to converge\n",
    "\n",
    "\n",
    "################################################################## RUN MODELLL\n",
    "\n",
    "radius = 3\n",
    "dim = 50\n",
    "\n",
    "print('Creating a model.')\n",
    "torch.manual_seed(1234)\n",
    "\n",
    "\n",
    "model = MolecularGraphNeuralNetwork(\n",
    "        N_fingerprints, dim, layer_hidden, layer_output, nfeat=features_train.shape[1],nhid=256,nclass=1,dropout=0.2 ).to(device)\n",
    "trainer = Trainer(model)\n",
    "tester = Tester(model)\n",
    "print('# of model parameters:',\n",
    "      sum([np.prod(p.size()) for p in model.parameters()]))\n",
    "print('-'*100)\n",
    "\n",
    "file_result = train_data_path + '/setting1_run.txt'\n",
    "\n",
    "if task == 'regression':\n",
    "    result = 'Epoch\\tTime(sec)\\tLoss_train\\tMAE_dev\\tMAE_test'\n",
    "\n",
    "with open(file_result, 'w') as f:\n",
    "    f.write(result + '\\n')\n",
    "\n",
    "print('Start training.')\n",
    "print('The result is saved in the output directory every epoch!')\n",
    "\n",
    "all_loss_train = []\n",
    "all_valid_train = []\n",
    "\n",
    "# np.random.seed(1234)\n",
    "\n",
    "start = timeit.default_timer()\n",
    "\n",
    "# BATCH THIS HERE AND ADJ MATRIX CALC EVERY TIME\n",
    "\n",
    "# epoch_batch_size = int( len(dataset_train)/iteration )\n",
    "# epoch_batch_size = 1000\n",
    "epochs = 100\n",
    "\n",
    "epoch_batch_size = 500\n",
    "iterations_per_epoch = int(len(dataset_train)/epoch_batch_size)\n",
    "print(epochs, iterations_per_epoch)\n",
    "\n",
    "for epoch in range(epochs):\n",
    "    \n",
    "    batch_start_nd = 0\n",
    "    batch_end_nd = epoch_batch_size\n",
    "    print('Epoch: ', epoch, ' Batch size: ', epoch_batch_size)\n",
    "    \n",
    "    for iteration in range(iterations_per_epoch):\n",
    "        # Dont decay lr\n",
    "        # if epoch % decay_interval == 0:\n",
    "        #     trainer.optimizer.param_groups[0]['lr'] *= lr_decay\n",
    "\n",
    "        ds_train = dataset_train[batch_start_nd:batch_end_nd]\n",
    "        fs_train = features_train[batch_start_nd:batch_end_nd]\n",
    "        \n",
    "        loss_train = trainer.train(ds_train, fs_train, adj.todense(), train=True)\n",
    "        \n",
    "        batch_start_nd = batch_end_nd\n",
    "        batch_end_nd = batch_start_nd + epoch_batch_size\n",
    "        if(iteration == iterations_per_epoch - 1):\n",
    "          batch_start_nd = batch_end_nd\n",
    "          batch_end_nd = len(dataset_train)\n",
    "        \n",
    "        \n",
    "    if task == 'regression':\n",
    "      # do b-proc here\n",
    "      valid_mse = '--------'\n",
    "#       for i_valid in range(batch_end_nd, len(dataset_train), 1000):\n",
    "#         # print('valid', i_valid)\n",
    "#         data_dev_batch = dataset_train[i_valid:i_valid+1000]\n",
    "#         prediction_dev = tester.test_regressor(data_dev_batch, features_train[i_valid:i_valid+1000], adj.todense())\n",
    "#         valid_mse += prediction_dev\n",
    "\n",
    "      print('train done')\n",
    "\n",
    "      test_mse = 0\n",
    "      for i_test in range(0, len(dataset_test), 500):\n",
    "        # print('test', i_test)\n",
    "        data_test_batch = dataset_test[i_test:i_test+500]\n",
    "        prediction_test = tester.test_regressor(data_test_batch, features_test[i_test:i_test+500], adj.todense())\n",
    "        test_mse += prediction_test\n",
    "\n",
    "    time = timeit.default_timer() - start\n",
    "\n",
    "    if epoch == 0:\n",
    "        minutes = time * iteration / 60\n",
    "        hours = int(minutes / 60)\n",
    "        minutes = int(minutes - 60 * hours)\n",
    "        print('The training will finish in about',\n",
    "              hours, 'hours', minutes, 'minutes.')\n",
    "        print('-'*100)\n",
    "        print(result)\n",
    "\n",
    "    result = '\\t'.join(map(str, [epoch, time, loss_train,\n",
    "                                 valid_mse, test_mse]))\n",
    "    # tester.save_result(result, file_result)\n",
    "\n",
    "    print(result)\n",
    "    all_loss_train.append(loss_train)\n",
    "    all_valid_train.append(valid_mse)\n",
    "    "
   ]
  },
  {
   "cell_type": "code",
   "execution_count": null,
   "metadata": {},
   "outputs": [],
   "source": []
  },
  {
   "cell_type": "code",
   "execution_count": 42,
   "metadata": {},
   "outputs": [
    {
     "data": {
      "text/plain": [
       "[<matplotlib.lines.Line2D at 0x7f47e034fbb0>]"
      ]
     },
     "execution_count": 42,
     "metadata": {},
     "output_type": "execute_result"
    },
    {
     "data": {
      "image/png": "[encoded data removed]",
      "text/plain": [
       "<Figure size 432x288 with 1 Axes>"
      ]
     },
     "metadata": {
      "image/png": {
       "height": 261,
       "width": 386
      },
      "needs_background": "light"
     },
     "output_type": "display_data"
    }
   ],
   "source": [
    "# Plot epoch vs train-error curve\n",
    "plt.plot(range(100), all_loss_train)\n"
   ]
  },
  {
   "cell_type": "code",
   "execution_count": 46,
   "metadata": {},
   "outputs": [],
   "source": [
    "# Plot epoch vs train-error curve\n"
   ]
  },
  {
   "cell_type": "code",
   "execution_count": null,
   "metadata": {},
   "outputs": [],
   "source": []
  },
  {
   "cell_type": "code",
   "execution_count": 47,
   "metadata": {},
   "outputs": [],
   "source": [
    "data_batch = list(zip(*dataset_test[0:100]))\n",
    "preds, actual = model.forward_regressor(data_batch, features_test[:100], adj.todense(), train = False)"
   ]
  },
  {
   "cell_type": "code",
   "execution_count": 48,
   "metadata": {},
   "outputs": [
    {
     "data": {
      "text/plain": [
       "array([  8.319962  ,  21.294733  , -42.1914    ,  -0.99427366,\n",
       "        16.753506  ], dtype=float32)"
      ]
     },
     "execution_count": 48,
     "metadata": {},
     "output_type": "execute_result"
    }
   ],
   "source": [
    "actual[:5]"
   ]
  },
  {
   "cell_type": "code",
   "execution_count": 49,
   "metadata": {},
   "outputs": [
    {
     "data": {
      "text/plain": [
       "array([ -1.129737 ,  16.94623  , -12.76953  ,   4.5051703,  -7.5584607],\n",
       "      dtype=float32)"
      ]
     },
     "execution_count": 49,
     "metadata": {},
     "output_type": "execute_result"
    }
   ],
   "source": [
    "preds[:5]"
   ]
  },
  {
   "cell_type": "code",
   "execution_count": 52,
   "metadata": {},
   "outputs": [
    {
     "data": {
      "text/plain": [
       "0.2946425195295489"
      ]
     },
     "execution_count": 52,
     "metadata": {},
     "output_type": "execute_result"
    }
   ],
   "source": [
    "# check correlation coeff\n",
    "from sklearn.metrics import r2_score\n",
    "r2_score(actual, preds)"
   ]
  },
  {
   "cell_type": "code",
   "execution_count": null,
   "metadata": {},
   "outputs": [],
   "source": []
  },
  {
   "cell_type": "code",
   "execution_count": 50,
   "metadata": {},
   "outputs": [],
   "source": [
    "### This is good model\n",
    "# torch.save(model, 'Trained Model GNN-GCN_100epochs_non-scaled_tanh-actfn/model')"
   ]
  },
  {
   "cell_type": "code",
   "execution_count": null,
   "metadata": {},
   "outputs": [],
   "source": []
  },
  {
   "cell_type": "code",
   "execution_count": null,
   "metadata": {},
   "outputs": [
    {
     "name": "stdout",
     "output_type": "stream",
     "text": [
      "Creating a model.\n",
      "# of model parameters: 2312301\n",
      "----------------------------------------------------------------------------------------------------\n",
      "Start training.\n",
      "The result is saved in the output directory every epoch!\n",
      "400 30\n",
      "Epoch:  0  Batch size:  500\n",
      "train done\n",
      "The training will finish in about 2 hours 48 minutes.\n",
      "----------------------------------------------------------------------------------------------------\n",
      "Epoch\tTime(sec)\tLoss_train\tMAE_dev\tMAE_test\n",
      "0\t347.9992331760004\t488.6141357421875\t--------\t0\n",
      "Epoch:  1  Batch size:  500\n",
      "train done\n",
      "1\t696.4051312641241\t425.5480041503906\t--------\t0\n",
      "Epoch:  2  Batch size:  500\n",
      "train done\n",
      "2\t1034.09450315102\t426.2303161621094\t--------\t0\n",
      "Epoch:  3  Batch size:  500\n",
      "train done\n",
      "3\t1379.1659894511104\t423.0334167480469\t--------\t0\n",
      "Epoch:  4  Batch size:  500\n",
      "train done\n",
      "4\t1725.5618353649043\t389.6933288574219\t--------\t0\n",
      "Epoch:  5  Batch size:  500\n",
      "train done\n",
      "5\t2075.929360694019\t342.5058898925781\t--------\t0\n",
      "Epoch:  6  Batch size:  500\n",
      "train done\n",
      "6\t2432.1382400391158\t344.64471435546875\t--------\t0\n",
      "Epoch:  7  Batch size:  500\n",
      "train done\n",
      "7\t2793.6844466940966\t337.3428649902344\t--------\t0\n",
      "Epoch:  8  Batch size:  500\n",
      "train done\n",
      "8\t3146.162991096033\t335.0464782714844\t--------\t0\n",
      "Epoch:  9  Batch size:  500\n",
      "train done\n",
      "9\t3487.4982970119454\t337.84246826171875\t--------\t0\n",
      "Epoch:  10  Batch size:  500\n",
      "train done\n",
      "10\t3830.5387123299297\t340.6263732910156\t--------\t0\n",
      "Epoch:  11  Batch size:  500\n",
      "train done\n",
      "11\t4170.879842400085\t340.41473388671875\t--------\t0\n",
      "Epoch:  12  Batch size:  500\n",
      "train done\n",
      "12\t4509.371724016033\t339.2366027832031\t--------\t0\n",
      "Epoch:  13  Batch size:  500\n",
      "train done\n",
      "13\t4846.06196554401\t338.7544860839844\t--------\t0\n",
      "Epoch:  14  Batch size:  500\n",
      "train done\n",
      "14\t5181.824164445978\t337.56292724609375\t--------\t0\n",
      "Epoch:  15  Batch size:  500\n",
      "train done\n",
      "15\t5524.099973262055\t336.8363037109375\t--------\t0\n",
      "Epoch:  16  Batch size:  500\n",
      "train done\n",
      "16\t5862.0362728280015\t335.6271667480469\t--------\t0\n",
      "Epoch:  17  Batch size:  500\n",
      "train done\n",
      "17\t6216.944382786052\t334.44757080078125\t--------\t0\n",
      "Epoch:  18  Batch size:  500\n",
      "train done\n",
      "18\t6599.1951765469275\t333.5707092285156\t--------\t0\n",
      "Epoch:  19  Batch size:  500\n",
      "train done\n",
      "19\t6974.423699270934\t332.9764709472656\t--------\t0\n",
      "Epoch:  20  Batch size:  500\n",
      "train done\n",
      "20\t7330.736836079042\t332.5583190917969\t--------\t0\n",
      "Epoch:  21  Batch size:  500\n",
      "train done\n",
      "21\t7693.500066536944\t332.70550537109375\t--------\t0\n",
      "Epoch:  22  Batch size:  500\n",
      "train done\n",
      "22\t8053.693662239937\t332.8149719238281\t--------\t0\n",
      "Epoch:  23  Batch size:  500\n",
      "train done\n",
      "23\t8409.306219102116\t332.593505859375\t--------\t0\n",
      "Epoch:  24  Batch size:  500\n",
      "train done\n",
      "24\t8770.576428422937\t332.5700378417969\t--------\t0\n",
      "Epoch:  25  Batch size:  500\n",
      "train done\n",
      "25\t9130.284607715905\t332.26318359375\t--------\t0\n",
      "Epoch:  26  Batch size:  500\n",
      "train done\n",
      "26\t9487.50429187296\t332.06695556640625\t--------\t0\n",
      "Epoch:  27  Batch size:  500\n",
      "train done\n",
      "27\t9842.57036810508\t331.6796875\t--------\t0\n",
      "Epoch:  28  Batch size:  500\n",
      "train done\n",
      "28\t10205.084302249132\t331.6416320800781\t--------\t0\n",
      "Epoch:  29  Batch size:  500\n",
      "train done\n",
      "29\t10563.299225240014\t330.9657287597656\t--------\t0\n",
      "Epoch:  30  Batch size:  500\n",
      "train done\n",
      "30\t10916.08895357605\t330.527099609375\t--------\t0\n",
      "Epoch:  31  Batch size:  500\n",
      "train done\n",
      "31\t11276.959922661074\t330.8434143066406\t--------\t0\n",
      "Epoch:  32  Batch size:  500\n",
      "train done\n",
      "32\t11634.891911500134\t330.0837707519531\t--------\t0\n",
      "Epoch:  33  Batch size:  500\n",
      "train done\n",
      "33\t11996.982023244957\t330.5397644042969\t--------\t0\n",
      "Epoch:  34  Batch size:  500\n",
      "train done\n",
      "34\t12356.132991996128\t329.38055419921875\t--------\t0\n",
      "Epoch:  35  Batch size:  500\n",
      "train done\n",
      "35\t12712.711917261127\t329.46356201171875\t--------\t0\n",
      "Epoch:  36  Batch size:  500\n",
      "train done\n",
      "36\t13065.564314021962\t328.98602294921875\t--------\t0\n",
      "Epoch:  37  Batch size:  500\n",
      "train done\n",
      "37\t13425.864474703092\t328.3219909667969\t--------\t0\n",
      "Epoch:  38  Batch size:  500\n",
      "train done\n",
      "38\t13781.14437450911\t327.7819519042969\t--------\t0\n",
      "Epoch:  39  Batch size:  500\n",
      "train done\n",
      "39\t14134.94846109813\t328.1968078613281\t--------\t0\n",
      "Epoch:  40  Batch size:  500\n",
      "train done\n",
      "40\t14488.48624621611\t327.057861328125\t--------\t0\n",
      "Epoch:  41  Batch size:  500\n",
      "train done\n",
      "41\t14854.635464238003\t327.4647521972656\t--------\t0\n",
      "Epoch:  42  Batch size:  500\n",
      "train done\n",
      "42\t15217.604200426955\t326.6523742675781\t--------\t0\n",
      "Epoch:  43  Batch size:  500\n",
      "train done\n",
      "43\t15580.674771221122\t326.2568359375\t--------\t0\n",
      "Epoch:  44  Batch size:  500\n",
      "train done\n",
      "44\t15935.249594347086\t325.93267822265625\t--------\t0\n",
      "Epoch:  45  Batch size:  500\n",
      "train done\n",
      "45\t16297.838424171088\t325.369384765625\t--------\t0\n",
      "Epoch:  46  Batch size:  500\n",
      "train done\n",
      "46\t16655.3310363621\t324.7748107910156\t--------\t0\n",
      "Epoch:  47  Batch size:  500\n",
      "train done\n",
      "47\t17022.860789582133\t324.4315490722656\t--------\t0\n",
      "Epoch:  48  Batch size:  500\n",
      "train done\n",
      "48\t17385.51234558993\t324.2288513183594\t--------\t0\n",
      "Epoch:  49  Batch size:  500\n",
      "train done\n",
      "49\t17754.725918532116\t323.8308410644531\t--------\t0\n",
      "Epoch:  50  Batch size:  500\n",
      "train done\n",
      "50\t18121.431239417987\t323.1625671386719\t--------\t0\n",
      "Epoch:  51  Batch size:  500\n",
      "train done\n",
      "51\t18475.59607530106\t322.35943603515625\t--------\t0\n",
      "Epoch:  52  Batch size:  500\n",
      "train done\n",
      "52\t18839.13519997592\t322.8240966796875\t--------\t0\n",
      "Epoch:  53  Batch size:  500\n",
      "train done\n",
      "53\t19203.673661272973\t322.5557861328125\t--------\t0\n",
      "Epoch:  54  Batch size:  500\n",
      "train done\n",
      "54\t19566.962760980008\t322.32757568359375\t--------\t0\n",
      "Epoch:  55  Batch size:  500\n",
      "train done\n",
      "55\t19929.48648291803\t320.0021057128906\t--------\t0\n",
      "Epoch:  56  Batch size:  500\n",
      "train done\n",
      "56\t20285.706133408938\t319.86883544921875\t--------\t0\n",
      "Epoch:  57  Batch size:  500\n",
      "train done\n",
      "57\t20645.130456669023\t319.9792175292969\t--------\t0\n",
      "Epoch:  58  Batch size:  500\n",
      "train done\n",
      "58\t21007.602591288043\t320.95037841796875\t--------\t0\n",
      "Epoch:  59  Batch size:  500\n",
      "train done\n",
      "59\t21364.763656909112\t319.6202392578125\t--------\t0\n",
      "Epoch:  60  Batch size:  500\n",
      "train done\n",
      "60\t21722.534127443098\t317.9331970214844\t--------\t0\n",
      "Epoch:  61  Batch size:  500\n",
      "train done\n",
      "61\t22092.626186718\t319.4749450683594\t--------\t0\n",
      "Epoch:  62  Batch size:  500\n",
      "train done\n",
      "62\t22459.22262546094\t317.8326416015625\t--------\t0\n",
      "Epoch:  63  Batch size:  500\n",
      "train done\n",
      "63\t22820.63996981294\t317.9722595214844\t--------\t0\n",
      "Epoch:  64  Batch size:  500\n",
      "train done\n",
      "64\t23182.440640290035\t318.6132507324219\t--------\t0\n",
      "Epoch:  65  Batch size:  500\n",
      "train done\n",
      "65\t23541.307292388054\t317.57421875\t--------\t0\n",
      "Epoch:  66  Batch size:  500\n",
      "train done\n",
      "66\t23908.946706180926\t317.7096862792969\t--------\t0\n",
      "Epoch:  67  Batch size:  500\n",
      "train done\n",
      "67\t24254.292559389956\t317.8367004394531\t--------\t0\n",
      "Epoch:  68  Batch size:  500\n",
      "train done\n",
      "68\t24603.132756029954\t316.8893127441406\t--------\t0\n",
      "Epoch:  69  Batch size:  500\n",
      "train done\n",
      "69\t24974.020186420996\t316.83905029296875\t--------\t0\n",
      "Epoch:  70  Batch size:  500\n",
      "train done\n",
      "70\t25365.082789283944\t316.02569580078125\t--------\t0\n",
      "Epoch:  71  Batch size:  500\n",
      "train done\n",
      "71\t25747.421768862056\t314.9572448730469\t--------\t0\n",
      "Epoch:  72  Batch size:  500\n",
      "train done\n",
      "72\t26093.665399231017\t311.5263671875\t--------\t0\n",
      "Epoch:  73  Batch size:  500\n",
      "train done\n",
      "73\t26449.22742422996\t307.0812072753906\t--------\t0\n",
      "Epoch:  74  Batch size:  500\n",
      "train done\n",
      "74\t26823.144650370115\t304.5333251953125\t--------\t0\n",
      "Epoch:  75  Batch size:  500\n",
      "train done\n",
      "75\t27176.074185928097\t304.408935546875\t--------\t0\n",
      "Epoch:  76  Batch size:  500\n",
      "train done\n",
      "76\t27533.34964638995\t304.4422302246094\t--------\t0\n",
      "Epoch:  77  Batch size:  500\n",
      "train done\n",
      "77\t27890.203293056926\t304.8520812988281\t--------\t0\n",
      "Epoch:  78  Batch size:  500\n",
      "train done\n",
      "78\t28249.60074316105\t305.07684326171875\t--------\t0\n",
      "Epoch:  79  Batch size:  500\n",
      "train done\n",
      "79\t28599.597259459086\t305.0807189941406\t--------\t0\n",
      "Epoch:  80  Batch size:  500\n",
      "train done\n",
      "80\t28986.82876447006\t305.049072265625\t--------\t0\n",
      "Epoch:  81  Batch size:  500\n",
      "train done\n",
      "81\t29341.440362443915\t304.71014404296875\t--------\t0\n",
      "Epoch:  82  Batch size:  500\n",
      "train done\n",
      "82\t29693.82018201612\t304.2666931152344\t--------\t0\n",
      "Epoch:  83  Batch size:  500\n"
     ]
    }
   ],
   "source": [
    "### REST-NON-TRAIN VALUES AS VALIDATION VALUES, BASED ALGORITHM:\n",
    "### Use relu as activation functions to predict negative values and non-scaled outputs and 200 epochs\n",
    "\n",
    "\n",
    "################################################################## RUN MODELLL\n",
    "\n",
    "radius = 3\n",
    "dim = 50\n",
    "\n",
    "print('Creating a model.')\n",
    "torch.manual_seed(1234)\n",
    "\n",
    "\n",
    "model_relu = MolecularGraphNeuralNetwork(\n",
    "        N_fingerprints, dim, layer_hidden, layer_output, nfeat=features_train.shape[1],nhid=256,nclass=1,dropout=0.2 ).to(device)\n",
    "trainer_relu = Trainer(model_relu)\n",
    "tester_relu = Tester(model_relu)\n",
    "print('# of model parameters:',\n",
    "      sum([np.prod(p.size()) for p in model_relu.parameters()]))\n",
    "print('-'*100)\n",
    "\n",
    "file_result = train_data_path + '/setting2_run.txt'\n",
    "\n",
    "if task == 'regression':\n",
    "    result = 'Epoch\\tTime(sec)\\tLoss_train\\tMAE_dev\\tMAE_test'\n",
    "\n",
    "with open(file_result, 'w') as f:\n",
    "    f.write(result + '\\n')\n",
    "\n",
    "print('Start training.')\n",
    "print('The result is saved in the output directory every epoch!')\n",
    "\n",
    "all_loss_train = []\n",
    "all_valid_train = []\n",
    "\n",
    "# np.random.seed(1234)\n",
    "\n",
    "start = timeit.default_timer()\n",
    "\n",
    "# BATCH THIS HERE AND ADJ MATRIX CALC EVERY TIME\n",
    "\n",
    "# epoch_batch_size = int( len(dataset_train)/iteration )\n",
    "# epoch_batch_size = 1000\n",
    "epochs = 400\n",
    "\n",
    "epoch_batch_size = 500\n",
    "iterations_per_epoch = int(len(dataset_train)/epoch_batch_size)\n",
    "print(epochs, iterations_per_epoch)\n",
    "\n",
    "for epoch in range(epochs):\n",
    "    \n",
    "    batch_start_nd = 0\n",
    "    batch_end_nd = epoch_batch_size\n",
    "    print('Epoch: ', epoch, ' Batch size: ', epoch_batch_size)\n",
    "    \n",
    "    for iteration in range(iterations_per_epoch):\n",
    "        # Dont decay lr\n",
    "        # if epoch % decay_interval == 0:\n",
    "        #     trainer.optimizer.param_groups[0]['lr'] *= lr_decay\n",
    "\n",
    "        ds_train = dataset_train[batch_start_nd:batch_end_nd]\n",
    "        fs_train = features_train[batch_start_nd:batch_end_nd]\n",
    "        \n",
    "        loss_train = trainer_relu.train(ds_train, fs_train, adj.todense(), train=True)\n",
    "        \n",
    "        batch_start_nd = batch_end_nd\n",
    "        batch_end_nd = batch_start_nd + epoch_batch_size\n",
    "        if(iteration == iterations_per_epoch - 1):\n",
    "          batch_start_nd = batch_end_nd\n",
    "          batch_end_nd = len(dataset_train)\n",
    "        \n",
    "        \n",
    "    if task == 'regression':\n",
    "      # do b-proc here\n",
    "      valid_mse = '--------'\n",
    "#       for i_valid in range(batch_end_nd, len(dataset_train), 1000):\n",
    "#         # print('valid', i_valid)\n",
    "#         data_dev_batch = dataset_train[i_valid:i_valid+1000]\n",
    "#         prediction_dev = tester.test_regressor(data_dev_batch, features_train[i_valid:i_valid+1000], adj.todense())\n",
    "#         valid_mse += prediction_dev\n",
    "\n",
    "      print('train done')\n",
    "\n",
    "      test_mse = 0\n",
    "#       for i_test in range(0, len(dataset_test), 500):\n",
    "#         # print('test', i_test)\n",
    "#         data_test_batch = dataset_test[i_test:i_test+500]\n",
    "#         prediction_test = tester_relu.test_regressor(data_test_batch, features_test[i_test:i_test+500], adj.todense())\n",
    "#         test_mse += prediction_test\n",
    "\n",
    "    time = timeit.default_timer() - start\n",
    "\n",
    "    if epoch == 0:\n",
    "        minutes = time * iteration / 60\n",
    "        hours = int(minutes / 60)\n",
    "        minutes = int(minutes - 60 * hours)\n",
    "        print('The training will finish in about',\n",
    "              hours, 'hours', minutes, 'minutes.')\n",
    "        print('-'*100)\n",
    "        print(result)\n",
    "\n",
    "    result = '\\t'.join(map(str, [epoch, time, loss_train,\n",
    "                                 valid_mse, test_mse]))\n",
    "    # tester.save_result(result, file_result)\n",
    "\n",
    "    print(result)\n",
    "    all_loss_train.append(loss_train)\n",
    "    all_valid_train.append(test_mse)\n",
    "    "
   ]
  },
  {
   "cell_type": "code",
   "execution_count": null,
   "metadata": {},
   "outputs": [],
   "source": [
    "# ALSO TRIED LR = 0.01...NOISY CONVERGENCE"
   ]
  },
  {
   "cell_type": "code",
   "execution_count": 112,
   "metadata": {},
   "outputs": [
    {
     "data": {
      "text/plain": [
       "[<matplotlib.lines.Line2D at 0x7f4e28895760>]"
      ]
     },
     "execution_count": 112,
     "metadata": {},
     "output_type": "execute_result"
    },
    {
     "data": {
      "image/png": "[encoded data removed]",
      "text/plain": [
       "<Figure size 432x288 with 1 Axes>"
      ]
     },
     "metadata": {
      "image/png": {
       "height": 261,
       "width": 380
      },
      "needs_background": "light"
     },
     "output_type": "display_data"
    }
   ],
   "source": [
    "# Plot epoch vs train-error curve\n",
    "plt.plot(range(15), all_loss_train)\n"
   ]
  },
  {
   "cell_type": "code",
   "execution_count": 113,
   "metadata": {
    "id": "ZJgjJCeMUQt1"
   },
   "outputs": [
    {
     "data": {
      "text/plain": [
       "[<matplotlib.lines.Line2D at 0x7f4e1e7e8f40>]"
      ]
     },
     "execution_count": 113,
     "metadata": {},
     "output_type": "execute_result"
    },
    {
     "data": {
      "image/png": "[encoded data removed]",
      "text/plain": [
       "<Figure size 432x288 with 1 Axes>"
      ]
     },
     "metadata": {
      "image/png": {
       "height": 261,
       "width": 389
      },
      "needs_background": "light"
     },
     "output_type": "display_data"
    }
   ],
   "source": [
    "# Plot epoch vs train-error curve\n",
    "plt.plot(range(15), all_valid_train)\n"
   ]
  },
  {
   "cell_type": "code",
   "execution_count": 111,
   "metadata": {},
   "outputs": [
    {
     "data": {
      "text/plain": [
       "5637"
      ]
     },
     "execution_count": 111,
     "metadata": {},
     "output_type": "execute_result"
    }
   ],
   "source": [
    "gc.collect()"
   ]
  },
  {
   "cell_type": "code",
   "execution_count": 44,
   "metadata": {},
   "outputs": [],
   "source": [
    "data_batch = list(zip(*dataset_test[0:10]))\n",
    "\n",
    "preds, actual = model.forward_regressor(data_batch, features_train[:10], adj.todense(), train = False)\n",
    "\n",
    "\n",
    "#         predicted_values, correct_values = self.model.forward_regressor(\n",
    "#                                             data_batch, x, adj, train=False)"
   ]
  },
  {
   "cell_type": "code",
   "execution_count": 45,
   "metadata": {},
   "outputs": [
    {
     "name": "stdout",
     "output_type": "stream",
     "text": [
      "(10,)\n",
      "(10,)\n"
     ]
    }
   ],
   "source": [
    "# Inverse scale and compare metrics\n",
    "\n",
    "preds_inv = scaler.inverse_transform(preds)\n",
    "print(preds_inv.shape)\n",
    "actual_inv = scaler.inverse_transform(actual)\n",
    "print(actual_inv.shape)\n",
    "# Check what acti function and scaling method to use to get negative predictions"
   ]
  },
  {
   "cell_type": "code",
   "execution_count": 46,
   "metadata": {},
   "outputs": [
    {
     "name": "stdout",
     "output_type": "stream",
     "text": [
      "In scaled version, MSE is:  0.71597683\n",
      "In original version, MSE is:  353.31335\n"
     ]
    }
   ],
   "source": [
    "from sklearn.metrics import mean_squared_error as mse_error\n",
    "print('In scaled version, MSE is: ', mse_error(actual, preds))\n",
    "print('In original version, MSE is: ', mse_error(actual_inv, preds_inv))\n"
   ]
  },
  {
   "cell_type": "code",
   "execution_count": 49,
   "metadata": {},
   "outputs": [
    {
     "data": {
      "text/plain": [
       "array([6.5983844, 6.3946595, 6.0836906, 7.539284 , 5.916025 , 7.4351454,\n",
       "       6.3773155, 6.9938483, 6.621343 , 7.9209294], dtype=float32)"
      ]
     },
     "execution_count": 49,
     "metadata": {},
     "output_type": "execute_result"
    }
   ],
   "source": [
    "preds_inv"
   ]
  },
  {
   "cell_type": "code",
   "execution_count": 156,
   "metadata": {},
   "outputs": [
    {
     "data": {
      "text/plain": [
       "array([  1.6303278,  20.362988 ,   2.1084578,  15.571226 , -15.15977  ,\n",
       "         4.920735 ,   0.650415 , -18.720816 ,  49.16553  ,  24.608122 ],\n",
       "      dtype=float32)"
      ]
     },
     "execution_count": 156,
     "metadata": {},
     "output_type": "execute_result"
    }
   ],
   "source": [
    "actual_inv"
   ]
  },
  {
   "cell_type": "code",
   "execution_count": null,
   "metadata": {},
   "outputs": [],
   "source": [
    "# torch.save(model, 'Trained Model GNN-GCN/model')"
   ]
  },
  {
   "cell_type": "code",
   "execution_count": 157,
   "metadata": {},
   "outputs": [
    {
     "data": {
      "text/plain": [
       "array([ 0.08618711,  0.04809671,  0.03189801,  0.0309574 ,  0.08550937,\n",
       "       -0.03106661,  0.04023261,  0.01050187, -0.02593217,  0.02945607,\n",
       "        0.07679251,  0.04852899,  0.08991359,  0.04468206,  0.079864  ,\n",
       "        0.05929171,  0.03453385,  0.04569567,  0.06626941,  0.01343243,\n",
       "        0.03089802, -0.0057711 ,  0.07312735,  0.04967072, -0.00220926,\n",
       "        0.04631687,  0.01125146,  0.07468678,  0.02793835,  0.0475954 ,\n",
       "        0.02787326,  0.0039828 , -0.00452556,  0.07961084,  0.09472699,\n",
       "        0.05611373,  0.08974524,  0.01041357, -0.03830655,  0.03863859,\n",
       "        0.09931492,  0.0422984 ,  0.08065198,  0.05897057,  0.01988907,\n",
       "        0.03114261,  0.08027725,  0.04842329,  0.00887115, -0.02759029,\n",
       "        0.05295374,  0.03695037,  0.03890365, -0.02818772,  0.03265865,\n",
       "       -0.01213716,  0.00156318,  0.07989828, -0.03107905,  0.01537727,\n",
       "        0.01923671,  0.04556826,  0.01862747,  0.04434333,  0.03850257,\n",
       "        0.086329  ,  0.06393921, -0.00252621,  0.04496746,  0.04102636,\n",
       "       -0.03534742,  0.05552564,  0.03371812,  0.02832779,  0.075156  ,\n",
       "        0.0827565 ,  0.07282047,  0.04065784,  0.03515969,  0.05564289,\n",
       "        0.06639086,  0.01269429,  0.06356142,  0.08275805,  0.0480032 ,\n",
       "        0.05092527,  0.06131884,  0.05240208,  0.03827635, -0.00674351,\n",
       "       -0.01064111,  0.01269663, -0.01907734,  0.02210919,  0.04813707,\n",
       "       -0.00621206,  0.07478301, -0.02641028,  0.04463048,  0.04302859],\n",
       "      dtype=float32)"
      ]
     },
     "execution_count": 157,
     "metadata": {},
     "output_type": "execute_result"
    }
   ],
   "source": [
    "preds"
   ]
  },
  {
   "cell_type": "code",
   "execution_count": null,
   "metadata": {},
   "outputs": [],
   "source": []
  },
  {
   "cell_type": "code",
   "execution_count": null,
   "metadata": {},
   "outputs": [],
   "source": []
  },
  {
   "cell_type": "code",
   "execution_count": null,
   "metadata": {},
   "outputs": [],
   "source": []
  },
  {
   "cell_type": "code",
   "execution_count": null,
   "metadata": {},
   "outputs": [],
   "source": [
    "\n"
   ]
  },
  {
   "cell_type": "code",
   "execution_count": 36,
   "metadata": {
    "colab": {
     "base_uri": "https://localhost:8080/"
    },
    "id": "g0h6M6bgUQxR",
    "outputId": "9301064a-768c-4807-c5a8-851508d11769"
   },
   "outputs": [
    {
     "name": "stdout",
     "output_type": "stream",
     "text": [
      "Creating a model.\n",
      "# of model parameters: 4191291\n",
      "----------------------------------------------------------------------------------------------------\n",
      "Start training.\n",
      "The result is saved in the output directory every epoch!\n",
      "50\n",
      "Epoch:  0\n",
      "valid done\n",
      "0\t128.22875083703548\t1.006762981414795\t0.005135622143745422\t0.013355601730267645\n",
      "Epoch:  1\n",
      "valid done\n",
      "The training will finish in about 3 hours 33 minutes.\n",
      "----------------------------------------------------------------------------------------------------\n",
      "0\t128.22875083703548\t1.006762981414795\t0.005135622143745422\t0.013355601730267645\n",
      "1\t255.76632208703086\t0.8879749774932861\t0.005129100680351257\t0.013342782620566986\n",
      "Epoch:  2\n",
      "valid done\n",
      "2\t380.7526260970626\t1.2042992115020752\t0.005123589158058167\t0.013330634168498423\n",
      "Epoch:  3\n",
      "valid done\n",
      "3\t508.72058509709314\t1.1365541219711304\t0.005120469212532043\t0.01332176542743135\n",
      "Epoch:  4\n",
      "valid done\n",
      "4\t631.5647250551265\t1.0405992269515991\t0.005121366500854492\t0.013317801544679462\n",
      "Epoch:  5\n",
      "valid done\n",
      "5\t759.9500766349956\t1.1128878593444824\t0.005121809720993042\t0.013313709291963946\n",
      "Epoch:  6\n",
      "valid done\n",
      "6\t889.8469081821386\t1.3014531135559082\t0.005121458888053894\t0.013308727265721527\n",
      "Epoch:  7\n",
      "valid done\n",
      "7\t1020.0019888211973\t1.11289381980896\t0.005121703505516052\t0.013304990868542074\n",
      "Epoch:  8\n"
     ]
    },
    {
     "ename": "KeyboardInterrupt",
     "evalue": "",
     "output_type": "error",
     "traceback": [
      "\u001b[0;31m---------------------------------------------------------------------------\u001b[0m",
      "\u001b[0;31mKeyboardInterrupt\u001b[0m                         Traceback (most recent call last)",
      "Input \u001b[0;32mIn [36]\u001b[0m, in \u001b[0;36m<cell line: 45>\u001b[0;34m()\u001b[0m\n\u001b[1;32m     52\u001b[0m fs_train \u001b[38;5;241m=\u001b[39m features_train[batch_start_nd:batch_end_nd]\n\u001b[1;32m     55\u001b[0m \u001b[38;5;28mprint\u001b[39m(\u001b[38;5;124m'\u001b[39m\u001b[38;5;124mEpoch: \u001b[39m\u001b[38;5;124m'\u001b[39m, epoch)\n\u001b[0;32m---> 56\u001b[0m loss_train \u001b[38;5;241m=\u001b[39m \u001b[43mtrainer\u001b[49m\u001b[38;5;241;43m.\u001b[39;49m\u001b[43mtrain\u001b[49m\u001b[43m(\u001b[49m\u001b[43mds_train\u001b[49m\u001b[43m,\u001b[49m\u001b[43m \u001b[49m\u001b[43mfs_train\u001b[49m\u001b[43m,\u001b[49m\u001b[43m \u001b[49m\u001b[43madj\u001b[49m\u001b[38;5;241;43m.\u001b[39;49m\u001b[43mtodense\u001b[49m\u001b[43m(\u001b[49m\u001b[43m)\u001b[49m\u001b[43m,\u001b[49m\u001b[43m \u001b[49m\u001b[43mtrain\u001b[49m\u001b[38;5;241;43m=\u001b[39;49m\u001b[38;5;28;43;01mTrue\u001b[39;49;00m\u001b[43m)\u001b[49m\n\u001b[1;32m     57\u001b[0m \u001b[38;5;66;03m# print('done')\u001b[39;00m\n\u001b[1;32m     58\u001b[0m \u001b[38;5;28;01mif\u001b[39;00m task \u001b[38;5;241m==\u001b[39m \u001b[38;5;124m'\u001b[39m\u001b[38;5;124mregression\u001b[39m\u001b[38;5;124m'\u001b[39m:\n\u001b[1;32m     59\u001b[0m   \u001b[38;5;66;03m# do b-proc here\u001b[39;00m\n",
      "Input \u001b[0;32mIn [24]\u001b[0m, in \u001b[0;36mTrainer.train\u001b[0;34m(self, dataset, x, adj, train)\u001b[0m\n\u001b[1;32m    340\u001b[0m loss \u001b[38;5;241m=\u001b[39m \u001b[38;5;28mself\u001b[39m\u001b[38;5;241m.\u001b[39mmodel\u001b[38;5;241m.\u001b[39mforward_regressor(data_batch, x, adj, train\u001b[38;5;241m=\u001b[39m\u001b[38;5;28;01mTrue\u001b[39;00m)\n\u001b[1;32m    341\u001b[0m \u001b[38;5;28mself\u001b[39m\u001b[38;5;241m.\u001b[39moptimizer\u001b[38;5;241m.\u001b[39mzero_grad()\n\u001b[0;32m--> 342\u001b[0m \u001b[43mloss\u001b[49m\u001b[38;5;241;43m.\u001b[39;49m\u001b[43mbackward\u001b[49m\u001b[43m(\u001b[49m\u001b[43m)\u001b[49m\n\u001b[1;32m    343\u001b[0m \u001b[38;5;28mself\u001b[39m\u001b[38;5;241m.\u001b[39moptimizer\u001b[38;5;241m.\u001b[39mstep()\n\u001b[1;32m    344\u001b[0m loss_total \u001b[38;5;241m+\u001b[39m\u001b[38;5;241m=\u001b[39m loss\u001b[38;5;241m.\u001b[39mitem()\n",
      "File \u001b[0;32m~/.local/lib/python3.8/site-packages/torch/_tensor.py:363\u001b[0m, in \u001b[0;36mTensor.backward\u001b[0;34m(self, gradient, retain_graph, create_graph, inputs)\u001b[0m\n\u001b[1;32m    354\u001b[0m \u001b[38;5;28;01mif\u001b[39;00m has_torch_function_unary(\u001b[38;5;28mself\u001b[39m):\n\u001b[1;32m    355\u001b[0m     \u001b[38;5;28;01mreturn\u001b[39;00m handle_torch_function(\n\u001b[1;32m    356\u001b[0m         Tensor\u001b[38;5;241m.\u001b[39mbackward,\n\u001b[1;32m    357\u001b[0m         (\u001b[38;5;28mself\u001b[39m,),\n\u001b[0;32m   (...)\u001b[0m\n\u001b[1;32m    361\u001b[0m         create_graph\u001b[38;5;241m=\u001b[39mcreate_graph,\n\u001b[1;32m    362\u001b[0m         inputs\u001b[38;5;241m=\u001b[39minputs)\n\u001b[0;32m--> 363\u001b[0m \u001b[43mtorch\u001b[49m\u001b[38;5;241;43m.\u001b[39;49m\u001b[43mautograd\u001b[49m\u001b[38;5;241;43m.\u001b[39;49m\u001b[43mbackward\u001b[49m\u001b[43m(\u001b[49m\u001b[38;5;28;43mself\u001b[39;49m\u001b[43m,\u001b[49m\u001b[43m \u001b[49m\u001b[43mgradient\u001b[49m\u001b[43m,\u001b[49m\u001b[43m \u001b[49m\u001b[43mretain_graph\u001b[49m\u001b[43m,\u001b[49m\u001b[43m \u001b[49m\u001b[43mcreate_graph\u001b[49m\u001b[43m,\u001b[49m\u001b[43m \u001b[49m\u001b[43minputs\u001b[49m\u001b[38;5;241;43m=\u001b[39;49m\u001b[43minputs\u001b[49m\u001b[43m)\u001b[49m\n",
      "File \u001b[0;32m~/.local/lib/python3.8/site-packages/torch/autograd/__init__.py:173\u001b[0m, in \u001b[0;36mbackward\u001b[0;34m(tensors, grad_tensors, retain_graph, create_graph, grad_variables, inputs)\u001b[0m\n\u001b[1;32m    168\u001b[0m     retain_graph \u001b[38;5;241m=\u001b[39m create_graph\n\u001b[1;32m    170\u001b[0m \u001b[38;5;66;03m# The reason we repeat same the comment below is that\u001b[39;00m\n\u001b[1;32m    171\u001b[0m \u001b[38;5;66;03m# some Python versions print out the first line of a multi-line function\u001b[39;00m\n\u001b[1;32m    172\u001b[0m \u001b[38;5;66;03m# calls in the traceback and some print out the last line\u001b[39;00m\n\u001b[0;32m--> 173\u001b[0m \u001b[43mVariable\u001b[49m\u001b[38;5;241;43m.\u001b[39;49m\u001b[43m_execution_engine\u001b[49m\u001b[38;5;241;43m.\u001b[39;49m\u001b[43mrun_backward\u001b[49m\u001b[43m(\u001b[49m\u001b[43m  \u001b[49m\u001b[38;5;66;43;03m# Calls into the C++ engine to run the backward pass\u001b[39;49;00m\n\u001b[1;32m    174\u001b[0m \u001b[43m    \u001b[49m\u001b[43mtensors\u001b[49m\u001b[43m,\u001b[49m\u001b[43m \u001b[49m\u001b[43mgrad_tensors_\u001b[49m\u001b[43m,\u001b[49m\u001b[43m \u001b[49m\u001b[43mretain_graph\u001b[49m\u001b[43m,\u001b[49m\u001b[43m \u001b[49m\u001b[43mcreate_graph\u001b[49m\u001b[43m,\u001b[49m\u001b[43m \u001b[49m\u001b[43minputs\u001b[49m\u001b[43m,\u001b[49m\n\u001b[1;32m    175\u001b[0m \u001b[43m    \u001b[49m\u001b[43mallow_unreachable\u001b[49m\u001b[38;5;241;43m=\u001b[39;49m\u001b[38;5;28;43;01mTrue\u001b[39;49;00m\u001b[43m,\u001b[49m\u001b[43m \u001b[49m\u001b[43maccumulate_grad\u001b[49m\u001b[38;5;241;43m=\u001b[39;49m\u001b[38;5;28;43;01mTrue\u001b[39;49;00m\u001b[43m)\u001b[49m\n",
      "\u001b[0;31mKeyboardInterrupt\u001b[0m: "
     ]
    }
   ],
   "source": [
    "### LEAVE ONE-OUT VALIDATION BASED ALGORITHM:\n",
    "\n",
    "\n",
    "################################################################## RUN MODELLL\n",
    "\n",
    "dim = 50\n",
    "# iteration=10\n",
    "print('Creating a model.')\n",
    "torch.manual_seed(1234)\n",
    "\n",
    "\n",
    "model = MolecularGraphNeuralNetwork(\n",
    "        N_fingerprints, dim, layer_hidden, layer_output, nfeat=features_train.shape[1],nhid=256,nclass=1,dropout=0.2 ).to(device)\n",
    "trainer = Trainer(model)\n",
    "tester = Tester(model)\n",
    "print('# of model parameters:',\n",
    "      sum([np.prod(p.size()) for p in model.parameters()]))\n",
    "print('-'*100)\n",
    "\n",
    "file_result = train_data_path + '/setting1_run.txt'\n",
    "\n",
    "if task == 'regression':\n",
    "    result = 'Epoch\\tTime(sec)\\tLoss_train\\tMAE_dev\\tMAE_test'\n",
    "\n",
    "with open(file_result, 'w') as f:\n",
    "    f.write(result + '\\n')\n",
    "\n",
    "print('Start training.')\n",
    "print('The result is saved in the output directory every epoch!')\n",
    "\n",
    "all_loss_train = []\n",
    "all_valid_train = []\n",
    "\n",
    "# np.random.seed(1234)\n",
    "\n",
    "start = timeit.default_timer()\n",
    "\n",
    "# BATCH THIS HERE AND ADJ MATRIX CALC EVERY TIME\n",
    "\n",
    "# epoch_batch_size = int( len(dataset_train)/iteration )\n",
    "epoch_batch_size = 1000\n",
    "batch_start_nd = 0\n",
    "batch_end_nd = epoch_batch_size\n",
    "# iteration = int(len(dataset_train)/epoch_batch_size)\n",
    "iteration = 50\n",
    "print(iteration)\n",
    "\n",
    "for epoch in range(iteration):\n",
    "\n",
    "    # Dont decay lr\n",
    "    # if epoch % decay_interval == 0:\n",
    "    #     trainer.optimizer.param_groups[0]['lr'] *= lr_decay\n",
    "\n",
    "    ds_train = dataset_train[batch_start_nd:batch_end_nd]\n",
    "    fs_train = features_train[batch_start_nd:batch_end_nd]\n",
    "\n",
    "\n",
    "    print('Epoch: ', epoch)\n",
    "    loss_train = trainer.train(ds_train, fs_train, adj.todense(), train=True)\n",
    "    # print('done')\n",
    "    if task == 'regression':\n",
    "      # do b-proc here\n",
    "      valid_mse = 0\n",
    "      for i_valid in range(0, len(dataset_dev), 500):\n",
    "        # print('valid', i_valid)\n",
    "        data_dev_batch = dataset_dev[i_valid:i_valid+500]\n",
    "        prediction_dev = tester.test_regressor(data_dev_batch, features_dev[i_valid:i_valid+500], adj.todense())\n",
    "        valid_mse += prediction_dev\n",
    "\n",
    "      print('valid done')\n",
    "\n",
    "      test_mse = 0\n",
    "      for i_test in range(0, len(dataset_test), 500):\n",
    "        # print('test', i_test)\n",
    "        data_test_batch = dataset_test[i_test:i_test+500]\n",
    "        prediction_test = tester.test_regressor(data_test_batch, features_test[i_test:i_test+500], adj.todense())\n",
    "        test_mse += prediction_test\n",
    "    # test_mse = 0\n",
    "    # prediction_test,prediction_dev = 0, 0\n",
    "\n",
    "    time = timeit.default_timer() - start\n",
    "\n",
    "    if epoch == 1:\n",
    "        minutes = time * iteration / 60\n",
    "        hours = int(minutes / 60)\n",
    "        minutes = int(minutes - 60 * hours)\n",
    "        print('The training will finish in about',\n",
    "              hours, 'hours', minutes, 'minutes.')\n",
    "        print('-'*100)\n",
    "        print(result)\n",
    "\n",
    "    result = '\\t'.join(map(str, [epoch, time, loss_train,\n",
    "                                 valid_mse, test_mse]))\n",
    "    # tester.save_result(result, file_result)\n",
    "\n",
    "    print(result)\n",
    "    all_loss_train.append(loss_train)\n",
    "    all_valid_train.append(valid_mse)\n",
    "    epoch += 1\n",
    "\n",
    "    batch_start_nd = batch_end_nd\n",
    "    batch_end_nd = batch_start_nd + epoch_batch_size\n",
    "    if(epoch == iteration):\n",
    "      batch_start_nd = 0\n",
    "      batch_end_nd = epoch_batch_size"
   ]
  },
  {
   "cell_type": "code",
   "execution_count": null,
   "metadata": {
    "id": "-kh3HyJvSXnG"
   },
   "outputs": [],
   "source": []
  },
  {
   "cell_type": "code",
   "execution_count": 46,
   "metadata": {
    "id": "Syghk-dXSXqN"
   },
   "outputs": [
    {
     "data": {
      "text/plain": [
       "[<matplotlib.lines.Line2D at 0x7f97e5e0e460>]"
      ]
     },
     "execution_count": 46,
     "metadata": {},
     "output_type": "execute_result"
    },
    {
     "data": {
      "image/png": "[encoded data removed]",
      "text/plain": [
       "<Figure size 432x288 with 1 Axes>"
      ]
     },
     "metadata": {
      "image/png": {
       "height": 261,
       "width": 380
      },
      "needs_background": "light"
     },
     "output_type": "display_data"
    }
   ],
   "source": [
    "# Plot epoch vs train-error curve\n",
    "plt.plot(range(10), all_loss_train)\n"
   ]
  },
  {
   "cell_type": "code",
   "execution_count": 1,
   "metadata": {
    "id": "anUPFoq0sJtQ"
   },
   "outputs": [],
   "source": [
    "\n",
    "# ################################################################## RUN MODELLL\n",
    "\n",
    "# dim = 50\n",
    "# iteration=50\n",
    "# print('Creating a model.')\n",
    "# torch.manual_seed(1234)\n",
    "\n",
    "\n",
    "# model = MolecularGraphNeuralNetwork(\n",
    "#         N_fingerprints, dim, layer_hidden, layer_output, nfeat=features_train.shape[1],nhid=16,nclass=1,dropout=0.2 ).to(device)\n",
    "# trainer = Trainer(model)\n",
    "# # tester = Tester(model)\n",
    "# print('# of model parameters:',\n",
    "#       sum([np.prod(p.size()) for p in model.parameters()]))\n",
    "# print('-'*100)\n",
    "\n",
    "# file_result = train_data_path + '/setting1_run.txt'\n",
    "\n",
    "# if task == 'regression':\n",
    "#     result = 'Epoch\\tTime(sec)\\tLoss_train\\tMAE_dev\\tMAE_test'\n",
    "\n",
    "# with open(file_result, 'w') as f:\n",
    "#     f.write(result + '\\n')\n",
    "\n",
    "# print('Start training.')\n",
    "# print('The result is saved in the output directory every epoch!')\n",
    "\n",
    "# all_loss_train = []\n",
    "\n",
    "\n",
    "# # np.random.seed(1234)\n",
    "\n",
    "# start = timeit.default_timer()\n",
    "\n",
    "# # BATCH THIS HERE AND ADJ MATRIX CALC EVERY TIME\n",
    "\n",
    "# # epoch_batch_size = int( len(dataset_train)/iteration )\n",
    "# epoch_batch_size = 100\n",
    "# batch_start_nd = 0\n",
    "# batch_end_nd = epoch_batch_size\n",
    "# iteration = int(len(dataset_train)/epoch_batch_size)\n",
    "# print(iteration)\n",
    "\n",
    "# for epoch in range(iteration*2):\n",
    "\n",
    "#     # Dont decay lr\n",
    "#     # if epoch % decay_interval == 0:\n",
    "#     #     trainer.optimizer.param_groups[0]['lr'] *= lr_decay\n",
    "\n",
    "#     ds_train = dataset_train[batch_start_nd:batch_end_nd]\n",
    "#     fs_train = features_train[batch_start_nd:batch_end_nd]\n",
    "\n",
    "\n",
    "#     print(epoch)\n",
    "#     loss_train = trainer.train(ds_train, fs_train, adj, train=True)\n",
    "#     print('done')\n",
    "#     # if task == 'regression':\n",
    "#     #     prediction_dev = tester.test_regressor(dataset_dev)\n",
    "#     #     prediction_test = tester.test_regressor(dataset_test)\n",
    "#     prediction_test,prediction_dev = 0, 0\n",
    "\n",
    "#     time = timeit.default_timer() - start\n",
    "\n",
    "#     if epoch == 1:\n",
    "#         minutes = time * iteration / 60\n",
    "#         hours = int(minutes / 60)\n",
    "#         minutes = int(minutes - 60 * hours)\n",
    "#         print('The training will finish in about',\n",
    "#               hours, 'hours', minutes, 'minutes.')\n",
    "#         print('-'*100)\n",
    "#         print(result)\n",
    "\n",
    "#     result = '\\t'.join(map(str, [epoch, time, loss_train,\n",
    "#                                  prediction_dev, prediction_test]))\n",
    "#     # tester.save_result(result, file_result)\n",
    "\n",
    "#     print(result)\n",
    "#     all_loss_train.append(loss_train)\n",
    "#     epoch += 1\n",
    "\n",
    "#     batch_start_nd = batch_end_nd\n",
    "#     batch_end_nd = batch_start_nd + epoch_batch_size\n",
    "#     if(epoch == iteration):\n",
    "#       batch_start_nd = 0\n",
    "#       batch_end_nd = epoch_batch_size"
   ]
  },
  {
   "cell_type": "code",
   "execution_count": 1,
   "metadata": {
    "id": "Rcscv5ezjwNN"
   },
   "outputs": [],
   "source": []
  },
  {
   "cell_type": "code",
   "execution_count": null,
   "metadata": {
    "id": "u_CTvKzKjwQ8"
   },
   "outputs": [],
   "source": []
  },
  {
   "cell_type": "code",
   "execution_count": null,
   "metadata": {
    "id": "jLd8ZKpJvH2g"
   },
   "outputs": [],
   "source": []
  },
  {
   "cell_type": "code",
   "execution_count": null,
   "metadata": {
    "id": "o8Q-aJO6dDIS"
   },
   "outputs": [],
   "source": []
  },
  {
   "cell_type": "code",
   "execution_count": null,
   "metadata": {
    "id": "18ncRUCWIa2Z"
   },
   "outputs": [],
   "source": []
  },
  {
   "cell_type": "code",
   "execution_count": null,
   "metadata": {
    "colab": {
     "base_uri": "https://localhost:8080/"
    },
    "id": "OgY309pNAjGg",
    "outputId": "7ca0b156-e87c-444f-b201-cce5fb7978c4"
   },
   "outputs": [
    {
     "name": "stdout",
     "output_type": "stream",
     "text": [
      "The code uses a CPU...\n",
      "Preprocessing the GNN  dataset.\n",
      "Just a moment......\n",
      "(10000, 5)\n",
      "Skipped 1131 smiles in training data\n",
      "----------------------------------------------------------------------------------------------------\n",
      "The preprocess has finished!\n",
      "# of training data samples: 7982\n",
      "# of development data samples: 887\n",
      "# of test data samples: 887\n",
      "----------------------------------------------------------------------------------------------------\n"
     ]
    }
   ],
   "source": []
  },
  {
   "cell_type": "code",
   "execution_count": null,
   "metadata": {
    "id": "HT8ArtdhCwSk"
   },
   "outputs": [],
   "source": []
  },
  {
   "cell_type": "code",
   "execution_count": null,
   "metadata": {
    "id": "8uhxdOiuCwhh"
   },
   "outputs": [],
   "source": []
  },
  {
   "cell_type": "code",
   "execution_count": null,
   "metadata": {
    "colab": {
     "base_uri": "https://localhost:8080/"
    },
    "id": "Rt4Dt4M9o3m_",
    "outputId": "b1e0082e-ea79-440c-fc2e-73f2c1c0d401"
   },
   "outputs": [],
   "source": []
  },
  {
   "cell_type": "code",
   "execution_count": null,
   "metadata": {
    "id": "LLnPj9TkxVuq"
   },
   "outputs": [],
   "source": []
  },
  {
   "cell_type": "code",
   "execution_count": null,
   "metadata": {
    "colab": {
     "base_uri": "https://localhost:8080/"
    },
    "id": "TZaZlUeUxVxB",
    "outputId": "630c8ef0-2661-45df-c8b6-7c8456f1066d"
   },
   "outputs": [
    {
     "data": {
      "text/plain": [
       "4500"
      ]
     },
     "execution_count": 57,
     "metadata": {},
     "output_type": "execute_result"
    }
   ],
   "source": [
    "n = int(0.9 * 5000)\n",
    "n"
   ]
  },
  {
   "cell_type": "code",
   "execution_count": null,
   "metadata": {
    "id": "nYajInXCcEZf"
   },
   "outputs": [],
   "source": []
  },
  {
   "cell_type": "code",
   "execution_count": null,
   "metadata": {
    "id": "frhJap4Jw_ww"
   },
   "outputs": [],
   "source": []
  },
  {
   "cell_type": "code",
   "execution_count": null,
   "metadata": {
    "id": "epCdF4qfcEbn"
   },
   "outputs": [],
   "source": []
  },
  {
   "cell_type": "code",
   "execution_count": null,
   "metadata": {
    "id": "ObyySR3GcEdr"
   },
   "outputs": [],
   "source": [
    "\n",
    "################################################################## RUN MODELLL\n",
    "\n",
    "dim = 50\n",
    "iteration=100\n",
    "print('Creating a model.')\n",
    "torch.manual_seed(1234)\n",
    "model = MolecularGraphNeuralNetwork(\n",
    "        N_fingerprints, dim, layer_hidden, layer_output, ).to(device)\n",
    "trainer = Trainer(model)\n",
    "tester = Tester(model)\n",
    "print('# of model parameters:',\n",
    "      sum([np.prod(p.size()) for p in model.parameters()]))\n",
    "print('-'*100)\n",
    "\n",
    "file_result = train_data_path + '/setting1_run.txt'\n",
    "\n",
    "if task == 'regression':\n",
    "    result = 'Epoch\\tTime(sec)\\tLoss_train\\tMAE_dev\\tMAE_test'\n",
    "\n",
    "with open(file_result, 'w') as f:\n",
    "    f.write(result + '\\n')\n",
    "\n",
    "print('Start training.')\n",
    "print('The result is saved in the output directory every epoch!')\n",
    "\n",
    "all_loss_train = []\n",
    "\n",
    "\n",
    "# np.random.seed(1234)\n",
    "\n",
    "start = timeit.default_timer()\n",
    "\n",
    "for epoch in range(iteration):\n",
    "\n",
    "    # Dont decay lr\n",
    "    # if epoch % decay_interval == 0:\n",
    "    #     trainer.optimizer.param_groups[0]['lr'] *= lr_decay\n",
    "\n",
    "    loss_train = trainer.train(dataset_train)\n",
    "\n",
    "    if task == 'regression':\n",
    "        prediction_dev = tester.test_regressor(dataset_dev)\n",
    "        prediction_test = tester.test_regressor(dataset_test)\n",
    "\n",
    "    time = timeit.default_timer() - start\n",
    "\n",
    "    if epoch == 1:\n",
    "        minutes = time * iteration / 60\n",
    "        hours = int(minutes / 60)\n",
    "        minutes = int(minutes - 60 * hours)\n",
    "        print('The training will finish in about',\n",
    "              hours, 'hours', minutes, 'minutes.')\n",
    "        print('-'*100)\n",
    "        print(result)\n",
    "\n",
    "    result = '\\t'.join(map(str, [epoch, time, loss_train,\n",
    "                                 prediction_dev, prediction_test]))\n",
    "    tester.save_result(result, file_result)\n",
    "\n",
    "    print(result)\n",
    "    all_loss_train.append(loss_train)\n",
    "    epoch += 1\n"
   ]
  },
  {
   "cell_type": "code",
   "execution_count": null,
   "metadata": {
    "id": "QvToUDTOcEfp"
   },
   "outputs": [],
   "source": []
  },
  {
   "cell_type": "code",
   "execution_count": null,
   "metadata": {
    "id": "Oy1ydxUQcEg7"
   },
   "outputs": [],
   "source": []
  },
  {
   "cell_type": "code",
   "execution_count": null,
   "metadata": {
    "id": "1_zQ4mwKcEi3"
   },
   "outputs": [],
   "source": []
  },
  {
   "cell_type": "code",
   "execution_count": null,
   "metadata": {
    "id": "69FxrnB0cElO"
   },
   "outputs": [],
   "source": []
  },
  {
   "cell_type": "code",
   "execution_count": null,
   "metadata": {
    "id": "Rey_pIRicEnJ"
   },
   "outputs": [],
   "source": []
  },
  {
   "cell_type": "code",
   "execution_count": null,
   "metadata": {
    "id": "_h6-29blcEpT"
   },
   "outputs": [],
   "source": []
  },
  {
   "cell_type": "code",
   "execution_count": null,
   "metadata": {
    "id": "MlgH8Ml5cEqs"
   },
   "outputs": [],
   "source": []
  },
  {
   "cell_type": "code",
   "execution_count": null,
   "metadata": {
    "id": "sl_nFh1ncEsh"
   },
   "outputs": [],
   "source": []
  },
  {
   "cell_type": "code",
   "execution_count": null,
   "metadata": {
    "id": "e0-2InUCcEuV"
   },
   "outputs": [],
   "source": []
  },
  {
   "cell_type": "code",
   "execution_count": null,
   "metadata": {
    "id": "koesXfC7cEwv"
   },
   "outputs": [],
   "source": []
  },
  {
   "cell_type": "code",
   "execution_count": null,
   "metadata": {
    "id": "ly2Cej6VcEzo"
   },
   "outputs": [],
   "source": []
  },
  {
   "cell_type": "code",
   "execution_count": null,
   "metadata": {
    "id": "F8F7VCZW4u0i"
   },
   "outputs": [],
   "source": [
    "!nvidia-smi"
   ]
  },
  {
   "cell_type": "code",
   "execution_count": null,
   "metadata": {
    "id": "xleiY0HNGIuR"
   },
   "outputs": [],
   "source": [
    "import torch\n",
    "torch.cuda.is_available()"
   ]
  },
  {
   "cell_type": "code",
   "execution_count": null,
   "metadata": {
    "id": "242SHvyRGPhA"
   },
   "outputs": [],
   "source": [
    "import tensorflow as tf\n",
    "tf.test.gpu_device_name()"
   ]
  },
  {
   "cell_type": "code",
   "execution_count": null,
   "metadata": {
    "id": "ySVkmnEIGRy0"
   },
   "outputs": [],
   "source": []
  }
 ],
 "metadata": {
  "colab": {
   "collapsed_sections": [
    "7Rv27Z-ucIS4",
    "ozSjdBhK58l9",
    "oeGs8LoyghSx",
    "weeqM98BkpaC"
   ],
   "name": "Drug Synergy Prediction",
   "provenance": []
  },
  "kernelspec": {
   "display_name": "Python 3 (ipykernel)",
   "language": "python",
   "name": "python3"
  },
  "language_info": {
   "codemirror_mode": {
    "name": "ipython",
    "version": 3
   },
   "file_extension": ".py",
   "mimetype": "text/x-python",
   "name": "python",
   "nbconvert_exporter": "python",
   "pygments_lexer": "ipython3",
   "version": "3.7.12"
  }
 },
 "nbformat": 4,
 "nbformat_minor": 4
}
