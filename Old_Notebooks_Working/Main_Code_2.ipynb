{
 "cells": [
  {
   "cell_type": "code",
   "execution_count": 4,
   "metadata": {},
   "outputs": [],
   "source": [
    "import pandas as pd\n",
    "import numpy as np\n",
    "import scipy.sparse as sp"
   ]
  },
  {
   "cell_type": "code",
   "execution_count": null,
   "metadata": {},
   "outputs": [],
   "source": [
    "pp_int = pd.read_csv(\"../Data/Processed/pp_int_updated.csv\")\n",
    "display(pp_int.shape)\n",
    "display(pp_int.head())"
   ]
  },
  {
   "cell_type": "code",
   "execution_count": 3,
   "metadata": {},
   "outputs": [
    {
     "data": {
      "text/plain": [
       "(261342, 2)"
      ]
     },
     "metadata": {},
     "output_type": "display_data"
    },
    {
     "data": {
      "text/html": [
       "<div>\n",
       "<style scoped>\n",
       "    .dataframe tbody tr th:only-of-type {\n",
       "        vertical-align: middle;\n",
       "    }\n",
       "\n",
       "    .dataframe tbody tr th {\n",
       "        vertical-align: top;\n",
       "    }\n",
       "\n",
       "    .dataframe thead th {\n",
       "        text-align: right;\n",
       "    }\n",
       "</style>\n",
       "<table border=\"1\" class=\"dataframe\">\n",
       "  <thead>\n",
       "    <tr style=\"text-align: right;\">\n",
       "      <th></th>\n",
       "      <th>Protein1</th>\n",
       "      <th>Protein2</th>\n",
       "    </tr>\n",
       "  </thead>\n",
       "  <tbody>\n",
       "    <tr>\n",
       "      <th>0</th>\n",
       "      <td>1394</td>\n",
       "      <td>2778</td>\n",
       "    </tr>\n",
       "    <tr>\n",
       "      <th>1</th>\n",
       "      <td>122704</td>\n",
       "      <td>54460</td>\n",
       "    </tr>\n",
       "    <tr>\n",
       "      <th>2</th>\n",
       "      <td>2597</td>\n",
       "      <td>2911</td>\n",
       "    </tr>\n",
       "    <tr>\n",
       "      <th>3</th>\n",
       "      <td>4790</td>\n",
       "      <td>79155</td>\n",
       "    </tr>\n",
       "    <tr>\n",
       "      <th>4</th>\n",
       "      <td>109</td>\n",
       "      <td>27115</td>\n",
       "    </tr>\n",
       "  </tbody>\n",
       "</table>\n",
       "</div>"
      ],
      "text/plain": [
       "   Protein1  Protein2\n",
       "0      1394      2778\n",
       "1    122704     54460\n",
       "2      2597      2911\n",
       "3      4790     79155\n",
       "4       109     27115"
      ]
     },
     "metadata": {},
     "output_type": "display_data"
    }
   ],
   "source": []
  },
  {
   "cell_type": "code",
   "execution_count": 5,
   "metadata": {},
   "outputs": [
    {
     "ename": "NameError",
     "evalue": "name 'data_for_gnn_gcn' is not defined",
     "output_type": "error",
     "traceback": [
      "\u001b[1;31m---------------------------------------------------------------------------\u001b[0m",
      "\u001b[1;31mNameError\u001b[0m                                 Traceback (most recent call last)",
      "\u001b[1;32m~\\AppData\\Local\\Temp\\ipykernel_19860\\3722653398.py\u001b[0m in \u001b[0;36m<module>\u001b[1;34m\u001b[0m\n\u001b[0;32m      1\u001b[0m \u001b[1;31m## Create dummy adjacency matrix for now\u001b[0m\u001b[1;33m\u001b[0m\u001b[1;33m\u001b[0m\u001b[1;33m\u001b[0m\u001b[0m\n\u001b[0;32m      2\u001b[0m \u001b[1;32mimport\u001b[0m \u001b[0mscipy\u001b[0m\u001b[1;33m.\u001b[0m\u001b[0msparse\u001b[0m \u001b[1;32mas\u001b[0m \u001b[0msp\u001b[0m\u001b[1;33m\u001b[0m\u001b[1;33m\u001b[0m\u001b[0m\n\u001b[1;32m----> 3\u001b[1;33m \u001b[0madj\u001b[0m \u001b[1;33m=\u001b[0m \u001b[0msp\u001b[0m\u001b[1;33m.\u001b[0m\u001b[0mcoo_matrix\u001b[0m\u001b[1;33m(\u001b[0m\u001b[1;33m(\u001b[0m\u001b[0mlen\u001b[0m\u001b[1;33m(\u001b[0m\u001b[0mdata_for_gnn_gcn\u001b[0m\u001b[1;33m)\u001b[0m\u001b[1;33m,\u001b[0m \u001b[0mlen\u001b[0m\u001b[1;33m(\u001b[0m\u001b[0mdata_for_gnn_gcn\u001b[0m\u001b[1;33m)\u001b[0m\u001b[1;33m)\u001b[0m\u001b[1;33m,\u001b[0m \u001b[0mdtype\u001b[0m\u001b[1;33m=\u001b[0m\u001b[0mnp\u001b[0m\u001b[1;33m.\u001b[0m\u001b[0mfloat32\u001b[0m\u001b[1;33m)\u001b[0m\u001b[1;33m.\u001b[0m\u001b[0mtoarray\u001b[0m\u001b[1;33m(\u001b[0m\u001b[1;33m)\u001b[0m\u001b[1;33m\u001b[0m\u001b[1;33m\u001b[0m\u001b[0m\n\u001b[0m\u001b[0;32m      4\u001b[0m \u001b[1;31m# type(sp.csr_matrix(adj))\u001b[0m\u001b[1;33m\u001b[0m\u001b[1;33m\u001b[0m\u001b[1;33m\u001b[0m\u001b[0m\n\u001b[0;32m      5\u001b[0m \u001b[1;33m\u001b[0m\u001b[0m\n",
      "\u001b[1;31mNameError\u001b[0m: name 'data_for_gnn_gcn' is not defined"
     ]
    }
   ],
   "source": [
    "\n",
    "adj = sp.coo_matrix((len(data_for_gnn_gcn), len(data_for_gnn_gcn)), dtype=np.float32).toarray()\n",
    "# type(sp.csr_matrix(adj))\n",
    "\n",
    "# build symmetric adjacency matrix\n",
    "# adj = adj + np.matmul(adj.T, adj.T > adj) - np.matmul(adj, adj.T > adj)\n",
    "# adj\n",
    "#\n",
    "def get_adjacency_matrix(df):\n",
    "  df = pd.crosstab(df.Protein1, df.Protein2)\n",
    "  idx = df.columns.union(df.index)\n",
    "  df = df.reindex(index = idx, columns=idx, fill_value=0)\n",
    "\n",
    "csc = sp.csc_matrix((np.ones_like(df['A']), (df['A'],df['B'])))\n",
    "csc.toarray()\n",
    "\n",
    "# Doing this in sparse matrix multiplication\n",
    "adj_sp = sp.csr_matrix(adj)\n",
    "adj_sp = adj_sp + adj_sp.T.multiply(adj_sp.T > adj_sp) - adj_sp.multiply(adj_sp.T > adj_sp)"
   ]
  },
  {
   "cell_type": "code",
   "execution_count": null,
   "metadata": {},
   "outputs": [],
   "source": []
  },
  {
   "cell_type": "code",
   "execution_count": null,
   "metadata": {},
   "outputs": [],
   "source": []
  },
  {
   "cell_type": "code",
   "execution_count": null,
   "metadata": {},
   "outputs": [],
   "source": []
  },
  {
   "cell_type": "code",
   "execution_count": null,
   "metadata": {},
   "outputs": [],
   "source": []
  },
  {
   "cell_type": "code",
   "execution_count": null,
   "metadata": {},
   "outputs": [],
   "source": []
  },
  {
   "cell_type": "code",
   "execution_count": null,
   "metadata": {},
   "outputs": [],
   "source": []
  },
  {
   "cell_type": "code",
   "execution_count": null,
   "metadata": {},
   "outputs": [],
   "source": []
  },
  {
   "cell_type": "code",
   "execution_count": null,
   "metadata": {},
   "outputs": [],
   "source": []
  },
  {
   "cell_type": "code",
   "execution_count": null,
   "metadata": {},
   "outputs": [],
   "source": [
    "# Tester Code 1\n",
    "# ----------------------------------------------------------------\n",
    "\n",
    "\n",
    "# Run the main code function: \n",
    "task = 'regression'\n",
    "dataset = ''\n",
    "radius = 3\n",
    "dim = 50\n",
    "layer_hidden=6\n",
    "layer_output=6\n",
    "\n",
    "batch_train=32\n",
    "batch_test=32\n",
    "lr=1e-4\n",
    "lr_decay=0.99\n",
    "decay_interval=10\n",
    "iteration=5\n",
    "\n",
    "#     (task, dataset, radius, dim, layer_hidden, layer_output,\n",
    "#      batch_train, batch_test, lr, lr_decay, decay_interval, iteration,\n",
    "#      setting) = sys.argv[1:]\n",
    "(radius, dim, layer_hidden, layer_output,\n",
    "  batch_train, batch_test, decay_interval,\n",
    "  iteration) = map(int, [radius, dim, layer_hidden, layer_output,\n",
    "                        batch_train, batch_test,\n",
    "                        decay_interval, iteration])\n",
    "lr, lr_decay = map(float, [lr, lr_decay])\n",
    "#     device = torch.device('cuda')\n",
    "# device = torch.device('cuda')\n",
    "\n",
    "if torch.cuda.is_available():\n",
    "    device = torch.device('cuda')\n",
    "    print('The code uses a GPU!')\n",
    "else:\n",
    "    device = torch.device('cpu')\n",
    "    print('The code uses a CPU...')\n",
    "#     print('-'*100)\n",
    "\n",
    "print('Preprocessing the GNN', dataset, 'dataset.')\n",
    "print('Just a moment......')\n",
    "non_working_index = check_for_non_working_smiles(data_for_gnn_gcn)\n",
    "# Remove the index which were skipped\n",
    "data_for_gnn_gcn = data_for_gnn_gcn.drop(non_working_index, axis = 0).reset_index().drop(['index'], axis=1)\n",
    "# data_for_gnn_gcn_new.shape\n",
    "\n",
    "# ==============================================================================================\n",
    "\n",
    "# (dataset_train, dataset_dev, dataset_test,\n",
    "#   N_fingerprints, final_index) = create_datasets(task, data_for_gnn_gcn, radius, device)\n",
    "# print('-'*100)\n",
    "(dataset_train, dataset_test,\n",
    "  N_fingerprints, final_index) = create_datasets(task, data_for_gnn_gcn, radius, device)\n",
    "print('-'*100)\n",
    "\n",
    "\n",
    "# dataset_train = dataset_train[:100]\n",
    "# dataset_dev = dataset_dev[-500:]\n",
    "\n",
    "print('The preprocess has finished!')\n",
    "print('# of training data samples:', len(dataset_train))\n",
    "# print('# of development data samples:', len(dataset_dev))\n",
    "print('# of test data samples:', len(dataset_test))\n",
    "print('-'*100)\n"
   ]
  }
 ],
 "metadata": {
  "kernelspec": {
   "display_name": "bioinformatics",
   "language": "python",
   "name": "python3"
  },
  "language_info": {
   "codemirror_mode": {
    "name": "ipython",
    "version": 3
   },
   "file_extension": ".py",
   "mimetype": "text/x-python",
   "name": "python",
   "nbconvert_exporter": "python",
   "pygments_lexer": "ipython3",
   "version": "3.7.12"
  }
 },
 "nbformat": 4,
 "nbformat_minor": 2
}
